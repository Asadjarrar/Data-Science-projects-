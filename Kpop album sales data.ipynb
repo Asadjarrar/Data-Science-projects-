{
 "cells": [
  {
   "cell_type": "markdown",
   "metadata": {
    "application/vnd.databricks.v1+cell": {
     "cellMetadata": {},
     "inputWidgets": {},
     "nuid": "38685f7a-80b9-42d4-a09e-4fc8d07a0d50",
     "showTitle": false,
     "tableResultSettingsMap": {},
     "title": ""
    }
   },
   "source": [
    "The purpose of this project is to analyze K-pop album sales data and build a predictive model that explains and forecasts sales performance. By cleaning the dataset, exploring key factors such as chart position, release timing, and cumulative sales, and then applying a linear regression model, the project aims to identify which variables most strongly influence album success and to evaluate how accurately future sales can be predicted."
   ]
  },
  {
   "cell_type": "code",
   "execution_count": 0,
   "metadata": {
    "application/vnd.databricks.v1+cell": {
     "cellMetadata": {
      "byteLimit": 2048000,
      "rowLimit": 10000
     },
     "inputWidgets": {},
     "nuid": "0dce46a2-0f69-4c69-9b27-0513204a2d9d",
     "showTitle": false,
     "tableResultSettingsMap": {},
     "title": ""
    }
   },
   "outputs": [
    {
     "output_type": "stream",
     "name": "stdout",
     "output_type": "stream",
     "text": [
      "root\n |-- Artist: string (nullable = true)\n |-- title: string (nullable = true)\n |-- date: date (nullable = true)\n |-- country: string (nullable = true)\n |-- sales: string (nullable = true)\n |-- peak_chart: integer (nullable = true)\n\n"
     ]
    },
    {
     "output_type": "display_data",
     "data": {
      "text/html": [
       "<style scoped>\n",
       "  .table-result-container {\n",
       "    max-height: 300px;\n",
       "    overflow: auto;\n",
       "  }\n",
       "  table, th, td {\n",
       "    border: 1px solid black;\n",
       "    border-collapse: collapse;\n",
       "  }\n",
       "  th, td {\n",
       "    padding: 5px;\n",
       "  }\n",
       "  th {\n",
       "    text-align: left;\n",
       "  }\n",
       "</style><div class='table-result-container'><table class='table-result'><thead style='background-color: white'><tr><th>Artist</th><th>title</th><th>date</th><th>country</th><th>sales</th><th>peak_chart</th></tr></thead><tbody><tr><td>IZONE</td><td>Bloom*iz</td><td>2020-02-17</td><td>KOR</td><td>492504</td><td>2</td></tr><tr><td>IZONE</td><td>Bloom*iz</td><td>2020-02-17</td><td>JPN</td><td>23960</td><td>3</td></tr><tr><td>IZONE</td><td>TWELVE</td><td>2020-10-21</td><td>JPN</td><td>135113</td><td>1</td></tr><tr><td>IZONE</td><td>Color*Iz</td><td>2018-10-29</td><td>KOR</td><td>282816</td><td>2</td></tr><tr><td>IZONE</td><td>Color*Iz</td><td>2018-10-29</td><td>JPN</td><td>48,734</td><td>1</td></tr><tr><td>IZONE</td><td>Heart*Iz</td><td>2020-04-01</td><td>KOR</td><td>306812</td><td>1</td></tr><tr><td>IZONE</td><td>Heart*Iz</td><td>2020-04-01</td><td>JPN</td><td>40065</td><td>4</td></tr><tr><td>IZONE</td><td>Oneiric Diary</td><td>2020-06-15</td><td>KOR</td><td>559138</td><td>2</td></tr><tr><td>IZONE</td><td>Oneiric Diary</td><td>2020-06-15</td><td>JPN</td><td>19928</td><td>8</td></tr><tr><td>IZONE</td><td>One-reeler/Act IV</td><td>2020-12-07</td><td>KOR</td><td>447749</td><td>1</td></tr><tr><td>ITZY</td><td>It'z Icy</td><td>2019-05-29</td><td>KOR</td><td>149349</td><td>3</td></tr><tr><td>ITZY</td><td>It'z Icy</td><td>2019-05-29</td><td>JPN</td><td>15742</td><td>12</td></tr><tr><td>ITZY</td><td>It'z Me</td><td>2020-03-09</td><td>KOR</td><td>150851</td><td>1</td></tr><tr><td>ITZY</td><td>It'z Me</td><td>2020-03-09</td><td>JPN</td><td>10882</td><td>13</td></tr><tr><td>ITZY</td><td>Not Shy</td><td>2020-08-17</td><td>KOR</td><td>219048</td><td>1</td></tr><tr><td>ITZY</td><td>Not Shy</td><td>2020-08-17</td><td>JPN</td><td>14201</td><td>8</td></tr><tr><td>Stray Kids</td><td>In Life</td><td>2020-09-14</td><td>KOR</td><td>473616</td><td>1</td></tr><tr><td>Stray Kids</td><td>In Life</td><td>2020-09-14</td><td>JPN</td><td>39911</td><td>11</td></tr><tr><td>Stray Kids</td><td>Mixtape</td><td>2018-01-08</td><td>KOR</td><td>118921</td><td>2</td></tr><tr><td>Stray Kids</td><td>Mixtape</td><td>2018-01-08</td><td>JPN</td><td>1063</td><td>47</td></tr><tr><td>Stray Kids</td><td>I Am Not</td><td>2018-03-26</td><td>KOR</td><td>159343</td><td>4</td></tr><tr><td>Stray Kids</td><td>I Am Not</td><td>2018-03-26</td><td>JPN</td><td>2036</td><td>0</td></tr><tr><td>Stray Kids</td><td>I Am Who</td><td>2018-08-06</td><td>KOR</td><td>185273</td><td>3</td></tr><tr><td>Stray Kids</td><td>I Am Who</td><td>2018-08-06</td><td>JPN</td><td>1474</td><td>34</td></tr><tr><td>Stray Kids</td><td>I Am You</td><td>2018-10-22</td><td>KOR</td><td>189129</td><td>2</td></tr><tr><td>Stray Kids</td><td>I Am You</td><td>2018-10-22</td><td>JPN</td><td>2234</td><td>34</td></tr><tr><td>Stray Kids</td><td>Miroh</td><td>2019-03-25</td><td>KOR</td><td>226383</td><td>1</td></tr><tr><td>Stray Kids</td><td>Miroh</td><td>2019-03-25</td><td>JPN</td><td>5856</td><td>15</td></tr><tr><td>Stray Kids</td><td>Yellow Wood</td><td>2019-06-19</td><td>KOR</td><td>192796</td><td>2</td></tr><tr><td>Stray Kids</td><td>Yellow Wood</td><td>2019-06-19</td><td>JPN</td><td>3379</td><td>17</td></tr><tr><td>Stray Kids</td><td>Levanter</td><td>2019-12-09</td><td>KOR</td><td>247074</td><td>1</td></tr><tr><td>Stray Kids</td><td>Levanter</td><td>2019-12-09</td><td>JPN</td><td>9116</td><td>17</td></tr><tr><td>Stray Kids</td><td>All In</td><td>2020-11-04</td><td>JPN</td><td>59361</td><td>2</td></tr><tr><td>Treasure</td><td>Treasure Effect</td><td>2021-01-11</td><td>KOR</td><td>307457</td><td>1</td></tr><tr><td>Treasure</td><td>Treasure Effect</td><td>2021-01-11</td><td>JPN</td><td>83755</td><td>1</td></tr><tr><td>Treasure</td><td>Chapter One</td><td>2020-08-07</td><td>KOR</td><td>250000</td><td>1</td></tr><tr><td>Treasure</td><td>Chapter Two</td><td>2020-09-18</td><td>KOR</td><td>239326</td><td>2</td></tr><tr><td>Treasure</td><td>Chapter Three</td><td>2020-11-06</td><td>KOR</td><td>232134</td><td>1</td></tr><tr><td>TXT</td><td>Magic</td><td>2019-10-21</td><td>KOR</td><td>300910</td><td>1</td></tr><tr><td>TXT</td><td>Magic</td><td>2019-10-21</td><td>JPN</td><td>14296</td><td>11</td></tr><tr><td>TXT</td><td>Still Dreaming</td><td>2021-01-20</td><td>JPN</td><td>102041</td><td>1</td></tr><tr><td>TXT</td><td>Star</td><td>2019-03-04</td><td>KOR</td><td>278846</td><td>1</td></tr><tr><td>TXT</td><td>Star</td><td>2019-03-04</td><td>JPN</td><td>26176</td><td>3</td></tr><tr><td>TXT</td><td>Eternity</td><td>2020-05-18</td><td>KOR</td><td>379053</td><td>2</td></tr><tr><td>TXT</td><td>Eternity</td><td>2020-05-18</td><td>JPN</td><td>38814</td><td>1</td></tr><tr><td>TXT</td><td>Blue Hour</td><td>2020-10-26</td><td>KOR</td><td>508626</td><td>1</td></tr><tr><td>TXT</td><td>Blue Hour</td><td>2020-10-26</td><td>JPN</td><td>43870</td><td>1</td></tr><tr><td>(G)I-dle</td><td>Dumdi Dumdi</td><td>2020-08-03</td><td>KOR</td><td>125801</td><td>2</td></tr><tr><td>(G)I-dle</td><td>Dumdi Dumdi</td><td>2020-08-03</td><td>CHN</td><td>182749</td><td>0</td></tr><tr><td>(G)I-dle</td><td>I Am</td><td>2018-05-02</td><td>KOR</td><td>51831</td><td>6</td></tr><tr><td>(G)I-dle</td><td>I Made</td><td>2019-02-26</td><td>KOR</td><td>51041</td><td>2</td></tr><tr><td>(G)I-dle</td><td>I Trust</td><td>2020-04-06</td><td>KOR</td><td>154499</td><td>1</td></tr><tr><td>(G)I-dle</td><td>I Trust</td><td>2020-04-06</td><td>JPN</td><td>1380</td><td>48</td></tr><tr><td>(G)I-dle</td><td>I Burn</td><td>2021-01-11</td><td>KOR</td><td>207927</td><td>3</td></tr><tr><td>(G)I-dle</td><td>Latata</td><td>2019-07-29</td><td>JPN</td><td>8229</td><td>5</td></tr><tr><td>(G)I-dle</td><td>Oh My God</td><td>2020-08-26</td><td>JPN</td><td>4229</td><td>23</td></tr><tr><td>Cravity</td><td>Season 1. Hideout: Remember Who We Are</td><td>2020-04-14</td><td>KOR</td><td>154360</td><td>1</td></tr><tr><td>Cravity</td><td>Season 1. Hideout: Remember Who We Are</td><td>2020-04-14</td><td>JPN</td><td>7304</td><td>10</td></tr><tr><td>Cravity</td><td>Season 2. Hideout: The New Day We Step Into\t\n",
       "</td><td>null</td><td>null</td><td>null</td><td>null</td></tr><tr><td>,4/24/2020,KOR,166644,1\n",
       "</td><td>null</td><td>null</td><td>null</td><td>null</td><td>null</td></tr><tr><td>Cravity</td><td>Season 2. Hideout: The New Day We Step Into\t\n",
       "</td><td>null</td><td>null</td><td>null</td><td>null</td></tr><tr><td>,4/24/2020,JPN,10966,15\n",
       "</td><td>null</td><td>null</td><td>null</td><td>null</td><td>null</td></tr><tr><td>Cravity</td><td>Season 2. Hideout: The New Day We Step Into\t\n",
       "</td><td>null</td><td>null</td><td>null</td><td>null</td></tr><tr><td>,1/19/2021,KOR,162136,3\n",
       "</td><td>null</td><td>null</td><td>null</td><td>null</td><td>null</td></tr><tr><td>Cravity</td><td>Season 2. Hideout: The New Day We Step Into\t\n",
       "</td><td>null</td><td>null</td><td>null</td><td>null</td></tr><tr><td>,1/19/2021,JPN,8869,12\n",
       "</td><td>null</td><td>null</td><td>null</td><td>null</td><td>null</td></tr><tr><td>Verivery</td><td>Veri-Us\t\n",
       "</td><td>null</td><td>null</td><td>null</td><td>null</td></tr><tr><td>,1/9/2019,KOR,24080,4\n",
       "</td><td>null</td><td>null</td><td>null</td><td>null</td><td>null</td></tr><tr><td>Verivery</td><td>Veri-Able</td><td>2019-04-24</td><td>KOR</td><td>17630</td><td>6</td></tr><tr><td>Verivery</td><td>Face Me</td><td>2020-01-07</td><td>KOR</td><td>28440</td><td>4</td></tr><tr><td>Verivery</td><td>Face You</td><td>2020-07-01</td><td>KOR</td><td>39626</td><td>8</td></tr><tr><td>Verivery</td><td>Face Us</td><td>2020-10-13</td><td>KOR</td><td>59704</td><td>7</td></tr><tr><td>Verivery</td><td>Veri-Chill</td><td>2019-07-31</td><td>KOR</td><td>16698</td><td>10</td></tr><tr><td>Verivery</td><td>Series 'O' Round 1: Hall</td><td>2021-03-02</td><td>KOR</td><td>49999</td><td>4</td></tr><tr><td>Loona</td><td>[ + +]</td><td>2018-08-20</td><td>KOR</td><td>61466</td><td>2</td></tr><tr><td>Loona</td><td>[#]</td><td>2020-02-05</td><td>KOR</td><td>83522</td><td>2</td></tr><tr><td>Loona</td><td>[12:00]</td><td>2020-10-19</td><td>KOR</td><td>116614</td><td>4</td></tr><tr><td>Loona</td><td>Love & Live</td><td>2017-03-13</td><td>KOR</td><td>7130</td><td>10</td></tr><tr><td>Loona</td><td>Mix & Match</td><td>2017-09-21</td><td>KOR</td><td>7869</td><td>16</td></tr><tr><td>Loona</td><td>beauty&thebeat</td><td>2018-05-30</td><td>KOR</td><td>18138</td><td>4</td></tr><tr><td>Loona</td><td>[x x]</td><td>2019-02-19</td><td>KOR</td><td>45782</td><td>3</td></tr><tr><td>Loona</td><td>Love & Evil</td><td>2017-04-27</td><td>KOR</td><td>5924</td><td>24</td></tr><tr><td>Loona</td><td>Max & Match </td><td>2017-10-31</td><td>KOR</td><td>11136</td><td>7</td></tr><tr><td>Ateez</td><td>Treasure EP.Fin: All to Action</td><td>2019-10-08</td><td>KOR</td><td>209316</td><td>1</td></tr><tr><td>Ateez</td><td>Treasure EP.Extra: Shift the Map</td><td>2019-12-04</td><td>JPN</td><td>13113</td><td>9</td></tr><tr><td>Ateez</td><td>Into the A to Z</td><td>2021-03-24</td><td>JPN</td><td>10813</td><td>6</td></tr><tr><td>Ateez</td><td>Treasure EP.1: All to Zero</td><td>2018-10-24</td><td>KOR</td><td>85109</td><td>7</td></tr><tr><td>Ateez</td><td>Treasure EP.2: Zero to One</td><td>2019-01-15</td><td>KOR</td><td>100039</td><td>6</td></tr><tr><td>Ateez</td><td>Treasure EP.3: One to All</td><td>2019-06-10</td><td>KOR</td><td>180121</td><td>2</td></tr><tr><td>Ateez</td><td>Treasure EP.3: One to All</td><td>2019-06-10</td><td>JPN</td><td>2896</td><td>25</td></tr><tr><td>Ateez</td><td>Treasure Epilogue: Action to Answer</td><td>2020-01-06</td><td>KOR</td><td>184339</td><td>1</td></tr><tr><td>Ateez</td><td>Treasure Epilogue: Action to Answer</td><td>2020-01-06</td><td>JPN</td><td>1472</td><td>31</td></tr><tr><td>Ateez</td><td>Treasure EP. Map to Answer</td><td>2020-02-12</td><td>JPN</td><td>18720</td><td>3</td></tr><tr><td>Ateez</td><td>Zero: Fever Part.1</td><td>2020-07-29</td><td>KOR</td><td>379505</td><td>1</td></tr><tr><td>Ateez</td><td>Zero: Fever Part.1</td><td>2020-07-29</td><td>JPN</td><td>11324</td><td>35</td></tr><tr><td>Ateez</td><td>Zero: Fever Part.2</td><td>2021-03-01</td><td>KOR</td><td>380711</td><td>1</td></tr><tr><td>Ateez</td><td>Zero: Fever Part.2</td><td>2021-03-01</td><td>JPN</td><td>11027</td><td>10</td></tr><tr><td>Everglow</td><td>Reminiscence</td><td>2020-02-03</td><td>KOR</td><td>30912</td><td>4</td></tr><tr><td>Everglow</td><td>Reminiscence</td><td>2020-02-03</td><td>JPN</td><td>1649</td><td>48</td></tr><tr><td>Everglow</td><td>-77.82X-78.29</td><td>2020-09-21</td><td>KOR</td><td>49388</td><td>4</td></tr><tr><td>Everglow</td><td>Arrival of Everglow</td><td>2019-03-18</td><td>KOR</td><td>28033</td><td>6</td></tr><tr><td>Everglow</td><td>Hush</td><td>2019-08-19</td><td>KOR</td><td>28639</td><td>5</td></tr></tbody></table></div>"
      ]
     },
     "metadata": {
      "application/vnd.databricks.v1+output": {
       "addedWidgets": {},
       "aggData": [],
       "aggError": "",
       "aggOverflow": false,
       "aggSchema": [],
       "aggSeriesLimitReached": false,
       "aggType": "",
       "arguments": {},
       "columnCustomDisplayInfos": {},
       "data": [
        [
         "IZONE",
         "Bloom*iz",
         "2020-02-17",
         "KOR",
         "492504",
         2
        ],
        [
         "IZONE",
         "Bloom*iz",
         "2020-02-17",
         "JPN",
         "23960",
         3
        ],
        [
         "IZONE",
         "TWELVE",
         "2020-10-21",
         "JPN",
         "135113",
         1
        ],
        [
         "IZONE",
         "Color*Iz",
         "2018-10-29",
         "KOR",
         "282816",
         2
        ],
        [
         "IZONE",
         "Color*Iz",
         "2018-10-29",
         "JPN",
         "48,734",
         1
        ],
        [
         "IZONE",
         "Heart*Iz",
         "2020-04-01",
         "KOR",
         "306812",
         1
        ],
        [
         "IZONE",
         "Heart*Iz",
         "2020-04-01",
         "JPN",
         "40065",
         4
        ],
        [
         "IZONE",
         "Oneiric Diary",
         "2020-06-15",
         "KOR",
         "559138",
         2
        ],
        [
         "IZONE",
         "Oneiric Diary",
         "2020-06-15",
         "JPN",
         "19928",
         8
        ],
        [
         "IZONE",
         "One-reeler/Act IV",
         "2020-12-07",
         "KOR",
         "447749",
         1
        ],
        [
         "ITZY",
         "It'z Icy",
         "2019-05-29",
         "KOR",
         "149349",
         3
        ],
        [
         "ITZY",
         "It'z Icy",
         "2019-05-29",
         "JPN",
         "15742",
         12
        ],
        [
         "ITZY",
         "It'z Me",
         "2020-03-09",
         "KOR",
         "150851",
         1
        ],
        [
         "ITZY",
         "It'z Me",
         "2020-03-09",
         "JPN",
         "10882",
         13
        ],
        [
         "ITZY",
         "Not Shy",
         "2020-08-17",
         "KOR",
         "219048",
         1
        ],
        [
         "ITZY",
         "Not Shy",
         "2020-08-17",
         "JPN",
         "14201",
         8
        ],
        [
         "Stray Kids",
         "In Life",
         "2020-09-14",
         "KOR",
         "473616",
         1
        ],
        [
         "Stray Kids",
         "In Life",
         "2020-09-14",
         "JPN",
         "39911",
         11
        ],
        [
         "Stray Kids",
         "Mixtape",
         "2018-01-08",
         "KOR",
         "118921",
         2
        ],
        [
         "Stray Kids",
         "Mixtape",
         "2018-01-08",
         "JPN",
         "1063",
         47
        ],
        [
         "Stray Kids",
         "I Am Not",
         "2018-03-26",
         "KOR",
         "159343",
         4
        ],
        [
         "Stray Kids",
         "I Am Not",
         "2018-03-26",
         "JPN",
         "2036",
         0
        ],
        [
         "Stray Kids",
         "I Am Who",
         "2018-08-06",
         "KOR",
         "185273",
         3
        ],
        [
         "Stray Kids",
         "I Am Who",
         "2018-08-06",
         "JPN",
         "1474",
         34
        ],
        [
         "Stray Kids",
         "I Am You",
         "2018-10-22",
         "KOR",
         "189129",
         2
        ],
        [
         "Stray Kids",
         "I Am You",
         "2018-10-22",
         "JPN",
         "2234",
         34
        ],
        [
         "Stray Kids",
         "Miroh",
         "2019-03-25",
         "KOR",
         "226383",
         1
        ],
        [
         "Stray Kids",
         "Miroh",
         "2019-03-25",
         "JPN",
         "5856",
         15
        ],
        [
         "Stray Kids",
         "Yellow Wood",
         "2019-06-19",
         "KOR",
         "192796",
         2
        ],
        [
         "Stray Kids",
         "Yellow Wood",
         "2019-06-19",
         "JPN",
         "3379",
         17
        ],
        [
         "Stray Kids",
         "Levanter",
         "2019-12-09",
         "KOR",
         "247074",
         1
        ],
        [
         "Stray Kids",
         "Levanter",
         "2019-12-09",
         "JPN",
         "9116",
         17
        ],
        [
         "Stray Kids",
         "All In",
         "2020-11-04",
         "JPN",
         "59361",
         2
        ],
        [
         "Treasure",
         "Treasure Effect",
         "2021-01-11",
         "KOR",
         "307457",
         1
        ],
        [
         "Treasure",
         "Treasure Effect",
         "2021-01-11",
         "JPN",
         "83755",
         1
        ],
        [
         "Treasure",
         "Chapter One",
         "2020-08-07",
         "KOR",
         "250000",
         1
        ],
        [
         "Treasure",
         "Chapter Two",
         "2020-09-18",
         "KOR",
         "239326",
         2
        ],
        [
         "Treasure",
         "Chapter Three",
         "2020-11-06",
         "KOR",
         "232134",
         1
        ],
        [
         "TXT",
         "Magic",
         "2019-10-21",
         "KOR",
         "300910",
         1
        ],
        [
         "TXT",
         "Magic",
         "2019-10-21",
         "JPN",
         "14296",
         11
        ],
        [
         "TXT",
         "Still Dreaming",
         "2021-01-20",
         "JPN",
         "102041",
         1
        ],
        [
         "TXT",
         "Star",
         "2019-03-04",
         "KOR",
         "278846",
         1
        ],
        [
         "TXT",
         "Star",
         "2019-03-04",
         "JPN",
         "26176",
         3
        ],
        [
         "TXT",
         "Eternity",
         "2020-05-18",
         "KOR",
         "379053",
         2
        ],
        [
         "TXT",
         "Eternity",
         "2020-05-18",
         "JPN",
         "38814",
         1
        ],
        [
         "TXT",
         "Blue Hour",
         "2020-10-26",
         "KOR",
         "508626",
         1
        ],
        [
         "TXT",
         "Blue Hour",
         "2020-10-26",
         "JPN",
         "43870",
         1
        ],
        [
         "(G)I-dle",
         "Dumdi Dumdi",
         "2020-08-03",
         "KOR",
         "125801",
         2
        ],
        [
         "(G)I-dle",
         "Dumdi Dumdi",
         "2020-08-03",
         "CHN",
         "182749",
         0
        ],
        [
         "(G)I-dle",
         "I Am",
         "2018-05-02",
         "KOR",
         "51831",
         6
        ],
        [
         "(G)I-dle",
         "I Made",
         "2019-02-26",
         "KOR",
         "51041",
         2
        ],
        [
         "(G)I-dle",
         "I Trust",
         "2020-04-06",
         "KOR",
         "154499",
         1
        ],
        [
         "(G)I-dle",
         "I Trust",
         "2020-04-06",
         "JPN",
         "1380",
         48
        ],
        [
         "(G)I-dle",
         "I Burn",
         "2021-01-11",
         "KOR",
         "207927",
         3
        ],
        [
         "(G)I-dle",
         "Latata",
         "2019-07-29",
         "JPN",
         "8229",
         5
        ],
        [
         "(G)I-dle",
         "Oh My God",
         "2020-08-26",
         "JPN",
         "4229",
         23
        ],
        [
         "Cravity",
         "Season 1. Hideout: Remember Who We Are",
         "2020-04-14",
         "KOR",
         "154360",
         1
        ],
        [
         "Cravity",
         "Season 1. Hideout: Remember Who We Are",
         "2020-04-14",
         "JPN",
         "7304",
         10
        ],
        [
         "Cravity",
         "Season 2. Hideout: The New Day We Step Into\t\n",
         null,
         null,
         null,
         null
        ],
        [
         ",4/24/2020,KOR,166644,1\n",
         null,
         null,
         null,
         null,
         null
        ],
        [
         "Cravity",
         "Season 2. Hideout: The New Day We Step Into\t\n",
         null,
         null,
         null,
         null
        ],
        [
         ",4/24/2020,JPN,10966,15\n",
         null,
         null,
         null,
         null,
         null
        ],
        [
         "Cravity",
         "Season 2. Hideout: The New Day We Step Into\t\n",
         null,
         null,
         null,
         null
        ],
        [
         ",1/19/2021,KOR,162136,3\n",
         null,
         null,
         null,
         null,
         null
        ],
        [
         "Cravity",
         "Season 2. Hideout: The New Day We Step Into\t\n",
         null,
         null,
         null,
         null
        ],
        [
         ",1/19/2021,JPN,8869,12\n",
         null,
         null,
         null,
         null,
         null
        ],
        [
         "Verivery",
         "Veri-Us\t\n",
         null,
         null,
         null,
         null
        ],
        [
         ",1/9/2019,KOR,24080,4\n",
         null,
         null,
         null,
         null,
         null
        ],
        [
         "Verivery",
         "Veri-Able",
         "2019-04-24",
         "KOR",
         "17630",
         6
        ],
        [
         "Verivery",
         "Face Me",
         "2020-01-07",
         "KOR",
         "28440",
         4
        ],
        [
         "Verivery",
         "Face You",
         "2020-07-01",
         "KOR",
         "39626",
         8
        ],
        [
         "Verivery",
         "Face Us",
         "2020-10-13",
         "KOR",
         "59704",
         7
        ],
        [
         "Verivery",
         "Veri-Chill",
         "2019-07-31",
         "KOR",
         "16698",
         10
        ],
        [
         "Verivery",
         "Series 'O' Round 1: Hall",
         "2021-03-02",
         "KOR",
         "49999",
         4
        ],
        [
         "Loona",
         "[ + +]",
         "2018-08-20",
         "KOR",
         "61466",
         2
        ],
        [
         "Loona",
         "[#]",
         "2020-02-05",
         "KOR",
         "83522",
         2
        ],
        [
         "Loona",
         "[12:00]",
         "2020-10-19",
         "KOR",
         "116614",
         4
        ],
        [
         "Loona",
         "Love & Live",
         "2017-03-13",
         "KOR",
         "7130",
         10
        ],
        [
         "Loona",
         "Mix & Match",
         "2017-09-21",
         "KOR",
         "7869",
         16
        ],
        [
         "Loona",
         "beauty&thebeat",
         "2018-05-30",
         "KOR",
         "18138",
         4
        ],
        [
         "Loona",
         "[x x]",
         "2019-02-19",
         "KOR",
         "45782",
         3
        ],
        [
         "Loona",
         "Love & Evil",
         "2017-04-27",
         "KOR",
         "5924",
         24
        ],
        [
         "Loona",
         "Max & Match ",
         "2017-10-31",
         "KOR",
         "11136",
         7
        ],
        [
         "Ateez",
         "Treasure EP.Fin: All to Action",
         "2019-10-08",
         "KOR",
         "209316",
         1
        ],
        [
         "Ateez",
         "Treasure EP.Extra: Shift the Map",
         "2019-12-04",
         "JPN",
         "13113",
         9
        ],
        [
         "Ateez",
         "Into the A to Z",
         "2021-03-24",
         "JPN",
         "10813",
         6
        ],
        [
         "Ateez",
         "Treasure EP.1: All to Zero",
         "2018-10-24",
         "KOR",
         "85109",
         7
        ],
        [
         "Ateez",
         "Treasure EP.2: Zero to One",
         "2019-01-15",
         "KOR",
         "100039",
         6
        ],
        [
         "Ateez",
         "Treasure EP.3: One to All",
         "2019-06-10",
         "KOR",
         "180121",
         2
        ],
        [
         "Ateez",
         "Treasure EP.3: One to All",
         "2019-06-10",
         "JPN",
         "2896",
         25
        ],
        [
         "Ateez",
         "Treasure Epilogue: Action to Answer",
         "2020-01-06",
         "KOR",
         "184339",
         1
        ],
        [
         "Ateez",
         "Treasure Epilogue: Action to Answer",
         "2020-01-06",
         "JPN",
         "1472",
         31
        ],
        [
         "Ateez",
         "Treasure EP. Map to Answer",
         "2020-02-12",
         "JPN",
         "18720",
         3
        ],
        [
         "Ateez",
         "Zero: Fever Part.1",
         "2020-07-29",
         "KOR",
         "379505",
         1
        ],
        [
         "Ateez",
         "Zero: Fever Part.1",
         "2020-07-29",
         "JPN",
         "11324",
         35
        ],
        [
         "Ateez",
         "Zero: Fever Part.2",
         "2021-03-01",
         "KOR",
         "380711",
         1
        ],
        [
         "Ateez",
         "Zero: Fever Part.2",
         "2021-03-01",
         "JPN",
         "11027",
         10
        ],
        [
         "Everglow",
         "Reminiscence",
         "2020-02-03",
         "KOR",
         "30912",
         4
        ],
        [
         "Everglow",
         "Reminiscence",
         "2020-02-03",
         "JPN",
         "1649",
         48
        ],
        [
         "Everglow",
         "-77.82X-78.29",
         "2020-09-21",
         "KOR",
         "49388",
         4
        ],
        [
         "Everglow",
         "Arrival of Everglow",
         "2019-03-18",
         "KOR",
         "28033",
         6
        ],
        [
         "Everglow",
         "Hush",
         "2019-08-19",
         "KOR",
         "28639",
         5
        ]
       ],
       "datasetInfos": [],
       "dbfsResultPath": null,
       "isJsonSchema": true,
       "metadata": {},
       "overflow": false,
       "plotOptions": {
        "customPlotOptions": {},
        "displayType": "table",
        "pivotAggregation": null,
        "pivotColumns": null,
        "xColumns": null,
        "yColumns": null
       },
       "removedWidgets": [],
       "schema": [
        {
         "metadata": "{}",
         "name": "Artist",
         "type": "\"string\""
        },
        {
         "metadata": "{}",
         "name": "title",
         "type": "\"string\""
        },
        {
         "metadata": "{\"__detected_date_formats\":\"M/d/yyyy\"}",
         "name": "date",
         "type": "\"date\""
        },
        {
         "metadata": "{}",
         "name": "country",
         "type": "\"string\""
        },
        {
         "metadata": "{}",
         "name": "sales",
         "type": "\"string\""
        },
        {
         "metadata": "{}",
         "name": "peak_chart",
         "type": "\"integer\""
        }
       ],
       "type": "table"
      }
     },
     "output_type": "display_data"
    }
   ],
   "source": [
    "path = \"/FileStore/tables/Kpop_4th_gen_Sales___Sheet1-1.csv\"\n",
    "df = spark.read.csv(path, header=True, inferSchema=True)\n",
    "df.printSchema()\n",
    "display(df)"
   ]
  },
  {
   "cell_type": "code",
   "execution_count": 0,
   "metadata": {
    "application/vnd.databricks.v1+cell": {
     "cellMetadata": {
      "byteLimit": 2048000,
      "rowLimit": 10000
     },
     "inputWidgets": {},
     "nuid": "e0c12612-92c0-4aa1-91a5-c1af85b5bf24",
     "showTitle": false,
     "tableResultSettingsMap": {},
     "title": ""
    }
   },
   "outputs": [],
   "source": [
    "#dropping all the null values\n",
    "df=df.dropna()"
   ]
  },
  {
   "cell_type": "code",
   "execution_count": 0,
   "metadata": {
    "application/vnd.databricks.v1+cell": {
     "cellMetadata": {
      "byteLimit": 2048000,
      "rowLimit": 10000
     },
     "inputWidgets": {},
     "nuid": "4c3ab6a3-265b-4168-b72c-a7260137e10a",
     "showTitle": false,
     "tableResultSettingsMap": {},
     "title": ""
    }
   },
   "outputs": [
    {
     "output_type": "stream",
     "name": "stdout",
     "output_type": "stream",
     "text": [
      "root\n |-- Artist: string (nullable = true)\n |-- title: string (nullable = true)\n |-- date: date (nullable = true)\n |-- country: string (nullable = true)\n |-- sales: integer (nullable = true)\n |-- peak_chart: integer (nullable = true)\n\n"
     ]
    }
   ],
   "source": [
    "from pyspark.sql.functions import sum, col\n",
    "#this is to change the sales column to integer so we can perform calculations on it\n",
    "df = df.withColumn('sales', col('sales').cast('integer'))\n",
    "df.printSchema()"
   ]
  },
  {
   "cell_type": "code",
   "execution_count": 0,
   "metadata": {
    "application/vnd.databricks.v1+cell": {
     "cellMetadata": {
      "byteLimit": 2048000,
      "rowLimit": 10000
     },
     "inputWidgets": {},
     "nuid": "91a7e4e9-98ba-4f87-926c-5f41fb146307",
     "showTitle": true,
     "tableResultSettingsMap": {},
     "title": ""
    }
   },
   "outputs": [
    {
     "output_type": "display_data",
     "data": {
      "text/html": [
       "<style scoped>\n",
       "  .table-result-container {\n",
       "    max-height: 300px;\n",
       "    overflow: auto;\n",
       "  }\n",
       "  table, th, td {\n",
       "    border: 1px solid black;\n",
       "    border-collapse: collapse;\n",
       "  }\n",
       "  th, td {\n",
       "    padding: 5px;\n",
       "  }\n",
       "  th {\n",
       "    text-align: left;\n",
       "  }\n",
       "</style><div class='table-result-container'><table class='table-result'><thead style='background-color: white'><tr><th>Artist</th><th>count</th></tr></thead><tbody><tr><td>IZONE</td><td>10</td></tr><tr><td>Ateez</td><td>14</td></tr><tr><td>Loona</td><td>9</td></tr><tr><td>TXT</td><td>9</td></tr><tr><td>Verivery</td><td>6</td></tr><tr><td>(G)I-dle</td><td>9</td></tr><tr><td>Treasure</td><td>5</td></tr><tr><td>Everglow</td><td>5</td></tr><tr><td>ITZY</td><td>6</td></tr><tr><td>Cravity</td><td>2</td></tr><tr><td>Stray Kids</td><td>17</td></tr></tbody></table></div>"
      ]
     },
     "metadata": {
      "application/vnd.databricks.v1+output": {
       "addedWidgets": {},
       "aggData": [],
       "aggError": "",
       "aggOverflow": false,
       "aggSchema": [],
       "aggSeriesLimitReached": false,
       "aggType": "",
       "arguments": {},
       "columnCustomDisplayInfos": {},
       "data": [
        [
         "IZONE",
         10
        ],
        [
         "Ateez",
         14
        ],
        [
         "Loona",
         9
        ],
        [
         "TXT",
         9
        ],
        [
         "Verivery",
         6
        ],
        [
         "(G)I-dle",
         9
        ],
        [
         "Treasure",
         5
        ],
        [
         "Everglow",
         5
        ],
        [
         "ITZY",
         6
        ],
        [
         "Cravity",
         2
        ],
        [
         "Stray Kids",
         17
        ]
       ],
       "datasetInfos": [],
       "dbfsResultPath": null,
       "isJsonSchema": true,
       "metadata": {},
       "overflow": false,
       "plotOptions": {
        "customPlotOptions": {},
        "displayType": "table",
        "pivotAggregation": null,
        "pivotColumns": null,
        "xColumns": null,
        "yColumns": null
       },
       "removedWidgets": [],
       "schema": [
        {
         "metadata": "{}",
         "name": "Artist",
         "type": "\"string\""
        },
        {
         "metadata": "{}",
         "name": "count",
         "type": "\"long\""
        }
       ],
       "type": "table"
      }
     },
     "output_type": "display_data"
    },
    {
     "output_type": "display_data",
     "data": {
      "text/plain": [
       "Databricks visualization. Run in Databricks to view."
      ]
     },
     "metadata": {
      "application/vnd.databricks.v1.subcommand+json": {
       "baseErrorDetails": null,
       "bindings": {},
       "collapsed": false,
       "command": "%python\n__backend_agg_display_orig = display\n__backend_agg_dfs = []\ndef __backend_agg_display_new(df):\n    __backend_agg_df_modules = [\"pandas.core.frame\", \"databricks.koalas.frame\", \"pyspark.sql.dataframe\", \"pyspark.pandas.frame\", \"pyspark.sql.connect.dataframe\"]\n    if (type(df).__module__ in __backend_agg_df_modules and type(df).__name__ == 'DataFrame') or isinstance(df, list):\n        __backend_agg_dfs.append(df)\n\ndisplay = __backend_agg_display_new\n\ndef __backend_agg_user_code_fn():\n    import base64\n    exec(base64.standard_b64decode(\"CQpmcm9tIHB5c3Bhcmsuc3FsLmZ1bmN0aW9ucyBpbXBvcnQgc3VtLCBhdmcsIG1heCwgY291bnQKI0hlcmUgd2UgYXJlIGxvb2tpbmcgYXQgdGhlIHdpdGggdGhlIG1vc3QgbnVtYmVyIG9mIHNvbmdzCmRpc3BsYXkoZGYuZ3JvdXBCeSgiQXJ0aXN0IikuY291bnQoKSkKCiNpZiB5b3Ugc2VlIHRoZSBwaWUgY2hhcnQgeW91IGNhbiBzZWUgdGhhdCBtb3N0IG9mIHRoZSBzb25ncyB3ZXJlIHByb2R1Y2VkIGJ5IFN0cmF5IGtpZHMuIFRoZSBzZWNvbmQgYXJ0aXN0IHdobyBwcm9kdWNlZCB0aGUgbW9zdCBzb25ncyBpcyBBdGVleiB3aXRoIDE1LjIlIG9mIHRoZSBzb25ncy4gQ3Jhdml0eSBwcm9kdWNlZCB0aGUgbGVhc3QgbnVtYmVyIG9mIHNvbmdzIHdpdGggb25seSBwcm9kdWNpbmcgMi4xNyUgb2YgdGhlbQ==\").decode())\n\ntry:\n    # run user code\n    __backend_agg_user_code_fn()\n\n    #reset display function\n    display = __backend_agg_display_orig\n\n    if len(__backend_agg_dfs) > 0:\n        # create a temp view\n        if type(__backend_agg_dfs[0]).__module__ == \"databricks.koalas.frame\":\n            # koalas dataframe\n            __backend_agg_dfs[0].to_spark().createOrReplaceTempView(\"DatabricksViewf103678\")\n        elif type(__backend_agg_dfs[0]).__module__ == \"pandas.core.frame\" or isinstance(__backend_agg_dfs[0], list):\n            # pandas dataframe\n            spark.createDataFrame(__backend_agg_dfs[0]).createOrReplaceTempView(\"DatabricksViewf103678\")\n        else:\n            __backend_agg_dfs[0].createOrReplaceTempView(\"DatabricksViewf103678\")\n        #run backend agg\n        display(spark.sql(\"\"\"WITH q AS (select * from DatabricksViewf103678) SELECT `Artist`,SUM(`count`) `column_6b1aaff616` FROM q GROUP BY `Artist`\"\"\"))\n    else:\n        displayHTML(\"dataframe no longer exists. If you're using dataframe.display(), use display(dataframe) instead.\")\n\n\nfinally:\n    spark.sql(\"drop view if exists DatabricksViewf103678\")\n    display = __backend_agg_display_orig\n    del __backend_agg_display_new\n    del __backend_agg_display_orig\n    del __backend_agg_dfs\n    del __backend_agg_user_code_fn\n\n",
       "commandTitle": "Visualization 1",
       "commandType": "auto",
       "commandVersion": 0,
       "commentThread": [],
       "commentsVisible": false,
       "contentSha256Hex": null,
       "customPlotOptions": {
        "redashChart": [
         {
          "key": "type",
          "value": "CHART"
         },
         {
          "key": "options",
          "value": {
           "alignYAxesAtZero": true,
           "coefficient": 1,
           "columnConfigurationMap": {
            "x": {
             "column": "Artist",
             "id": "column_6b1aaff615"
            },
            "y": [
             {
              "column": "count",
              "id": "column_6b1aaff616",
              "transform": "SUM"
             }
            ]
           },
           "dateTimeFormat": "DD/MM/YYYY HH:mm",
           "direction": {
            "type": "counterclockwise"
           },
           "error_y": {
            "type": "data",
            "visible": true
           },
           "globalSeriesType": "pie",
           "legend": {
            "traceorder": "normal"
           },
           "missingValuesAsZero": true,
           "numberFormat": "0,0.[00000]",
           "percentFormat": "0[.]00%",
           "series": {
            "error_y": {
             "type": "data",
             "visible": true
            },
            "stacking": null
           },
           "seriesOptions": {
            "column_6b1aaff616": {
             "name": "count",
             "type": "pie",
             "yAxis": 0
            }
           },
           "showDataLabels": true,
           "sizemode": "diameter",
           "sortX": true,
           "sortY": true,
           "swappedAxes": false,
           "textFormat": "",
           "useAggregationsUi": true,
           "valuesOptions": {},
           "version": 2,
           "xAxis": {
            "labels": {
             "enabled": true
            },
            "type": "-"
           },
           "yAxis": [
            {
             "type": "-"
            },
            {
             "opposite": true,
             "type": "-"
            }
           ]
          }
         }
        ]
       },
       "datasetPreviewNameToCmdIdMap": {},
       "diffDeletes": [],
       "diffInserts": [],
       "displayType": "redashChart",
       "error": null,
       "errorDetails": null,
       "errorSummary": null,
       "errorTraceType": null,
       "finishTime": 0,
       "globalVars": {},
       "guid": "",
       "height": "auto",
       "hideCommandCode": false,
       "hideCommandResult": false,
       "iPythonMetadata": null,
       "inputWidgets": {},
       "isLockedInExamMode": false,
       "latestAssumeRoleInfo": null,
       "latestUser": "a user",
       "latestUserId": null,
       "listResultMetadata": null,
       "metadata": {
        "byteLimit": 2048000,
        "rowLimit": 10000
       },
       "nuid": "726babe0-7737-47c2-aa82-d1eb0dddb1c0",
       "origId": 0,
       "parentHierarchy": [],
       "pivotAggregation": null,
       "pivotColumns": null,
       "position": 5.078125,
       "resultDbfsErrorMessage": null,
       "resultDbfsStatus": "INLINED_IN_TREE",
       "results": null,
       "showCommandTitle": false,
       "startTime": 0,
       "state": "input",
       "streamStates": {},
       "subcommandOptions": {
        "queryPlan": {
         "groups": [
          {
           "column": "Artist",
           "type": "column"
          }
         ],
         "selects": [
          {
           "column": "Artist",
           "type": "column"
          },
          {
           "alias": "column_6b1aaff616",
           "args": [
            {
             "column": "count",
             "type": "column"
            }
           ],
           "function": "SUM",
           "type": "function"
          }
         ]
        }
       },
       "submitTime": 0,
       "subtype": "tableResultSubCmd.visualization",
       "tableResultIndex": 0,
       "tableResultSettingsMap": {},
       "useConsistentColors": false,
       "version": "CommandV1",
       "width": "auto",
       "workflows": [],
       "xColumns": null,
       "yColumns": null
      }
     },
     "output_type": "display_data"
    }
   ],
   "source": [
    "\t\n",
    "from pyspark.sql.functions import sum, avg, max, count\n",
    "#Here we are looking at the with the most number of songs\n",
    "display(df.groupBy(\"Artist\").count())\n",
    "\n",
    "#if you see the pie chart you can see that most of the songs were produced by Stray kids. The second artist who produced the most songs is Ateez with 15.2% of the songs. Cravity produced the least number of songs with only producing 2.17% of them"
   ]
  },
  {
   "cell_type": "code",
   "execution_count": 0,
   "metadata": {
    "application/vnd.databricks.v1+cell": {
     "cellMetadata": {
      "byteLimit": 2048000,
      "rowLimit": 10000
     },
     "inputWidgets": {},
     "nuid": "2609395e-d8f8-4960-990c-c29d5b1ab7c3",
     "showTitle": false,
     "tableResultSettingsMap": {},
     "title": ""
    }
   },
   "outputs": [],
   "source": []
  },
  {
   "cell_type": "code",
   "execution_count": 0,
   "metadata": {
    "application/vnd.databricks.v1+cell": {
     "cellMetadata": {
      "byteLimit": 2048000,
      "rowLimit": 10000
     },
     "inputWidgets": {},
     "nuid": "5427a911-6261-4dcf-ab83-7857f75f9fa2",
     "showTitle": false,
     "tableResultSettingsMap": {},
     "title": ""
    }
   },
   "outputs": [
    {
     "output_type": "display_data",
     "data": {
      "text/html": [
       "<style scoped>\n",
       "  .table-result-container {\n",
       "    max-height: 300px;\n",
       "    overflow: auto;\n",
       "  }\n",
       "  table, th, td {\n",
       "    border: 1px solid black;\n",
       "    border-collapse: collapse;\n",
       "  }\n",
       "  th, td {\n",
       "    padding: 5px;\n",
       "  }\n",
       "  th {\n",
       "    text-align: left;\n",
       "  }\n",
       "</style><div class='table-result-container'><table class='table-result'><thead style='background-color: white'><tr><th>Country</th><th>count</th></tr></thead><tbody><tr><td>KOR</td><td>56</td></tr><tr><td>CHN</td><td>1</td></tr><tr><td>JPN</td><td>35</td></tr></tbody></table></div>"
      ]
     },
     "metadata": {
      "application/vnd.databricks.v1+output": {
       "addedWidgets": {},
       "aggData": [],
       "aggError": "",
       "aggOverflow": false,
       "aggSchema": [],
       "aggSeriesLimitReached": false,
       "aggType": "",
       "arguments": {},
       "columnCustomDisplayInfos": {},
       "data": [
        [
         "KOR",
         56
        ],
        [
         "CHN",
         1
        ],
        [
         "JPN",
         35
        ]
       ],
       "datasetInfos": [],
       "dbfsResultPath": null,
       "isJsonSchema": true,
       "metadata": {},
       "overflow": false,
       "plotOptions": {
        "customPlotOptions": {},
        "displayType": "table",
        "pivotAggregation": null,
        "pivotColumns": null,
        "xColumns": null,
        "yColumns": null
       },
       "removedWidgets": [],
       "schema": [
        {
         "metadata": "{}",
         "name": "Country",
         "type": "\"string\""
        },
        {
         "metadata": "{}",
         "name": "count",
         "type": "\"long\""
        }
       ],
       "type": "table"
      }
     },
     "output_type": "display_data"
    },
    {
     "output_type": "display_data",
     "data": {
      "text/plain": [
       "Databricks visualization. Run in Databricks to view."
      ]
     },
     "metadata": {
      "application/vnd.databricks.v1.subcommand+json": {
       "baseErrorDetails": null,
       "bindings": {},
       "collapsed": false,
       "command": "%python\n__backend_agg_display_orig = display\n__backend_agg_dfs = []\ndef __backend_agg_display_new(df):\n    __backend_agg_df_modules = [\"pandas.core.frame\", \"databricks.koalas.frame\", \"pyspark.sql.dataframe\", \"pyspark.pandas.frame\", \"pyspark.sql.connect.dataframe\"]\n    if (type(df).__module__ in __backend_agg_df_modules and type(df).__name__ == 'DataFrame') or isinstance(df, list):\n        __backend_agg_dfs.append(df)\n\ndisplay = __backend_agg_display_new\n\ndef __backend_agg_user_code_fn():\n    import base64\n    exec(base64.standard_b64decode(\"ZGlzcGxheShkZi5ncm91cEJ5KCJDb3VudHJ5IikuY291bnQoKSkKI1RoaXMgc2hvd3Mgd2hpY2ggY291bnRyeSBoYXMgdGhlIG1vc3QgYXJ0aXN0cwojIFRoZSBiYXIgcGxvdCBzaG9lcyBtb3N0IG9mIHRoZSBzb25ncyB3ZXJlIHByb2R1Y2VkIHVuIGtvcmVhIGFzIHRoaXMgaXMgd2hlcmUgSy1wb3Agd2FzIGludmVudGVkLiBUaGUgbGVhc3QgbnVtYmVyIG9mIHNvbmdzIHdlcmUgcHJvZHVjZWQgaW4gQ2hpbmEgd2l0aCBvbmx5IDEgc29uZyBiZWluZyBwcm9kdWNlZCB0aGVyZS4=\").decode())\n\ntry:\n    # run user code\n    __backend_agg_user_code_fn()\n\n    #reset display function\n    display = __backend_agg_display_orig\n\n    if len(__backend_agg_dfs) > 0:\n        # create a temp view\n        if type(__backend_agg_dfs[0]).__module__ == \"databricks.koalas.frame\":\n            # koalas dataframe\n            __backend_agg_dfs[0].to_spark().createOrReplaceTempView(\"DatabricksView279e021\")\n        elif type(__backend_agg_dfs[0]).__module__ == \"pandas.core.frame\" or isinstance(__backend_agg_dfs[0], list):\n            # pandas dataframe\n            spark.createDataFrame(__backend_agg_dfs[0]).createOrReplaceTempView(\"DatabricksView279e021\")\n        else:\n            __backend_agg_dfs[0].createOrReplaceTempView(\"DatabricksView279e021\")\n        #run backend agg\n        display(spark.sql(\"\"\"WITH q AS (select * from DatabricksView279e021) SELECT `Country`,SUM(`count`) `column_6b1aaff612` FROM q GROUP BY `Country`\"\"\"))\n    else:\n        displayHTML(\"dataframe no longer exists. If you're using dataframe.display(), use display(dataframe) instead.\")\n\n\nfinally:\n    spark.sql(\"drop view if exists DatabricksView279e021\")\n    display = __backend_agg_display_orig\n    del __backend_agg_display_new\n    del __backend_agg_display_orig\n    del __backend_agg_dfs\n    del __backend_agg_user_code_fn\n\n",
       "commandTitle": "Visualization 1",
       "commandType": "auto",
       "commandVersion": 0,
       "commentThread": [],
       "commentsVisible": false,
       "contentSha256Hex": null,
       "customPlotOptions": {
        "redashChart": [
         {
          "key": "type",
          "value": "CHART"
         },
         {
          "key": "options",
          "value": {
           "alignYAxesAtZero": true,
           "coefficient": 1,
           "columnConfigurationMap": {
            "x": {
             "column": "Country",
             "id": "column_6b1aaff611"
            },
            "y": [
             {
              "column": "count",
              "id": "column_6b1aaff612",
              "transform": "SUM"
             }
            ]
           },
           "dateTimeFormat": "DD/MM/YYYY HH:mm",
           "direction": {
            "type": "counterclockwise"
           },
           "error_y": {
            "type": "data",
            "visible": true
           },
           "globalSeriesType": "column",
           "legend": {
            "traceorder": "normal"
           },
           "missingValuesAsZero": true,
           "numberFormat": "0,0.[00000]",
           "percentFormat": "0[.]00%",
           "series": {
            "error_y": {
             "type": "data",
             "visible": true
            },
            "stacking": null
           },
           "seriesOptions": {
            "column_6b1aaff612": {
             "name": "count",
             "yAxis": 0
            }
           },
           "showDataLabels": false,
           "sizemode": "diameter",
           "sortX": true,
           "sortY": true,
           "swappedAxes": true,
           "textFormat": "",
           "useAggregationsUi": true,
           "valuesOptions": {},
           "version": 2,
           "xAxis": {
            "labels": {
             "enabled": true
            },
            "type": "-"
           },
           "yAxis": [
            {
             "type": "-"
            },
            {
             "opposite": true,
             "type": "-"
            }
           ]
          }
         }
        ]
       },
       "datasetPreviewNameToCmdIdMap": {},
       "diffDeletes": [],
       "diffInserts": [],
       "displayType": "redashChart",
       "error": null,
       "errorDetails": null,
       "errorSummary": null,
       "errorTraceType": null,
       "finishTime": 0,
       "globalVars": {},
       "guid": "",
       "height": "auto",
       "hideCommandCode": false,
       "hideCommandResult": false,
       "iPythonMetadata": null,
       "inputWidgets": {},
       "isLockedInExamMode": false,
       "latestAssumeRoleInfo": null,
       "latestUser": "a user",
       "latestUserId": null,
       "listResultMetadata": null,
       "metadata": {
        "byteLimit": 2048000,
        "rowLimit": 10000
       },
       "nuid": "36624dec-4c1a-4ee7-881d-7d97c8dc9bbf",
       "origId": 0,
       "parentHierarchy": [],
       "pivotAggregation": null,
       "pivotColumns": null,
       "position": 6.078125,
       "resultDbfsErrorMessage": null,
       "resultDbfsStatus": "INLINED_IN_TREE",
       "results": null,
       "showCommandTitle": false,
       "startTime": 0,
       "state": "input",
       "streamStates": {},
       "subcommandOptions": {
        "queryPlan": {
         "groups": [
          {
           "column": "Country",
           "type": "column"
          }
         ],
         "selects": [
          {
           "column": "Country",
           "type": "column"
          },
          {
           "alias": "column_6b1aaff612",
           "args": [
            {
             "column": "count",
             "type": "column"
            }
           ],
           "function": "SUM",
           "type": "function"
          }
         ]
        }
       },
       "submitTime": 0,
       "subtype": "tableResultSubCmd.visualization",
       "tableResultIndex": 0,
       "tableResultSettingsMap": {},
       "useConsistentColors": false,
       "version": "CommandV1",
       "width": "auto",
       "workflows": [],
       "xColumns": null,
       "yColumns": null
      }
     },
     "output_type": "display_data"
    }
   ],
   "source": [
    "display(df.groupBy(\"Country\").count())\n",
    "#This shows which country has the most artists\n",
    "# The bar plot shoes most of the songs were produced un korea as this is where K-pop was invented. The least number of songs were produced in China with only 1 song being produced there."
   ]
  },
  {
   "cell_type": "code",
   "execution_count": 0,
   "metadata": {
    "application/vnd.databricks.v1+cell": {
     "cellMetadata": {
      "byteLimit": 2048000,
      "rowLimit": 10000
     },
     "inputWidgets": {},
     "nuid": "f51d0877-1d80-42e5-b863-3862d40868b6",
     "showTitle": false,
     "tableResultSettingsMap": {},
     "title": ""
    }
   },
   "outputs": [
    {
     "output_type": "display_data",
     "data": {
      "text/html": [
       "<style scoped>\n",
       "  .table-result-container {\n",
       "    max-height: 300px;\n",
       "    overflow: auto;\n",
       "  }\n",
       "  table, th, td {\n",
       "    border: 1px solid black;\n",
       "    border-collapse: collapse;\n",
       "  }\n",
       "  th, td {\n",
       "    padding: 5px;\n",
       "  }\n",
       "  th {\n",
       "    text-align: left;\n",
       "  }\n",
       "</style><div class='table-result-container'><table class='table-result'><thead style='background-color: white'><tr><th>artist</th><th>total_sales</th></tr></thead><tbody><tr><td>IZONE</td><td>2308085</td></tr><tr><td>Stray Kids</td><td>1916965</td></tr><tr><td>TXT</td><td>1692632</td></tr><tr><td>Ateez</td><td>1588505</td></tr><tr><td>Treasure</td><td>1112672</td></tr><tr><td>(G)I-dle</td><td>787686</td></tr><tr><td>ITZY</td><td>560073</td></tr><tr><td>Loona</td><td>357581</td></tr><tr><td>Verivery</td><td>212097</td></tr><tr><td>Cravity</td><td>161664</td></tr><tr><td>Everglow</td><td>138621</td></tr></tbody></table></div>"
      ]
     },
     "metadata": {
      "application/vnd.databricks.v1+output": {
       "addedWidgets": {},
       "aggData": [],
       "aggError": "",
       "aggOverflow": false,
       "aggSchema": [],
       "aggSeriesLimitReached": false,
       "aggType": "",
       "arguments": {},
       "columnCustomDisplayInfos": {},
       "data": [
        [
         "IZONE",
         2308085
        ],
        [
         "Stray Kids",
         1916965
        ],
        [
         "TXT",
         1692632
        ],
        [
         "Ateez",
         1588505
        ],
        [
         "Treasure",
         1112672
        ],
        [
         "(G)I-dle",
         787686
        ],
        [
         "ITZY",
         560073
        ],
        [
         "Loona",
         357581
        ],
        [
         "Verivery",
         212097
        ],
        [
         "Cravity",
         161664
        ],
        [
         "Everglow",
         138621
        ]
       ],
       "datasetInfos": [],
       "dbfsResultPath": null,
       "isJsonSchema": true,
       "metadata": {},
       "overflow": false,
       "plotOptions": {
        "customPlotOptions": {},
        "displayType": "table",
        "pivotAggregation": null,
        "pivotColumns": null,
        "xColumns": null,
        "yColumns": null
       },
       "removedWidgets": [],
       "schema": [
        {
         "metadata": "{}",
         "name": "artist",
         "type": "\"string\""
        },
        {
         "metadata": "{}",
         "name": "total_sales",
         "type": "\"long\""
        }
       ],
       "type": "table"
      }
     },
     "output_type": "display_data"
    }
   ],
   "source": [
    "from pyspark.sql.functions import sum, col\n",
    "display(df.groupBy('artist').agg(sum('sales').alias('total_sales')) \\\n",
    ".orderBy(col('total_sales').desc()))\n",
    "#this groupby command and aggregate function helps us calculate the total sales of all the artists"
   ]
  },
  {
   "cell_type": "code",
   "execution_count": 0,
   "metadata": {
    "application/vnd.databricks.v1+cell": {
     "cellMetadata": {
      "byteLimit": 2048000,
      "rowLimit": 10000
     },
     "inputWidgets": {},
     "nuid": "16c33512-61ad-49d3-8a2c-b9ce56bac24d",
     "showTitle": false,
     "tableResultSettingsMap": {},
     "title": ""
    }
   },
   "outputs": [
    {
     "output_type": "display_data",
     "data": {
      "text/html": [
       "<style scoped>\n",
       "  .table-result-container {\n",
       "    max-height: 300px;\n",
       "    overflow: auto;\n",
       "  }\n",
       "  table, th, td {\n",
       "    border: 1px solid black;\n",
       "    border-collapse: collapse;\n",
       "  }\n",
       "  th, td {\n",
       "    padding: 5px;\n",
       "  }\n",
       "  th {\n",
       "    text-align: left;\n",
       "  }\n",
       "</style><div class='table-result-container'><table class='table-result'><thead style='background-color: white'><tr><th>Artist</th><th>title</th><th>date</th><th>country</th><th>sales</th><th>peak_chart</th><th>sales_success</th></tr></thead><tbody><tr><td>IZONE</td><td>Bloom*iz</td><td>2020-02-17</td><td>KOR</td><td>492504</td><td>2</td><td>high</td></tr><tr><td>IZONE</td><td>Bloom*iz</td><td>2020-02-17</td><td>JPN</td><td>23960</td><td>3</td><td>low</td></tr><tr><td>IZONE</td><td>TWELVE</td><td>2020-10-21</td><td>JPN</td><td>135113</td><td>1</td><td>high</td></tr><tr><td>IZONE</td><td>Color*Iz</td><td>2018-10-29</td><td>KOR</td><td>282816</td><td>2</td><td>high</td></tr><tr><td>IZONE</td><td>Color*Iz</td><td>2018-10-29</td><td>JPN</td><td>null</td><td>1</td><td>very high</td></tr><tr><td>IZONE</td><td>Heart*Iz</td><td>2020-04-01</td><td>KOR</td><td>306812</td><td>1</td><td>high</td></tr><tr><td>IZONE</td><td>Heart*Iz</td><td>2020-04-01</td><td>JPN</td><td>40065</td><td>4</td><td>low</td></tr><tr><td>IZONE</td><td>Oneiric Diary</td><td>2020-06-15</td><td>KOR</td><td>559138</td><td>2</td><td>very high</td></tr><tr><td>IZONE</td><td>Oneiric Diary</td><td>2020-06-15</td><td>JPN</td><td>19928</td><td>8</td><td>low</td></tr><tr><td>IZONE</td><td>One-reeler/Act IV</td><td>2020-12-07</td><td>KOR</td><td>447749</td><td>1</td><td>high</td></tr><tr><td>ITZY</td><td>It'z Icy</td><td>2019-05-29</td><td>KOR</td><td>149349</td><td>3</td><td>high</td></tr><tr><td>ITZY</td><td>It'z Icy</td><td>2019-05-29</td><td>JPN</td><td>15742</td><td>12</td><td>low</td></tr><tr><td>ITZY</td><td>It'z Me</td><td>2020-03-09</td><td>KOR</td><td>150851</td><td>1</td><td>high</td></tr><tr><td>ITZY</td><td>It'z Me</td><td>2020-03-09</td><td>JPN</td><td>10882</td><td>13</td><td>low</td></tr><tr><td>ITZY</td><td>Not Shy</td><td>2020-08-17</td><td>KOR</td><td>219048</td><td>1</td><td>high</td></tr><tr><td>ITZY</td><td>Not Shy</td><td>2020-08-17</td><td>JPN</td><td>14201</td><td>8</td><td>low</td></tr><tr><td>Stray Kids</td><td>In Life</td><td>2020-09-14</td><td>KOR</td><td>473616</td><td>1</td><td>high</td></tr><tr><td>Stray Kids</td><td>In Life</td><td>2020-09-14</td><td>JPN</td><td>39911</td><td>11</td><td>low</td></tr><tr><td>Stray Kids</td><td>Mixtape</td><td>2018-01-08</td><td>KOR</td><td>118921</td><td>2</td><td>high</td></tr><tr><td>Stray Kids</td><td>Mixtape</td><td>2018-01-08</td><td>JPN</td><td>1063</td><td>47</td><td>low</td></tr><tr><td>Stray Kids</td><td>I Am Not</td><td>2018-03-26</td><td>KOR</td><td>159343</td><td>4</td><td>high</td></tr><tr><td>Stray Kids</td><td>I Am Not</td><td>2018-03-26</td><td>JPN</td><td>2036</td><td>0</td><td>low</td></tr><tr><td>Stray Kids</td><td>I Am Who</td><td>2018-08-06</td><td>KOR</td><td>185273</td><td>3</td><td>high</td></tr><tr><td>Stray Kids</td><td>I Am Who</td><td>2018-08-06</td><td>JPN</td><td>1474</td><td>34</td><td>low</td></tr><tr><td>Stray Kids</td><td>I Am You</td><td>2018-10-22</td><td>KOR</td><td>189129</td><td>2</td><td>high</td></tr><tr><td>Stray Kids</td><td>I Am You</td><td>2018-10-22</td><td>JPN</td><td>2234</td><td>34</td><td>low</td></tr><tr><td>Stray Kids</td><td>Miroh</td><td>2019-03-25</td><td>KOR</td><td>226383</td><td>1</td><td>high</td></tr><tr><td>Stray Kids</td><td>Miroh</td><td>2019-03-25</td><td>JPN</td><td>5856</td><td>15</td><td>low</td></tr><tr><td>Stray Kids</td><td>Yellow Wood</td><td>2019-06-19</td><td>KOR</td><td>192796</td><td>2</td><td>high</td></tr><tr><td>Stray Kids</td><td>Yellow Wood</td><td>2019-06-19</td><td>JPN</td><td>3379</td><td>17</td><td>low</td></tr><tr><td>Stray Kids</td><td>Levanter</td><td>2019-12-09</td><td>KOR</td><td>247074</td><td>1</td><td>high</td></tr><tr><td>Stray Kids</td><td>Levanter</td><td>2019-12-09</td><td>JPN</td><td>9116</td><td>17</td><td>low</td></tr><tr><td>Stray Kids</td><td>All In</td><td>2020-11-04</td><td>JPN</td><td>59361</td><td>2</td><td>moderate</td></tr><tr><td>Treasure</td><td>Treasure Effect</td><td>2021-01-11</td><td>KOR</td><td>307457</td><td>1</td><td>high</td></tr><tr><td>Treasure</td><td>Treasure Effect</td><td>2021-01-11</td><td>JPN</td><td>83755</td><td>1</td><td>moderate</td></tr><tr><td>Treasure</td><td>Chapter One</td><td>2020-08-07</td><td>KOR</td><td>250000</td><td>1</td><td>high</td></tr><tr><td>Treasure</td><td>Chapter Two</td><td>2020-09-18</td><td>KOR</td><td>239326</td><td>2</td><td>high</td></tr><tr><td>Treasure</td><td>Chapter Three</td><td>2020-11-06</td><td>KOR</td><td>232134</td><td>1</td><td>high</td></tr><tr><td>TXT</td><td>Magic</td><td>2019-10-21</td><td>KOR</td><td>300910</td><td>1</td><td>high</td></tr><tr><td>TXT</td><td>Magic</td><td>2019-10-21</td><td>JPN</td><td>14296</td><td>11</td><td>low</td></tr><tr><td>TXT</td><td>Still Dreaming</td><td>2021-01-20</td><td>JPN</td><td>102041</td><td>1</td><td>high</td></tr><tr><td>TXT</td><td>Star</td><td>2019-03-04</td><td>KOR</td><td>278846</td><td>1</td><td>high</td></tr><tr><td>TXT</td><td>Star</td><td>2019-03-04</td><td>JPN</td><td>26176</td><td>3</td><td>low</td></tr><tr><td>TXT</td><td>Eternity</td><td>2020-05-18</td><td>KOR</td><td>379053</td><td>2</td><td>high</td></tr><tr><td>TXT</td><td>Eternity</td><td>2020-05-18</td><td>JPN</td><td>38814</td><td>1</td><td>low</td></tr><tr><td>TXT</td><td>Blue Hour</td><td>2020-10-26</td><td>KOR</td><td>508626</td><td>1</td><td>very high</td></tr><tr><td>TXT</td><td>Blue Hour</td><td>2020-10-26</td><td>JPN</td><td>43870</td><td>1</td><td>low</td></tr><tr><td>(G)I-dle</td><td>Dumdi Dumdi</td><td>2020-08-03</td><td>KOR</td><td>125801</td><td>2</td><td>high</td></tr><tr><td>(G)I-dle</td><td>Dumdi Dumdi</td><td>2020-08-03</td><td>CHN</td><td>182749</td><td>0</td><td>high</td></tr><tr><td>(G)I-dle</td><td>I Am</td><td>2018-05-02</td><td>KOR</td><td>51831</td><td>6</td><td>moderate</td></tr><tr><td>(G)I-dle</td><td>I Made</td><td>2019-02-26</td><td>KOR</td><td>51041</td><td>2</td><td>moderate</td></tr><tr><td>(G)I-dle</td><td>I Trust</td><td>2020-04-06</td><td>KOR</td><td>154499</td><td>1</td><td>high</td></tr><tr><td>(G)I-dle</td><td>I Trust</td><td>2020-04-06</td><td>JPN</td><td>1380</td><td>48</td><td>low</td></tr><tr><td>(G)I-dle</td><td>I Burn</td><td>2021-01-11</td><td>KOR</td><td>207927</td><td>3</td><td>high</td></tr><tr><td>(G)I-dle</td><td>Latata</td><td>2019-07-29</td><td>JPN</td><td>8229</td><td>5</td><td>low</td></tr><tr><td>(G)I-dle</td><td>Oh My God</td><td>2020-08-26</td><td>JPN</td><td>4229</td><td>23</td><td>low</td></tr><tr><td>Cravity</td><td>Season 1. Hideout: Remember Who We Are</td><td>2020-04-14</td><td>KOR</td><td>154360</td><td>1</td><td>high</td></tr><tr><td>Cravity</td><td>Season 1. Hideout: Remember Who We Are</td><td>2020-04-14</td><td>JPN</td><td>7304</td><td>10</td><td>low</td></tr><tr><td>Verivery</td><td>Veri-Able</td><td>2019-04-24</td><td>KOR</td><td>17630</td><td>6</td><td>low</td></tr><tr><td>Verivery</td><td>Face Me</td><td>2020-01-07</td><td>KOR</td><td>28440</td><td>4</td><td>low</td></tr><tr><td>Verivery</td><td>Face You</td><td>2020-07-01</td><td>KOR</td><td>39626</td><td>8</td><td>low</td></tr><tr><td>Verivery</td><td>Face Us</td><td>2020-10-13</td><td>KOR</td><td>59704</td><td>7</td><td>moderate</td></tr><tr><td>Verivery</td><td>Veri-Chill</td><td>2019-07-31</td><td>KOR</td><td>16698</td><td>10</td><td>low</td></tr><tr><td>Verivery</td><td>Series 'O' Round 1: Hall</td><td>2021-03-02</td><td>KOR</td><td>49999</td><td>4</td><td>low</td></tr><tr><td>Loona</td><td>[ + +]</td><td>2018-08-20</td><td>KOR</td><td>61466</td><td>2</td><td>moderate</td></tr><tr><td>Loona</td><td>[#]</td><td>2020-02-05</td><td>KOR</td><td>83522</td><td>2</td><td>moderate</td></tr><tr><td>Loona</td><td>[12:00]</td><td>2020-10-19</td><td>KOR</td><td>116614</td><td>4</td><td>high</td></tr><tr><td>Loona</td><td>Love & Live</td><td>2017-03-13</td><td>KOR</td><td>7130</td><td>10</td><td>low</td></tr><tr><td>Loona</td><td>Mix & Match</td><td>2017-09-21</td><td>KOR</td><td>7869</td><td>16</td><td>low</td></tr><tr><td>Loona</td><td>beauty&thebeat</td><td>2018-05-30</td><td>KOR</td><td>18138</td><td>4</td><td>low</td></tr><tr><td>Loona</td><td>[x x]</td><td>2019-02-19</td><td>KOR</td><td>45782</td><td>3</td><td>low</td></tr><tr><td>Loona</td><td>Love & Evil</td><td>2017-04-27</td><td>KOR</td><td>5924</td><td>24</td><td>low</td></tr><tr><td>Loona</td><td>Max & Match </td><td>2017-10-31</td><td>KOR</td><td>11136</td><td>7</td><td>low</td></tr><tr><td>Ateez</td><td>Treasure EP.Fin: All to Action</td><td>2019-10-08</td><td>KOR</td><td>209316</td><td>1</td><td>high</td></tr><tr><td>Ateez</td><td>Treasure EP.Extra: Shift the Map</td><td>2019-12-04</td><td>JPN</td><td>13113</td><td>9</td><td>low</td></tr><tr><td>Ateez</td><td>Into the A to Z</td><td>2021-03-24</td><td>JPN</td><td>10813</td><td>6</td><td>low</td></tr><tr><td>Ateez</td><td>Treasure EP.1: All to Zero</td><td>2018-10-24</td><td>KOR</td><td>85109</td><td>7</td><td>moderate</td></tr><tr><td>Ateez</td><td>Treasure EP.2: Zero to One</td><td>2019-01-15</td><td>KOR</td><td>100039</td><td>6</td><td>high</td></tr><tr><td>Ateez</td><td>Treasure EP.3: One to All</td><td>2019-06-10</td><td>KOR</td><td>180121</td><td>2</td><td>high</td></tr><tr><td>Ateez</td><td>Treasure EP.3: One to All</td><td>2019-06-10</td><td>JPN</td><td>2896</td><td>25</td><td>low</td></tr><tr><td>Ateez</td><td>Treasure Epilogue: Action to Answer</td><td>2020-01-06</td><td>KOR</td><td>184339</td><td>1</td><td>high</td></tr><tr><td>Ateez</td><td>Treasure Epilogue: Action to Answer</td><td>2020-01-06</td><td>JPN</td><td>1472</td><td>31</td><td>low</td></tr><tr><td>Ateez</td><td>Treasure EP. Map to Answer</td><td>2020-02-12</td><td>JPN</td><td>18720</td><td>3</td><td>low</td></tr><tr><td>Ateez</td><td>Zero: Fever Part.1</td><td>2020-07-29</td><td>KOR</td><td>379505</td><td>1</td><td>high</td></tr><tr><td>Ateez</td><td>Zero: Fever Part.1</td><td>2020-07-29</td><td>JPN</td><td>11324</td><td>35</td><td>low</td></tr><tr><td>Ateez</td><td>Zero: Fever Part.2</td><td>2021-03-01</td><td>KOR</td><td>380711</td><td>1</td><td>high</td></tr><tr><td>Ateez</td><td>Zero: Fever Part.2</td><td>2021-03-01</td><td>JPN</td><td>11027</td><td>10</td><td>low</td></tr><tr><td>Everglow</td><td>Reminiscence</td><td>2020-02-03</td><td>KOR</td><td>30912</td><td>4</td><td>low</td></tr><tr><td>Everglow</td><td>Reminiscence</td><td>2020-02-03</td><td>JPN</td><td>1649</td><td>48</td><td>low</td></tr><tr><td>Everglow</td><td>-77.82X-78.29</td><td>2020-09-21</td><td>KOR</td><td>49388</td><td>4</td><td>low</td></tr><tr><td>Everglow</td><td>Arrival of Everglow</td><td>2019-03-18</td><td>KOR</td><td>28033</td><td>6</td><td>low</td></tr><tr><td>Everglow</td><td>Hush</td><td>2019-08-19</td><td>KOR</td><td>28639</td><td>5</td><td>low</td></tr></tbody></table></div>"
      ]
     },
     "metadata": {
      "application/vnd.databricks.v1+output": {
       "addedWidgets": {},
       "aggData": [],
       "aggError": "",
       "aggOverflow": false,
       "aggSchema": [],
       "aggSeriesLimitReached": false,
       "aggType": "",
       "arguments": {},
       "columnCustomDisplayInfos": {},
       "data": [
        [
         "IZONE",
         "Bloom*iz",
         "2020-02-17",
         "KOR",
         492504,
         2,
         "high"
        ],
        [
         "IZONE",
         "Bloom*iz",
         "2020-02-17",
         "JPN",
         23960,
         3,
         "low"
        ],
        [
         "IZONE",
         "TWELVE",
         "2020-10-21",
         "JPN",
         135113,
         1,
         "high"
        ],
        [
         "IZONE",
         "Color*Iz",
         "2018-10-29",
         "KOR",
         282816,
         2,
         "high"
        ],
        [
         "IZONE",
         "Color*Iz",
         "2018-10-29",
         "JPN",
         null,
         1,
         "very high"
        ],
        [
         "IZONE",
         "Heart*Iz",
         "2020-04-01",
         "KOR",
         306812,
         1,
         "high"
        ],
        [
         "IZONE",
         "Heart*Iz",
         "2020-04-01",
         "JPN",
         40065,
         4,
         "low"
        ],
        [
         "IZONE",
         "Oneiric Diary",
         "2020-06-15",
         "KOR",
         559138,
         2,
         "very high"
        ],
        [
         "IZONE",
         "Oneiric Diary",
         "2020-06-15",
         "JPN",
         19928,
         8,
         "low"
        ],
        [
         "IZONE",
         "One-reeler/Act IV",
         "2020-12-07",
         "KOR",
         447749,
         1,
         "high"
        ],
        [
         "ITZY",
         "It'z Icy",
         "2019-05-29",
         "KOR",
         149349,
         3,
         "high"
        ],
        [
         "ITZY",
         "It'z Icy",
         "2019-05-29",
         "JPN",
         15742,
         12,
         "low"
        ],
        [
         "ITZY",
         "It'z Me",
         "2020-03-09",
         "KOR",
         150851,
         1,
         "high"
        ],
        [
         "ITZY",
         "It'z Me",
         "2020-03-09",
         "JPN",
         10882,
         13,
         "low"
        ],
        [
         "ITZY",
         "Not Shy",
         "2020-08-17",
         "KOR",
         219048,
         1,
         "high"
        ],
        [
         "ITZY",
         "Not Shy",
         "2020-08-17",
         "JPN",
         14201,
         8,
         "low"
        ],
        [
         "Stray Kids",
         "In Life",
         "2020-09-14",
         "KOR",
         473616,
         1,
         "high"
        ],
        [
         "Stray Kids",
         "In Life",
         "2020-09-14",
         "JPN",
         39911,
         11,
         "low"
        ],
        [
         "Stray Kids",
         "Mixtape",
         "2018-01-08",
         "KOR",
         118921,
         2,
         "high"
        ],
        [
         "Stray Kids",
         "Mixtape",
         "2018-01-08",
         "JPN",
         1063,
         47,
         "low"
        ],
        [
         "Stray Kids",
         "I Am Not",
         "2018-03-26",
         "KOR",
         159343,
         4,
         "high"
        ],
        [
         "Stray Kids",
         "I Am Not",
         "2018-03-26",
         "JPN",
         2036,
         0,
         "low"
        ],
        [
         "Stray Kids",
         "I Am Who",
         "2018-08-06",
         "KOR",
         185273,
         3,
         "high"
        ],
        [
         "Stray Kids",
         "I Am Who",
         "2018-08-06",
         "JPN",
         1474,
         34,
         "low"
        ],
        [
         "Stray Kids",
         "I Am You",
         "2018-10-22",
         "KOR",
         189129,
         2,
         "high"
        ],
        [
         "Stray Kids",
         "I Am You",
         "2018-10-22",
         "JPN",
         2234,
         34,
         "low"
        ],
        [
         "Stray Kids",
         "Miroh",
         "2019-03-25",
         "KOR",
         226383,
         1,
         "high"
        ],
        [
         "Stray Kids",
         "Miroh",
         "2019-03-25",
         "JPN",
         5856,
         15,
         "low"
        ],
        [
         "Stray Kids",
         "Yellow Wood",
         "2019-06-19",
         "KOR",
         192796,
         2,
         "high"
        ],
        [
         "Stray Kids",
         "Yellow Wood",
         "2019-06-19",
         "JPN",
         3379,
         17,
         "low"
        ],
        [
         "Stray Kids",
         "Levanter",
         "2019-12-09",
         "KOR",
         247074,
         1,
         "high"
        ],
        [
         "Stray Kids",
         "Levanter",
         "2019-12-09",
         "JPN",
         9116,
         17,
         "low"
        ],
        [
         "Stray Kids",
         "All In",
         "2020-11-04",
         "JPN",
         59361,
         2,
         "moderate"
        ],
        [
         "Treasure",
         "Treasure Effect",
         "2021-01-11",
         "KOR",
         307457,
         1,
         "high"
        ],
        [
         "Treasure",
         "Treasure Effect",
         "2021-01-11",
         "JPN",
         83755,
         1,
         "moderate"
        ],
        [
         "Treasure",
         "Chapter One",
         "2020-08-07",
         "KOR",
         250000,
         1,
         "high"
        ],
        [
         "Treasure",
         "Chapter Two",
         "2020-09-18",
         "KOR",
         239326,
         2,
         "high"
        ],
        [
         "Treasure",
         "Chapter Three",
         "2020-11-06",
         "KOR",
         232134,
         1,
         "high"
        ],
        [
         "TXT",
         "Magic",
         "2019-10-21",
         "KOR",
         300910,
         1,
         "high"
        ],
        [
         "TXT",
         "Magic",
         "2019-10-21",
         "JPN",
         14296,
         11,
         "low"
        ],
        [
         "TXT",
         "Still Dreaming",
         "2021-01-20",
         "JPN",
         102041,
         1,
         "high"
        ],
        [
         "TXT",
         "Star",
         "2019-03-04",
         "KOR",
         278846,
         1,
         "high"
        ],
        [
         "TXT",
         "Star",
         "2019-03-04",
         "JPN",
         26176,
         3,
         "low"
        ],
        [
         "TXT",
         "Eternity",
         "2020-05-18",
         "KOR",
         379053,
         2,
         "high"
        ],
        [
         "TXT",
         "Eternity",
         "2020-05-18",
         "JPN",
         38814,
         1,
         "low"
        ],
        [
         "TXT",
         "Blue Hour",
         "2020-10-26",
         "KOR",
         508626,
         1,
         "very high"
        ],
        [
         "TXT",
         "Blue Hour",
         "2020-10-26",
         "JPN",
         43870,
         1,
         "low"
        ],
        [
         "(G)I-dle",
         "Dumdi Dumdi",
         "2020-08-03",
         "KOR",
         125801,
         2,
         "high"
        ],
        [
         "(G)I-dle",
         "Dumdi Dumdi",
         "2020-08-03",
         "CHN",
         182749,
         0,
         "high"
        ],
        [
         "(G)I-dle",
         "I Am",
         "2018-05-02",
         "KOR",
         51831,
         6,
         "moderate"
        ],
        [
         "(G)I-dle",
         "I Made",
         "2019-02-26",
         "KOR",
         51041,
         2,
         "moderate"
        ],
        [
         "(G)I-dle",
         "I Trust",
         "2020-04-06",
         "KOR",
         154499,
         1,
         "high"
        ],
        [
         "(G)I-dle",
         "I Trust",
         "2020-04-06",
         "JPN",
         1380,
         48,
         "low"
        ],
        [
         "(G)I-dle",
         "I Burn",
         "2021-01-11",
         "KOR",
         207927,
         3,
         "high"
        ],
        [
         "(G)I-dle",
         "Latata",
         "2019-07-29",
         "JPN",
         8229,
         5,
         "low"
        ],
        [
         "(G)I-dle",
         "Oh My God",
         "2020-08-26",
         "JPN",
         4229,
         23,
         "low"
        ],
        [
         "Cravity",
         "Season 1. Hideout: Remember Who We Are",
         "2020-04-14",
         "KOR",
         154360,
         1,
         "high"
        ],
        [
         "Cravity",
         "Season 1. Hideout: Remember Who We Are",
         "2020-04-14",
         "JPN",
         7304,
         10,
         "low"
        ],
        [
         "Verivery",
         "Veri-Able",
         "2019-04-24",
         "KOR",
         17630,
         6,
         "low"
        ],
        [
         "Verivery",
         "Face Me",
         "2020-01-07",
         "KOR",
         28440,
         4,
         "low"
        ],
        [
         "Verivery",
         "Face You",
         "2020-07-01",
         "KOR",
         39626,
         8,
         "low"
        ],
        [
         "Verivery",
         "Face Us",
         "2020-10-13",
         "KOR",
         59704,
         7,
         "moderate"
        ],
        [
         "Verivery",
         "Veri-Chill",
         "2019-07-31",
         "KOR",
         16698,
         10,
         "low"
        ],
        [
         "Verivery",
         "Series 'O' Round 1: Hall",
         "2021-03-02",
         "KOR",
         49999,
         4,
         "low"
        ],
        [
         "Loona",
         "[ + +]",
         "2018-08-20",
         "KOR",
         61466,
         2,
         "moderate"
        ],
        [
         "Loona",
         "[#]",
         "2020-02-05",
         "KOR",
         83522,
         2,
         "moderate"
        ],
        [
         "Loona",
         "[12:00]",
         "2020-10-19",
         "KOR",
         116614,
         4,
         "high"
        ],
        [
         "Loona",
         "Love & Live",
         "2017-03-13",
         "KOR",
         7130,
         10,
         "low"
        ],
        [
         "Loona",
         "Mix & Match",
         "2017-09-21",
         "KOR",
         7869,
         16,
         "low"
        ],
        [
         "Loona",
         "beauty&thebeat",
         "2018-05-30",
         "KOR",
         18138,
         4,
         "low"
        ],
        [
         "Loona",
         "[x x]",
         "2019-02-19",
         "KOR",
         45782,
         3,
         "low"
        ],
        [
         "Loona",
         "Love & Evil",
         "2017-04-27",
         "KOR",
         5924,
         24,
         "low"
        ],
        [
         "Loona",
         "Max & Match ",
         "2017-10-31",
         "KOR",
         11136,
         7,
         "low"
        ],
        [
         "Ateez",
         "Treasure EP.Fin: All to Action",
         "2019-10-08",
         "KOR",
         209316,
         1,
         "high"
        ],
        [
         "Ateez",
         "Treasure EP.Extra: Shift the Map",
         "2019-12-04",
         "JPN",
         13113,
         9,
         "low"
        ],
        [
         "Ateez",
         "Into the A to Z",
         "2021-03-24",
         "JPN",
         10813,
         6,
         "low"
        ],
        [
         "Ateez",
         "Treasure EP.1: All to Zero",
         "2018-10-24",
         "KOR",
         85109,
         7,
         "moderate"
        ],
        [
         "Ateez",
         "Treasure EP.2: Zero to One",
         "2019-01-15",
         "KOR",
         100039,
         6,
         "high"
        ],
        [
         "Ateez",
         "Treasure EP.3: One to All",
         "2019-06-10",
         "KOR",
         180121,
         2,
         "high"
        ],
        [
         "Ateez",
         "Treasure EP.3: One to All",
         "2019-06-10",
         "JPN",
         2896,
         25,
         "low"
        ],
        [
         "Ateez",
         "Treasure Epilogue: Action to Answer",
         "2020-01-06",
         "KOR",
         184339,
         1,
         "high"
        ],
        [
         "Ateez",
         "Treasure Epilogue: Action to Answer",
         "2020-01-06",
         "JPN",
         1472,
         31,
         "low"
        ],
        [
         "Ateez",
         "Treasure EP. Map to Answer",
         "2020-02-12",
         "JPN",
         18720,
         3,
         "low"
        ],
        [
         "Ateez",
         "Zero: Fever Part.1",
         "2020-07-29",
         "KOR",
         379505,
         1,
         "high"
        ],
        [
         "Ateez",
         "Zero: Fever Part.1",
         "2020-07-29",
         "JPN",
         11324,
         35,
         "low"
        ],
        [
         "Ateez",
         "Zero: Fever Part.2",
         "2021-03-01",
         "KOR",
         380711,
         1,
         "high"
        ],
        [
         "Ateez",
         "Zero: Fever Part.2",
         "2021-03-01",
         "JPN",
         11027,
         10,
         "low"
        ],
        [
         "Everglow",
         "Reminiscence",
         "2020-02-03",
         "KOR",
         30912,
         4,
         "low"
        ],
        [
         "Everglow",
         "Reminiscence",
         "2020-02-03",
         "JPN",
         1649,
         48,
         "low"
        ],
        [
         "Everglow",
         "-77.82X-78.29",
         "2020-09-21",
         "KOR",
         49388,
         4,
         "low"
        ],
        [
         "Everglow",
         "Arrival of Everglow",
         "2019-03-18",
         "KOR",
         28033,
         6,
         "low"
        ],
        [
         "Everglow",
         "Hush",
         "2019-08-19",
         "KOR",
         28639,
         5,
         "low"
        ]
       ],
       "datasetInfos": [],
       "dbfsResultPath": null,
       "isJsonSchema": true,
       "metadata": {},
       "overflow": false,
       "plotOptions": {
        "customPlotOptions": {},
        "displayType": "table",
        "pivotAggregation": null,
        "pivotColumns": null,
        "xColumns": null,
        "yColumns": null
       },
       "removedWidgets": [],
       "schema": [
        {
         "metadata": "{}",
         "name": "Artist",
         "type": "\"string\""
        },
        {
         "metadata": "{}",
         "name": "title",
         "type": "\"string\""
        },
        {
         "metadata": "{\"__detected_date_formats\":\"M/d/yyyy\"}",
         "name": "date",
         "type": "\"date\""
        },
        {
         "metadata": "{}",
         "name": "country",
         "type": "\"string\""
        },
        {
         "metadata": "{}",
         "name": "sales",
         "type": "\"integer\""
        },
        {
         "metadata": "{}",
         "name": "peak_chart",
         "type": "\"integer\""
        },
        {
         "metadata": "{}",
         "name": "sales_success",
         "type": "\"string\""
        }
       ],
       "type": "table"
      }
     },
     "output_type": "display_data"
    }
   ],
   "source": [
    "from pyspark.sql.functions import when\n",
    "# I used the when function to rate the songs of each artist bases on their sales\n",
    "df=df.withColumn(\"sales_success\", \\\n",
    "                when(df[\"sales\"] < 50000, \"low\").\\\n",
    "                when(df[\"sales\"] < 100000, \"moderate\").\\\n",
    "                when(df[\"sales\"] < 500000, \"high\").\\\n",
    "                otherwise(\"very high\"))\n",
    "\n",
    "display(df)"
   ]
  },
  {
   "cell_type": "code",
   "execution_count": 0,
   "metadata": {
    "application/vnd.databricks.v1+cell": {
     "cellMetadata": {
      "byteLimit": 2048000,
      "rowLimit": 10000
     },
     "inputWidgets": {},
     "nuid": "de052877-47c8-45e3-ab20-6fc4d528e3f7",
     "showTitle": false,
     "tableResultSettingsMap": {},
     "title": ""
    }
   },
   "outputs": [
    {
     "output_type": "display_data",
     "data": {
      "text/html": [
       "<style scoped>\n",
       "  .table-result-container {\n",
       "    max-height: 300px;\n",
       "    overflow: auto;\n",
       "  }\n",
       "  table, th, td {\n",
       "    border: 1px solid black;\n",
       "    border-collapse: collapse;\n",
       "  }\n",
       "  th, td {\n",
       "    padding: 5px;\n",
       "  }\n",
       "  th {\n",
       "    text-align: left;\n",
       "  }\n",
       "</style><div class='table-result-container'><table class='table-result'><thead style='background-color: white'><tr><th>Artist</th><th>title</th><th>date</th><th>country</th><th>sales</th><th>peak_chart</th><th>sales_success</th><th>is_chart_topper</th></tr></thead><tbody><tr><td>IZONE</td><td>Bloom*iz</td><td>2020-02-17</td><td>KOR</td><td>492504</td><td>2</td><td>high</td><td>true</td></tr><tr><td>IZONE</td><td>Bloom*iz</td><td>2020-02-17</td><td>JPN</td><td>23960</td><td>3</td><td>low</td><td>true</td></tr><tr><td>IZONE</td><td>TWELVE</td><td>2020-10-21</td><td>JPN</td><td>135113</td><td>1</td><td>high</td><td>true</td></tr><tr><td>IZONE</td><td>Color*Iz</td><td>2018-10-29</td><td>KOR</td><td>282816</td><td>2</td><td>high</td><td>true</td></tr><tr><td>IZONE</td><td>Color*Iz</td><td>2018-10-29</td><td>JPN</td><td>null</td><td>1</td><td>very high</td><td>true</td></tr><tr><td>IZONE</td><td>Heart*Iz</td><td>2020-04-01</td><td>KOR</td><td>306812</td><td>1</td><td>high</td><td>true</td></tr><tr><td>IZONE</td><td>Heart*Iz</td><td>2020-04-01</td><td>JPN</td><td>40065</td><td>4</td><td>low</td><td>false</td></tr><tr><td>IZONE</td><td>Oneiric Diary</td><td>2020-06-15</td><td>KOR</td><td>559138</td><td>2</td><td>very high</td><td>true</td></tr><tr><td>IZONE</td><td>Oneiric Diary</td><td>2020-06-15</td><td>JPN</td><td>19928</td><td>8</td><td>low</td><td>false</td></tr><tr><td>IZONE</td><td>One-reeler/Act IV</td><td>2020-12-07</td><td>KOR</td><td>447749</td><td>1</td><td>high</td><td>true</td></tr><tr><td>ITZY</td><td>It'z Icy</td><td>2019-05-29</td><td>KOR</td><td>149349</td><td>3</td><td>high</td><td>true</td></tr><tr><td>ITZY</td><td>It'z Icy</td><td>2019-05-29</td><td>JPN</td><td>15742</td><td>12</td><td>low</td><td>false</td></tr><tr><td>ITZY</td><td>It'z Me</td><td>2020-03-09</td><td>KOR</td><td>150851</td><td>1</td><td>high</td><td>true</td></tr><tr><td>ITZY</td><td>It'z Me</td><td>2020-03-09</td><td>JPN</td><td>10882</td><td>13</td><td>low</td><td>false</td></tr><tr><td>ITZY</td><td>Not Shy</td><td>2020-08-17</td><td>KOR</td><td>219048</td><td>1</td><td>high</td><td>true</td></tr><tr><td>ITZY</td><td>Not Shy</td><td>2020-08-17</td><td>JPN</td><td>14201</td><td>8</td><td>low</td><td>false</td></tr><tr><td>Stray Kids</td><td>In Life</td><td>2020-09-14</td><td>KOR</td><td>473616</td><td>1</td><td>high</td><td>true</td></tr><tr><td>Stray Kids</td><td>In Life</td><td>2020-09-14</td><td>JPN</td><td>39911</td><td>11</td><td>low</td><td>false</td></tr><tr><td>Stray Kids</td><td>Mixtape</td><td>2018-01-08</td><td>KOR</td><td>118921</td><td>2</td><td>high</td><td>true</td></tr><tr><td>Stray Kids</td><td>Mixtape</td><td>2018-01-08</td><td>JPN</td><td>1063</td><td>47</td><td>low</td><td>false</td></tr><tr><td>Stray Kids</td><td>I Am Not</td><td>2018-03-26</td><td>KOR</td><td>159343</td><td>4</td><td>high</td><td>false</td></tr><tr><td>Stray Kids</td><td>I Am Not</td><td>2018-03-26</td><td>JPN</td><td>2036</td><td>0</td><td>low</td><td>false</td></tr><tr><td>Stray Kids</td><td>I Am Who</td><td>2018-08-06</td><td>KOR</td><td>185273</td><td>3</td><td>high</td><td>true</td></tr><tr><td>Stray Kids</td><td>I Am Who</td><td>2018-08-06</td><td>JPN</td><td>1474</td><td>34</td><td>low</td><td>false</td></tr><tr><td>Stray Kids</td><td>I Am You</td><td>2018-10-22</td><td>KOR</td><td>189129</td><td>2</td><td>high</td><td>true</td></tr><tr><td>Stray Kids</td><td>I Am You</td><td>2018-10-22</td><td>JPN</td><td>2234</td><td>34</td><td>low</td><td>false</td></tr><tr><td>Stray Kids</td><td>Miroh</td><td>2019-03-25</td><td>KOR</td><td>226383</td><td>1</td><td>high</td><td>true</td></tr><tr><td>Stray Kids</td><td>Miroh</td><td>2019-03-25</td><td>JPN</td><td>5856</td><td>15</td><td>low</td><td>false</td></tr><tr><td>Stray Kids</td><td>Yellow Wood</td><td>2019-06-19</td><td>KOR</td><td>192796</td><td>2</td><td>high</td><td>true</td></tr><tr><td>Stray Kids</td><td>Yellow Wood</td><td>2019-06-19</td><td>JPN</td><td>3379</td><td>17</td><td>low</td><td>false</td></tr><tr><td>Stray Kids</td><td>Levanter</td><td>2019-12-09</td><td>KOR</td><td>247074</td><td>1</td><td>high</td><td>true</td></tr><tr><td>Stray Kids</td><td>Levanter</td><td>2019-12-09</td><td>JPN</td><td>9116</td><td>17</td><td>low</td><td>false</td></tr><tr><td>Stray Kids</td><td>All In</td><td>2020-11-04</td><td>JPN</td><td>59361</td><td>2</td><td>moderate</td><td>true</td></tr><tr><td>Treasure</td><td>Treasure Effect</td><td>2021-01-11</td><td>KOR</td><td>307457</td><td>1</td><td>high</td><td>true</td></tr><tr><td>Treasure</td><td>Treasure Effect</td><td>2021-01-11</td><td>JPN</td><td>83755</td><td>1</td><td>moderate</td><td>true</td></tr><tr><td>Treasure</td><td>Chapter One</td><td>2020-08-07</td><td>KOR</td><td>250000</td><td>1</td><td>high</td><td>true</td></tr><tr><td>Treasure</td><td>Chapter Two</td><td>2020-09-18</td><td>KOR</td><td>239326</td><td>2</td><td>high</td><td>true</td></tr><tr><td>Treasure</td><td>Chapter Three</td><td>2020-11-06</td><td>KOR</td><td>232134</td><td>1</td><td>high</td><td>true</td></tr><tr><td>TXT</td><td>Magic</td><td>2019-10-21</td><td>KOR</td><td>300910</td><td>1</td><td>high</td><td>true</td></tr><tr><td>TXT</td><td>Magic</td><td>2019-10-21</td><td>JPN</td><td>14296</td><td>11</td><td>low</td><td>false</td></tr><tr><td>TXT</td><td>Still Dreaming</td><td>2021-01-20</td><td>JPN</td><td>102041</td><td>1</td><td>high</td><td>true</td></tr><tr><td>TXT</td><td>Star</td><td>2019-03-04</td><td>KOR</td><td>278846</td><td>1</td><td>high</td><td>true</td></tr><tr><td>TXT</td><td>Star</td><td>2019-03-04</td><td>JPN</td><td>26176</td><td>3</td><td>low</td><td>true</td></tr><tr><td>TXT</td><td>Eternity</td><td>2020-05-18</td><td>KOR</td><td>379053</td><td>2</td><td>high</td><td>true</td></tr><tr><td>TXT</td><td>Eternity</td><td>2020-05-18</td><td>JPN</td><td>38814</td><td>1</td><td>low</td><td>true</td></tr><tr><td>TXT</td><td>Blue Hour</td><td>2020-10-26</td><td>KOR</td><td>508626</td><td>1</td><td>very high</td><td>true</td></tr><tr><td>TXT</td><td>Blue Hour</td><td>2020-10-26</td><td>JPN</td><td>43870</td><td>1</td><td>low</td><td>true</td></tr><tr><td>(G)I-dle</td><td>Dumdi Dumdi</td><td>2020-08-03</td><td>KOR</td><td>125801</td><td>2</td><td>high</td><td>true</td></tr><tr><td>(G)I-dle</td><td>Dumdi Dumdi</td><td>2020-08-03</td><td>CHN</td><td>182749</td><td>0</td><td>high</td><td>false</td></tr><tr><td>(G)I-dle</td><td>I Am</td><td>2018-05-02</td><td>KOR</td><td>51831</td><td>6</td><td>moderate</td><td>false</td></tr><tr><td>(G)I-dle</td><td>I Made</td><td>2019-02-26</td><td>KOR</td><td>51041</td><td>2</td><td>moderate</td><td>true</td></tr><tr><td>(G)I-dle</td><td>I Trust</td><td>2020-04-06</td><td>KOR</td><td>154499</td><td>1</td><td>high</td><td>true</td></tr><tr><td>(G)I-dle</td><td>I Trust</td><td>2020-04-06</td><td>JPN</td><td>1380</td><td>48</td><td>low</td><td>false</td></tr><tr><td>(G)I-dle</td><td>I Burn</td><td>2021-01-11</td><td>KOR</td><td>207927</td><td>3</td><td>high</td><td>true</td></tr><tr><td>(G)I-dle</td><td>Latata</td><td>2019-07-29</td><td>JPN</td><td>8229</td><td>5</td><td>low</td><td>false</td></tr><tr><td>(G)I-dle</td><td>Oh My God</td><td>2020-08-26</td><td>JPN</td><td>4229</td><td>23</td><td>low</td><td>false</td></tr><tr><td>Cravity</td><td>Season 1. Hideout: Remember Who We Are</td><td>2020-04-14</td><td>KOR</td><td>154360</td><td>1</td><td>high</td><td>true</td></tr><tr><td>Cravity</td><td>Season 1. Hideout: Remember Who We Are</td><td>2020-04-14</td><td>JPN</td><td>7304</td><td>10</td><td>low</td><td>false</td></tr><tr><td>Verivery</td><td>Veri-Able</td><td>2019-04-24</td><td>KOR</td><td>17630</td><td>6</td><td>low</td><td>false</td></tr><tr><td>Verivery</td><td>Face Me</td><td>2020-01-07</td><td>KOR</td><td>28440</td><td>4</td><td>low</td><td>false</td></tr><tr><td>Verivery</td><td>Face You</td><td>2020-07-01</td><td>KOR</td><td>39626</td><td>8</td><td>low</td><td>false</td></tr><tr><td>Verivery</td><td>Face Us</td><td>2020-10-13</td><td>KOR</td><td>59704</td><td>7</td><td>moderate</td><td>false</td></tr><tr><td>Verivery</td><td>Veri-Chill</td><td>2019-07-31</td><td>KOR</td><td>16698</td><td>10</td><td>low</td><td>false</td></tr><tr><td>Verivery</td><td>Series 'O' Round 1: Hall</td><td>2021-03-02</td><td>KOR</td><td>49999</td><td>4</td><td>low</td><td>false</td></tr><tr><td>Loona</td><td>[ + +]</td><td>2018-08-20</td><td>KOR</td><td>61466</td><td>2</td><td>moderate</td><td>true</td></tr><tr><td>Loona</td><td>[#]</td><td>2020-02-05</td><td>KOR</td><td>83522</td><td>2</td><td>moderate</td><td>true</td></tr><tr><td>Loona</td><td>[12:00]</td><td>2020-10-19</td><td>KOR</td><td>116614</td><td>4</td><td>high</td><td>false</td></tr><tr><td>Loona</td><td>Love & Live</td><td>2017-03-13</td><td>KOR</td><td>7130</td><td>10</td><td>low</td><td>false</td></tr><tr><td>Loona</td><td>Mix & Match</td><td>2017-09-21</td><td>KOR</td><td>7869</td><td>16</td><td>low</td><td>false</td></tr><tr><td>Loona</td><td>beauty&thebeat</td><td>2018-05-30</td><td>KOR</td><td>18138</td><td>4</td><td>low</td><td>false</td></tr><tr><td>Loona</td><td>[x x]</td><td>2019-02-19</td><td>KOR</td><td>45782</td><td>3</td><td>low</td><td>true</td></tr><tr><td>Loona</td><td>Love & Evil</td><td>2017-04-27</td><td>KOR</td><td>5924</td><td>24</td><td>low</td><td>false</td></tr><tr><td>Loona</td><td>Max & Match </td><td>2017-10-31</td><td>KOR</td><td>11136</td><td>7</td><td>low</td><td>false</td></tr><tr><td>Ateez</td><td>Treasure EP.Fin: All to Action</td><td>2019-10-08</td><td>KOR</td><td>209316</td><td>1</td><td>high</td><td>true</td></tr><tr><td>Ateez</td><td>Treasure EP.Extra: Shift the Map</td><td>2019-12-04</td><td>JPN</td><td>13113</td><td>9</td><td>low</td><td>false</td></tr><tr><td>Ateez</td><td>Into the A to Z</td><td>2021-03-24</td><td>JPN</td><td>10813</td><td>6</td><td>low</td><td>false</td></tr><tr><td>Ateez</td><td>Treasure EP.1: All to Zero</td><td>2018-10-24</td><td>KOR</td><td>85109</td><td>7</td><td>moderate</td><td>false</td></tr><tr><td>Ateez</td><td>Treasure EP.2: Zero to One</td><td>2019-01-15</td><td>KOR</td><td>100039</td><td>6</td><td>high</td><td>false</td></tr><tr><td>Ateez</td><td>Treasure EP.3: One to All</td><td>2019-06-10</td><td>KOR</td><td>180121</td><td>2</td><td>high</td><td>true</td></tr><tr><td>Ateez</td><td>Treasure EP.3: One to All</td><td>2019-06-10</td><td>JPN</td><td>2896</td><td>25</td><td>low</td><td>false</td></tr><tr><td>Ateez</td><td>Treasure Epilogue: Action to Answer</td><td>2020-01-06</td><td>KOR</td><td>184339</td><td>1</td><td>high</td><td>true</td></tr><tr><td>Ateez</td><td>Treasure Epilogue: Action to Answer</td><td>2020-01-06</td><td>JPN</td><td>1472</td><td>31</td><td>low</td><td>false</td></tr><tr><td>Ateez</td><td>Treasure EP. Map to Answer</td><td>2020-02-12</td><td>JPN</td><td>18720</td><td>3</td><td>low</td><td>true</td></tr><tr><td>Ateez</td><td>Zero: Fever Part.1</td><td>2020-07-29</td><td>KOR</td><td>379505</td><td>1</td><td>high</td><td>true</td></tr><tr><td>Ateez</td><td>Zero: Fever Part.1</td><td>2020-07-29</td><td>JPN</td><td>11324</td><td>35</td><td>low</td><td>false</td></tr><tr><td>Ateez</td><td>Zero: Fever Part.2</td><td>2021-03-01</td><td>KOR</td><td>380711</td><td>1</td><td>high</td><td>true</td></tr><tr><td>Ateez</td><td>Zero: Fever Part.2</td><td>2021-03-01</td><td>JPN</td><td>11027</td><td>10</td><td>low</td><td>false</td></tr><tr><td>Everglow</td><td>Reminiscence</td><td>2020-02-03</td><td>KOR</td><td>30912</td><td>4</td><td>low</td><td>false</td></tr><tr><td>Everglow</td><td>Reminiscence</td><td>2020-02-03</td><td>JPN</td><td>1649</td><td>48</td><td>low</td><td>false</td></tr><tr><td>Everglow</td><td>-77.82X-78.29</td><td>2020-09-21</td><td>KOR</td><td>49388</td><td>4</td><td>low</td><td>false</td></tr><tr><td>Everglow</td><td>Arrival of Everglow</td><td>2019-03-18</td><td>KOR</td><td>28033</td><td>6</td><td>low</td><td>false</td></tr><tr><td>Everglow</td><td>Hush</td><td>2019-08-19</td><td>KOR</td><td>28639</td><td>5</td><td>low</td><td>false</td></tr></tbody></table></div>"
      ]
     },
     "metadata": {
      "application/vnd.databricks.v1+output": {
       "addedWidgets": {},
       "aggData": [],
       "aggError": "",
       "aggOverflow": false,
       "aggSchema": [],
       "aggSeriesLimitReached": false,
       "aggType": "",
       "arguments": {},
       "columnCustomDisplayInfos": {},
       "data": [
        [
         "IZONE",
         "Bloom*iz",
         "2020-02-17",
         "KOR",
         492504,
         2,
         "high",
         true
        ],
        [
         "IZONE",
         "Bloom*iz",
         "2020-02-17",
         "JPN",
         23960,
         3,
         "low",
         true
        ],
        [
         "IZONE",
         "TWELVE",
         "2020-10-21",
         "JPN",
         135113,
         1,
         "high",
         true
        ],
        [
         "IZONE",
         "Color*Iz",
         "2018-10-29",
         "KOR",
         282816,
         2,
         "high",
         true
        ],
        [
         "IZONE",
         "Color*Iz",
         "2018-10-29",
         "JPN",
         null,
         1,
         "very high",
         true
        ],
        [
         "IZONE",
         "Heart*Iz",
         "2020-04-01",
         "KOR",
         306812,
         1,
         "high",
         true
        ],
        [
         "IZONE",
         "Heart*Iz",
         "2020-04-01",
         "JPN",
         40065,
         4,
         "low",
         false
        ],
        [
         "IZONE",
         "Oneiric Diary",
         "2020-06-15",
         "KOR",
         559138,
         2,
         "very high",
         true
        ],
        [
         "IZONE",
         "Oneiric Diary",
         "2020-06-15",
         "JPN",
         19928,
         8,
         "low",
         false
        ],
        [
         "IZONE",
         "One-reeler/Act IV",
         "2020-12-07",
         "KOR",
         447749,
         1,
         "high",
         true
        ],
        [
         "ITZY",
         "It'z Icy",
         "2019-05-29",
         "KOR",
         149349,
         3,
         "high",
         true
        ],
        [
         "ITZY",
         "It'z Icy",
         "2019-05-29",
         "JPN",
         15742,
         12,
         "low",
         false
        ],
        [
         "ITZY",
         "It'z Me",
         "2020-03-09",
         "KOR",
         150851,
         1,
         "high",
         true
        ],
        [
         "ITZY",
         "It'z Me",
         "2020-03-09",
         "JPN",
         10882,
         13,
         "low",
         false
        ],
        [
         "ITZY",
         "Not Shy",
         "2020-08-17",
         "KOR",
         219048,
         1,
         "high",
         true
        ],
        [
         "ITZY",
         "Not Shy",
         "2020-08-17",
         "JPN",
         14201,
         8,
         "low",
         false
        ],
        [
         "Stray Kids",
         "In Life",
         "2020-09-14",
         "KOR",
         473616,
         1,
         "high",
         true
        ],
        [
         "Stray Kids",
         "In Life",
         "2020-09-14",
         "JPN",
         39911,
         11,
         "low",
         false
        ],
        [
         "Stray Kids",
         "Mixtape",
         "2018-01-08",
         "KOR",
         118921,
         2,
         "high",
         true
        ],
        [
         "Stray Kids",
         "Mixtape",
         "2018-01-08",
         "JPN",
         1063,
         47,
         "low",
         false
        ],
        [
         "Stray Kids",
         "I Am Not",
         "2018-03-26",
         "KOR",
         159343,
         4,
         "high",
         false
        ],
        [
         "Stray Kids",
         "I Am Not",
         "2018-03-26",
         "JPN",
         2036,
         0,
         "low",
         false
        ],
        [
         "Stray Kids",
         "I Am Who",
         "2018-08-06",
         "KOR",
         185273,
         3,
         "high",
         true
        ],
        [
         "Stray Kids",
         "I Am Who",
         "2018-08-06",
         "JPN",
         1474,
         34,
         "low",
         false
        ],
        [
         "Stray Kids",
         "I Am You",
         "2018-10-22",
         "KOR",
         189129,
         2,
         "high",
         true
        ],
        [
         "Stray Kids",
         "I Am You",
         "2018-10-22",
         "JPN",
         2234,
         34,
         "low",
         false
        ],
        [
         "Stray Kids",
         "Miroh",
         "2019-03-25",
         "KOR",
         226383,
         1,
         "high",
         true
        ],
        [
         "Stray Kids",
         "Miroh",
         "2019-03-25",
         "JPN",
         5856,
         15,
         "low",
         false
        ],
        [
         "Stray Kids",
         "Yellow Wood",
         "2019-06-19",
         "KOR",
         192796,
         2,
         "high",
         true
        ],
        [
         "Stray Kids",
         "Yellow Wood",
         "2019-06-19",
         "JPN",
         3379,
         17,
         "low",
         false
        ],
        [
         "Stray Kids",
         "Levanter",
         "2019-12-09",
         "KOR",
         247074,
         1,
         "high",
         true
        ],
        [
         "Stray Kids",
         "Levanter",
         "2019-12-09",
         "JPN",
         9116,
         17,
         "low",
         false
        ],
        [
         "Stray Kids",
         "All In",
         "2020-11-04",
         "JPN",
         59361,
         2,
         "moderate",
         true
        ],
        [
         "Treasure",
         "Treasure Effect",
         "2021-01-11",
         "KOR",
         307457,
         1,
         "high",
         true
        ],
        [
         "Treasure",
         "Treasure Effect",
         "2021-01-11",
         "JPN",
         83755,
         1,
         "moderate",
         true
        ],
        [
         "Treasure",
         "Chapter One",
         "2020-08-07",
         "KOR",
         250000,
         1,
         "high",
         true
        ],
        [
         "Treasure",
         "Chapter Two",
         "2020-09-18",
         "KOR",
         239326,
         2,
         "high",
         true
        ],
        [
         "Treasure",
         "Chapter Three",
         "2020-11-06",
         "KOR",
         232134,
         1,
         "high",
         true
        ],
        [
         "TXT",
         "Magic",
         "2019-10-21",
         "KOR",
         300910,
         1,
         "high",
         true
        ],
        [
         "TXT",
         "Magic",
         "2019-10-21",
         "JPN",
         14296,
         11,
         "low",
         false
        ],
        [
         "TXT",
         "Still Dreaming",
         "2021-01-20",
         "JPN",
         102041,
         1,
         "high",
         true
        ],
        [
         "TXT",
         "Star",
         "2019-03-04",
         "KOR",
         278846,
         1,
         "high",
         true
        ],
        [
         "TXT",
         "Star",
         "2019-03-04",
         "JPN",
         26176,
         3,
         "low",
         true
        ],
        [
         "TXT",
         "Eternity",
         "2020-05-18",
         "KOR",
         379053,
         2,
         "high",
         true
        ],
        [
         "TXT",
         "Eternity",
         "2020-05-18",
         "JPN",
         38814,
         1,
         "low",
         true
        ],
        [
         "TXT",
         "Blue Hour",
         "2020-10-26",
         "KOR",
         508626,
         1,
         "very high",
         true
        ],
        [
         "TXT",
         "Blue Hour",
         "2020-10-26",
         "JPN",
         43870,
         1,
         "low",
         true
        ],
        [
         "(G)I-dle",
         "Dumdi Dumdi",
         "2020-08-03",
         "KOR",
         125801,
         2,
         "high",
         true
        ],
        [
         "(G)I-dle",
         "Dumdi Dumdi",
         "2020-08-03",
         "CHN",
         182749,
         0,
         "high",
         false
        ],
        [
         "(G)I-dle",
         "I Am",
         "2018-05-02",
         "KOR",
         51831,
         6,
         "moderate",
         false
        ],
        [
         "(G)I-dle",
         "I Made",
         "2019-02-26",
         "KOR",
         51041,
         2,
         "moderate",
         true
        ],
        [
         "(G)I-dle",
         "I Trust",
         "2020-04-06",
         "KOR",
         154499,
         1,
         "high",
         true
        ],
        [
         "(G)I-dle",
         "I Trust",
         "2020-04-06",
         "JPN",
         1380,
         48,
         "low",
         false
        ],
        [
         "(G)I-dle",
         "I Burn",
         "2021-01-11",
         "KOR",
         207927,
         3,
         "high",
         true
        ],
        [
         "(G)I-dle",
         "Latata",
         "2019-07-29",
         "JPN",
         8229,
         5,
         "low",
         false
        ],
        [
         "(G)I-dle",
         "Oh My God",
         "2020-08-26",
         "JPN",
         4229,
         23,
         "low",
         false
        ],
        [
         "Cravity",
         "Season 1. Hideout: Remember Who We Are",
         "2020-04-14",
         "KOR",
         154360,
         1,
         "high",
         true
        ],
        [
         "Cravity",
         "Season 1. Hideout: Remember Who We Are",
         "2020-04-14",
         "JPN",
         7304,
         10,
         "low",
         false
        ],
        [
         "Verivery",
         "Veri-Able",
         "2019-04-24",
         "KOR",
         17630,
         6,
         "low",
         false
        ],
        [
         "Verivery",
         "Face Me",
         "2020-01-07",
         "KOR",
         28440,
         4,
         "low",
         false
        ],
        [
         "Verivery",
         "Face You",
         "2020-07-01",
         "KOR",
         39626,
         8,
         "low",
         false
        ],
        [
         "Verivery",
         "Face Us",
         "2020-10-13",
         "KOR",
         59704,
         7,
         "moderate",
         false
        ],
        [
         "Verivery",
         "Veri-Chill",
         "2019-07-31",
         "KOR",
         16698,
         10,
         "low",
         false
        ],
        [
         "Verivery",
         "Series 'O' Round 1: Hall",
         "2021-03-02",
         "KOR",
         49999,
         4,
         "low",
         false
        ],
        [
         "Loona",
         "[ + +]",
         "2018-08-20",
         "KOR",
         61466,
         2,
         "moderate",
         true
        ],
        [
         "Loona",
         "[#]",
         "2020-02-05",
         "KOR",
         83522,
         2,
         "moderate",
         true
        ],
        [
         "Loona",
         "[12:00]",
         "2020-10-19",
         "KOR",
         116614,
         4,
         "high",
         false
        ],
        [
         "Loona",
         "Love & Live",
         "2017-03-13",
         "KOR",
         7130,
         10,
         "low",
         false
        ],
        [
         "Loona",
         "Mix & Match",
         "2017-09-21",
         "KOR",
         7869,
         16,
         "low",
         false
        ],
        [
         "Loona",
         "beauty&thebeat",
         "2018-05-30",
         "KOR",
         18138,
         4,
         "low",
         false
        ],
        [
         "Loona",
         "[x x]",
         "2019-02-19",
         "KOR",
         45782,
         3,
         "low",
         true
        ],
        [
         "Loona",
         "Love & Evil",
         "2017-04-27",
         "KOR",
         5924,
         24,
         "low",
         false
        ],
        [
         "Loona",
         "Max & Match ",
         "2017-10-31",
         "KOR",
         11136,
         7,
         "low",
         false
        ],
        [
         "Ateez",
         "Treasure EP.Fin: All to Action",
         "2019-10-08",
         "KOR",
         209316,
         1,
         "high",
         true
        ],
        [
         "Ateez",
         "Treasure EP.Extra: Shift the Map",
         "2019-12-04",
         "JPN",
         13113,
         9,
         "low",
         false
        ],
        [
         "Ateez",
         "Into the A to Z",
         "2021-03-24",
         "JPN",
         10813,
         6,
         "low",
         false
        ],
        [
         "Ateez",
         "Treasure EP.1: All to Zero",
         "2018-10-24",
         "KOR",
         85109,
         7,
         "moderate",
         false
        ],
        [
         "Ateez",
         "Treasure EP.2: Zero to One",
         "2019-01-15",
         "KOR",
         100039,
         6,
         "high",
         false
        ],
        [
         "Ateez",
         "Treasure EP.3: One to All",
         "2019-06-10",
         "KOR",
         180121,
         2,
         "high",
         true
        ],
        [
         "Ateez",
         "Treasure EP.3: One to All",
         "2019-06-10",
         "JPN",
         2896,
         25,
         "low",
         false
        ],
        [
         "Ateez",
         "Treasure Epilogue: Action to Answer",
         "2020-01-06",
         "KOR",
         184339,
         1,
         "high",
         true
        ],
        [
         "Ateez",
         "Treasure Epilogue: Action to Answer",
         "2020-01-06",
         "JPN",
         1472,
         31,
         "low",
         false
        ],
        [
         "Ateez",
         "Treasure EP. Map to Answer",
         "2020-02-12",
         "JPN",
         18720,
         3,
         "low",
         true
        ],
        [
         "Ateez",
         "Zero: Fever Part.1",
         "2020-07-29",
         "KOR",
         379505,
         1,
         "high",
         true
        ],
        [
         "Ateez",
         "Zero: Fever Part.1",
         "2020-07-29",
         "JPN",
         11324,
         35,
         "low",
         false
        ],
        [
         "Ateez",
         "Zero: Fever Part.2",
         "2021-03-01",
         "KOR",
         380711,
         1,
         "high",
         true
        ],
        [
         "Ateez",
         "Zero: Fever Part.2",
         "2021-03-01",
         "JPN",
         11027,
         10,
         "low",
         false
        ],
        [
         "Everglow",
         "Reminiscence",
         "2020-02-03",
         "KOR",
         30912,
         4,
         "low",
         false
        ],
        [
         "Everglow",
         "Reminiscence",
         "2020-02-03",
         "JPN",
         1649,
         48,
         "low",
         false
        ],
        [
         "Everglow",
         "-77.82X-78.29",
         "2020-09-21",
         "KOR",
         49388,
         4,
         "low",
         false
        ],
        [
         "Everglow",
         "Arrival of Everglow",
         "2019-03-18",
         "KOR",
         28033,
         6,
         "low",
         false
        ],
        [
         "Everglow",
         "Hush",
         "2019-08-19",
         "KOR",
         28639,
         5,
         "low",
         false
        ]
       ],
       "datasetInfos": [],
       "dbfsResultPath": null,
       "isJsonSchema": true,
       "metadata": {},
       "overflow": false,
       "plotOptions": {
        "customPlotOptions": {},
        "displayType": "table",
        "pivotAggregation": null,
        "pivotColumns": null,
        "xColumns": null,
        "yColumns": null
       },
       "removedWidgets": [],
       "schema": [
        {
         "metadata": "{}",
         "name": "Artist",
         "type": "\"string\""
        },
        {
         "metadata": "{}",
         "name": "title",
         "type": "\"string\""
        },
        {
         "metadata": "{\"__detected_date_formats\":\"M/d/yyyy\"}",
         "name": "date",
         "type": "\"date\""
        },
        {
         "metadata": "{}",
         "name": "country",
         "type": "\"string\""
        },
        {
         "metadata": "{}",
         "name": "sales",
         "type": "\"integer\""
        },
        {
         "metadata": "{}",
         "name": "peak_chart",
         "type": "\"integer\""
        },
        {
         "metadata": "{}",
         "name": "sales_success",
         "type": "\"string\""
        },
        {
         "metadata": "{}",
         "name": "is_chart_topper",
         "type": "\"boolean\""
        }
       ],
       "type": "table"
      }
     },
     "output_type": "display_data"
    }
   ],
   "source": [
    "from pyspark.sql.functions import when\n",
    "# I have used when function to create a columns is_chart_topper so we can get the top rated songs. I have used the isin function to create a range of values.Anything within that range will be considered True and the rest will be considered false\n",
    "display(df.withColumn('is_chart_topper', when(col('peak_chart').isin([1, 2, 3]), True).otherwise(False)))"
   ]
  },
  {
   "cell_type": "code",
   "execution_count": 0,
   "metadata": {
    "application/vnd.databricks.v1+cell": {
     "cellMetadata": {
      "byteLimit": 2048000,
      "rowLimit": 10000
     },
     "inputWidgets": {},
     "nuid": "4d830519-a0c8-434d-b3e3-d70add2a3876",
     "showTitle": false,
     "tableResultSettingsMap": {},
     "title": ""
    }
   },
   "outputs": [
    {
     "output_type": "display_data",
     "data": {
      "text/html": [
       "<style scoped>\n",
       "  .table-result-container {\n",
       "    max-height: 300px;\n",
       "    overflow: auto;\n",
       "  }\n",
       "  table, th, td {\n",
       "    border: 1px solid black;\n",
       "    border-collapse: collapse;\n",
       "  }\n",
       "  th, td {\n",
       "    padding: 5px;\n",
       "  }\n",
       "  th {\n",
       "    text-align: left;\n",
       "  }\n",
       "</style><div class='table-result-container'><table class='table-result'><thead style='background-color: white'><tr><th>Artist</th><th>title</th><th>date</th><th>country</th><th>sales</th><th>peak_chart</th><th>sales_success</th><th>is_chart_topper</th></tr></thead><tbody><tr><td>IZONE</td><td>Bloom*iz</td><td>2020-02-17</td><td>KOR</td><td>492504</td><td>2</td><td>high</td><td>true</td></tr><tr><td>IZONE</td><td>Bloom*iz</td><td>2020-02-17</td><td>JPN</td><td>23960</td><td>3</td><td>low</td><td>true</td></tr><tr><td>IZONE</td><td>TWELVE</td><td>2020-10-21</td><td>JPN</td><td>135113</td><td>1</td><td>high</td><td>true</td></tr><tr><td>IZONE</td><td>Color*Iz</td><td>2018-10-29</td><td>KOR</td><td>282816</td><td>2</td><td>high</td><td>true</td></tr><tr><td>IZONE</td><td>Color*Iz</td><td>2018-10-29</td><td>JPN</td><td>null</td><td>1</td><td>very high</td><td>true</td></tr><tr><td>IZONE</td><td>Heart*Iz</td><td>2020-04-01</td><td>KOR</td><td>306812</td><td>1</td><td>high</td><td>true</td></tr><tr><td>IZONE</td><td>Heart*Iz</td><td>2020-04-01</td><td>JPN</td><td>40065</td><td>4</td><td>low</td><td>false</td></tr><tr><td>IZONE</td><td>Oneiric Diary</td><td>2020-06-15</td><td>KOR</td><td>559138</td><td>2</td><td>very high</td><td>true</td></tr><tr><td>IZONE</td><td>Oneiric Diary</td><td>2020-06-15</td><td>JPN</td><td>19928</td><td>8</td><td>low</td><td>false</td></tr><tr><td>IZONE</td><td>One-reeler/Act IV</td><td>2020-12-07</td><td>KOR</td><td>447749</td><td>1</td><td>high</td><td>true</td></tr><tr><td>ITZY</td><td>It'z Icy</td><td>2019-05-29</td><td>KOR</td><td>149349</td><td>3</td><td>high</td><td>true</td></tr><tr><td>ITZY</td><td>It'z Icy</td><td>2019-05-29</td><td>JPN</td><td>15742</td><td>12</td><td>low</td><td>false</td></tr><tr><td>ITZY</td><td>It'z Me</td><td>2020-03-09</td><td>KOR</td><td>150851</td><td>1</td><td>high</td><td>true</td></tr><tr><td>ITZY</td><td>It'z Me</td><td>2020-03-09</td><td>JPN</td><td>10882</td><td>13</td><td>low</td><td>false</td></tr><tr><td>ITZY</td><td>Not Shy</td><td>2020-08-17</td><td>KOR</td><td>219048</td><td>1</td><td>high</td><td>true</td></tr><tr><td>ITZY</td><td>Not Shy</td><td>2020-08-17</td><td>JPN</td><td>14201</td><td>8</td><td>low</td><td>false</td></tr><tr><td>Stray Kids</td><td>In Life</td><td>2020-09-14</td><td>KOR</td><td>473616</td><td>1</td><td>high</td><td>true</td></tr><tr><td>Stray Kids</td><td>In Life</td><td>2020-09-14</td><td>JPN</td><td>39911</td><td>11</td><td>low</td><td>false</td></tr><tr><td>Stray Kids</td><td>Mixtape</td><td>2018-01-08</td><td>KOR</td><td>118921</td><td>2</td><td>high</td><td>true</td></tr><tr><td>Stray Kids</td><td>Mixtape</td><td>2018-01-08</td><td>JPN</td><td>1063</td><td>47</td><td>low</td><td>false</td></tr><tr><td>Stray Kids</td><td>I Am Not</td><td>2018-03-26</td><td>KOR</td><td>159343</td><td>4</td><td>high</td><td>false</td></tr><tr><td>Stray Kids</td><td>I Am Not</td><td>2018-03-26</td><td>JPN</td><td>2036</td><td>0</td><td>low</td><td>false</td></tr><tr><td>Stray Kids</td><td>I Am Who</td><td>2018-08-06</td><td>KOR</td><td>185273</td><td>3</td><td>high</td><td>true</td></tr><tr><td>Stray Kids</td><td>I Am Who</td><td>2018-08-06</td><td>JPN</td><td>1474</td><td>34</td><td>low</td><td>false</td></tr><tr><td>Stray Kids</td><td>I Am You</td><td>2018-10-22</td><td>KOR</td><td>189129</td><td>2</td><td>high</td><td>true</td></tr><tr><td>Stray Kids</td><td>I Am You</td><td>2018-10-22</td><td>JPN</td><td>2234</td><td>34</td><td>low</td><td>false</td></tr><tr><td>Stray Kids</td><td>Miroh</td><td>2019-03-25</td><td>KOR</td><td>226383</td><td>1</td><td>high</td><td>true</td></tr><tr><td>Stray Kids</td><td>Miroh</td><td>2019-03-25</td><td>JPN</td><td>5856</td><td>15</td><td>low</td><td>false</td></tr><tr><td>Stray Kids</td><td>Yellow Wood</td><td>2019-06-19</td><td>KOR</td><td>192796</td><td>2</td><td>high</td><td>true</td></tr><tr><td>Stray Kids</td><td>Yellow Wood</td><td>2019-06-19</td><td>JPN</td><td>3379</td><td>17</td><td>low</td><td>false</td></tr><tr><td>Stray Kids</td><td>Levanter</td><td>2019-12-09</td><td>KOR</td><td>247074</td><td>1</td><td>high</td><td>true</td></tr><tr><td>Stray Kids</td><td>Levanter</td><td>2019-12-09</td><td>JPN</td><td>9116</td><td>17</td><td>low</td><td>false</td></tr><tr><td>Stray Kids</td><td>All In</td><td>2020-11-04</td><td>JPN</td><td>59361</td><td>2</td><td>moderate</td><td>true</td></tr><tr><td>Treasure</td><td>Treasure Effect</td><td>2021-01-11</td><td>KOR</td><td>307457</td><td>1</td><td>high</td><td>true</td></tr><tr><td>Treasure</td><td>Treasure Effect</td><td>2021-01-11</td><td>JPN</td><td>83755</td><td>1</td><td>moderate</td><td>true</td></tr><tr><td>Treasure</td><td>Chapter One</td><td>2020-08-07</td><td>KOR</td><td>250000</td><td>1</td><td>high</td><td>true</td></tr><tr><td>Treasure</td><td>Chapter Two</td><td>2020-09-18</td><td>KOR</td><td>239326</td><td>2</td><td>high</td><td>true</td></tr><tr><td>Treasure</td><td>Chapter Three</td><td>2020-11-06</td><td>KOR</td><td>232134</td><td>1</td><td>high</td><td>true</td></tr><tr><td>TXT</td><td>Magic</td><td>2019-10-21</td><td>KOR</td><td>300910</td><td>1</td><td>high</td><td>true</td></tr><tr><td>TXT</td><td>Magic</td><td>2019-10-21</td><td>JPN</td><td>14296</td><td>11</td><td>low</td><td>false</td></tr><tr><td>TXT</td><td>Still Dreaming</td><td>2021-01-20</td><td>JPN</td><td>102041</td><td>1</td><td>high</td><td>true</td></tr><tr><td>TXT</td><td>Star</td><td>2019-03-04</td><td>KOR</td><td>278846</td><td>1</td><td>high</td><td>true</td></tr><tr><td>TXT</td><td>Star</td><td>2019-03-04</td><td>JPN</td><td>26176</td><td>3</td><td>low</td><td>true</td></tr><tr><td>TXT</td><td>Eternity</td><td>2020-05-18</td><td>KOR</td><td>379053</td><td>2</td><td>high</td><td>true</td></tr><tr><td>TXT</td><td>Eternity</td><td>2020-05-18</td><td>JPN</td><td>38814</td><td>1</td><td>low</td><td>true</td></tr><tr><td>TXT</td><td>Blue Hour</td><td>2020-10-26</td><td>KOR</td><td>508626</td><td>1</td><td>very high</td><td>true</td></tr><tr><td>TXT</td><td>Blue Hour</td><td>2020-10-26</td><td>JPN</td><td>43870</td><td>1</td><td>low</td><td>true</td></tr><tr><td>(G)I-dle</td><td>Dumdi Dumdi</td><td>2020-08-03</td><td>KOR</td><td>125801</td><td>2</td><td>high</td><td>true</td></tr><tr><td>(G)I-dle</td><td>Dumdi Dumdi</td><td>2020-08-03</td><td>CHN</td><td>182749</td><td>0</td><td>high</td><td>false</td></tr><tr><td>(G)I-dle</td><td>I Am</td><td>2018-05-02</td><td>KOR</td><td>51831</td><td>6</td><td>moderate</td><td>false</td></tr><tr><td>(G)I-dle</td><td>I Made</td><td>2019-02-26</td><td>KOR</td><td>51041</td><td>2</td><td>moderate</td><td>true</td></tr><tr><td>(G)I-dle</td><td>I Trust</td><td>2020-04-06</td><td>KOR</td><td>154499</td><td>1</td><td>high</td><td>true</td></tr><tr><td>(G)I-dle</td><td>I Trust</td><td>2020-04-06</td><td>JPN</td><td>1380</td><td>48</td><td>low</td><td>false</td></tr><tr><td>(G)I-dle</td><td>I Burn</td><td>2021-01-11</td><td>KOR</td><td>207927</td><td>3</td><td>high</td><td>true</td></tr><tr><td>(G)I-dle</td><td>Latata</td><td>2019-07-29</td><td>JPN</td><td>8229</td><td>5</td><td>low</td><td>false</td></tr><tr><td>(G)I-dle</td><td>Oh My God</td><td>2020-08-26</td><td>JPN</td><td>4229</td><td>23</td><td>low</td><td>false</td></tr><tr><td>Cravity</td><td>Season 1. Hideout: Remember Who We Are</td><td>2020-04-14</td><td>KOR</td><td>154360</td><td>1</td><td>high</td><td>true</td></tr><tr><td>Cravity</td><td>Season 1. Hideout: Remember Who We Are</td><td>2020-04-14</td><td>JPN</td><td>7304</td><td>10</td><td>low</td><td>false</td></tr><tr><td>Verivery</td><td>Veri-Able</td><td>2019-04-24</td><td>KOR</td><td>17630</td><td>6</td><td>low</td><td>false</td></tr><tr><td>Verivery</td><td>Face Me</td><td>2020-01-07</td><td>KOR</td><td>28440</td><td>4</td><td>low</td><td>false</td></tr><tr><td>Verivery</td><td>Face You</td><td>2020-07-01</td><td>KOR</td><td>39626</td><td>8</td><td>low</td><td>false</td></tr><tr><td>Verivery</td><td>Face Us</td><td>2020-10-13</td><td>KOR</td><td>59704</td><td>7</td><td>moderate</td><td>false</td></tr><tr><td>Verivery</td><td>Veri-Chill</td><td>2019-07-31</td><td>KOR</td><td>16698</td><td>10</td><td>low</td><td>false</td></tr><tr><td>Verivery</td><td>Series 'O' Round 1: Hall</td><td>2021-03-02</td><td>KOR</td><td>49999</td><td>4</td><td>low</td><td>false</td></tr><tr><td>Loona</td><td>[ + +]</td><td>2018-08-20</td><td>KOR</td><td>61466</td><td>2</td><td>moderate</td><td>true</td></tr><tr><td>Loona</td><td>[#]</td><td>2020-02-05</td><td>KOR</td><td>83522</td><td>2</td><td>moderate</td><td>true</td></tr><tr><td>Loona</td><td>[12:00]</td><td>2020-10-19</td><td>KOR</td><td>116614</td><td>4</td><td>high</td><td>false</td></tr><tr><td>Loona</td><td>Love & Live</td><td>2017-03-13</td><td>KOR</td><td>7130</td><td>10</td><td>low</td><td>false</td></tr><tr><td>Loona</td><td>Mix & Match</td><td>2017-09-21</td><td>KOR</td><td>7869</td><td>16</td><td>low</td><td>false</td></tr><tr><td>Loona</td><td>beauty&thebeat</td><td>2018-05-30</td><td>KOR</td><td>18138</td><td>4</td><td>low</td><td>false</td></tr><tr><td>Loona</td><td>[x x]</td><td>2019-02-19</td><td>KOR</td><td>45782</td><td>3</td><td>low</td><td>true</td></tr><tr><td>Loona</td><td>Love & Evil</td><td>2017-04-27</td><td>KOR</td><td>5924</td><td>24</td><td>low</td><td>false</td></tr><tr><td>Loona</td><td>Max & Match </td><td>2017-10-31</td><td>KOR</td><td>11136</td><td>7</td><td>low</td><td>false</td></tr><tr><td>Ateez</td><td>Treasure EP.Fin: All to Action</td><td>2019-10-08</td><td>KOR</td><td>209316</td><td>1</td><td>high</td><td>true</td></tr><tr><td>Ateez</td><td>Treasure EP.Extra: Shift the Map</td><td>2019-12-04</td><td>JPN</td><td>13113</td><td>9</td><td>low</td><td>false</td></tr><tr><td>Ateez</td><td>Into the A to Z</td><td>2021-03-24</td><td>JPN</td><td>10813</td><td>6</td><td>low</td><td>false</td></tr><tr><td>Ateez</td><td>Treasure EP.1: All to Zero</td><td>2018-10-24</td><td>KOR</td><td>85109</td><td>7</td><td>moderate</td><td>false</td></tr><tr><td>Ateez</td><td>Treasure EP.2: Zero to One</td><td>2019-01-15</td><td>KOR</td><td>100039</td><td>6</td><td>high</td><td>false</td></tr><tr><td>Ateez</td><td>Treasure EP.3: One to All</td><td>2019-06-10</td><td>KOR</td><td>180121</td><td>2</td><td>high</td><td>true</td></tr><tr><td>Ateez</td><td>Treasure EP.3: One to All</td><td>2019-06-10</td><td>JPN</td><td>2896</td><td>25</td><td>low</td><td>false</td></tr><tr><td>Ateez</td><td>Treasure Epilogue: Action to Answer</td><td>2020-01-06</td><td>KOR</td><td>184339</td><td>1</td><td>high</td><td>true</td></tr><tr><td>Ateez</td><td>Treasure Epilogue: Action to Answer</td><td>2020-01-06</td><td>JPN</td><td>1472</td><td>31</td><td>low</td><td>false</td></tr><tr><td>Ateez</td><td>Treasure EP. Map to Answer</td><td>2020-02-12</td><td>JPN</td><td>18720</td><td>3</td><td>low</td><td>true</td></tr><tr><td>Ateez</td><td>Zero: Fever Part.1</td><td>2020-07-29</td><td>KOR</td><td>379505</td><td>1</td><td>high</td><td>true</td></tr><tr><td>Ateez</td><td>Zero: Fever Part.1</td><td>2020-07-29</td><td>JPN</td><td>11324</td><td>35</td><td>low</td><td>false</td></tr><tr><td>Ateez</td><td>Zero: Fever Part.2</td><td>2021-03-01</td><td>KOR</td><td>380711</td><td>1</td><td>high</td><td>true</td></tr><tr><td>Ateez</td><td>Zero: Fever Part.2</td><td>2021-03-01</td><td>JPN</td><td>11027</td><td>10</td><td>low</td><td>false</td></tr><tr><td>Everglow</td><td>Reminiscence</td><td>2020-02-03</td><td>KOR</td><td>30912</td><td>4</td><td>low</td><td>false</td></tr><tr><td>Everglow</td><td>Reminiscence</td><td>2020-02-03</td><td>JPN</td><td>1649</td><td>48</td><td>low</td><td>false</td></tr><tr><td>Everglow</td><td>-77.82X-78.29</td><td>2020-09-21</td><td>KOR</td><td>49388</td><td>4</td><td>low</td><td>false</td></tr><tr><td>Everglow</td><td>Arrival of Everglow</td><td>2019-03-18</td><td>KOR</td><td>28033</td><td>6</td><td>low</td><td>false</td></tr><tr><td>Everglow</td><td>Hush</td><td>2019-08-19</td><td>KOR</td><td>28639</td><td>5</td><td>low</td><td>false</td></tr></tbody></table></div>"
      ]
     },
     "metadata": {
      "application/vnd.databricks.v1+output": {
       "addedWidgets": {},
       "aggData": [],
       "aggError": "",
       "aggOverflow": false,
       "aggSchema": [],
       "aggSeriesLimitReached": false,
       "aggType": "",
       "arguments": {},
       "columnCustomDisplayInfos": {},
       "data": [
        [
         "IZONE",
         "Bloom*iz",
         "2020-02-17",
         "KOR",
         492504,
         2,
         "high",
         true
        ],
        [
         "IZONE",
         "Bloom*iz",
         "2020-02-17",
         "JPN",
         23960,
         3,
         "low",
         true
        ],
        [
         "IZONE",
         "TWELVE",
         "2020-10-21",
         "JPN",
         135113,
         1,
         "high",
         true
        ],
        [
         "IZONE",
         "Color*Iz",
         "2018-10-29",
         "KOR",
         282816,
         2,
         "high",
         true
        ],
        [
         "IZONE",
         "Color*Iz",
         "2018-10-29",
         "JPN",
         null,
         1,
         "very high",
         true
        ],
        [
         "IZONE",
         "Heart*Iz",
         "2020-04-01",
         "KOR",
         306812,
         1,
         "high",
         true
        ],
        [
         "IZONE",
         "Heart*Iz",
         "2020-04-01",
         "JPN",
         40065,
         4,
         "low",
         false
        ],
        [
         "IZONE",
         "Oneiric Diary",
         "2020-06-15",
         "KOR",
         559138,
         2,
         "very high",
         true
        ],
        [
         "IZONE",
         "Oneiric Diary",
         "2020-06-15",
         "JPN",
         19928,
         8,
         "low",
         false
        ],
        [
         "IZONE",
         "One-reeler/Act IV",
         "2020-12-07",
         "KOR",
         447749,
         1,
         "high",
         true
        ],
        [
         "ITZY",
         "It'z Icy",
         "2019-05-29",
         "KOR",
         149349,
         3,
         "high",
         true
        ],
        [
         "ITZY",
         "It'z Icy",
         "2019-05-29",
         "JPN",
         15742,
         12,
         "low",
         false
        ],
        [
         "ITZY",
         "It'z Me",
         "2020-03-09",
         "KOR",
         150851,
         1,
         "high",
         true
        ],
        [
         "ITZY",
         "It'z Me",
         "2020-03-09",
         "JPN",
         10882,
         13,
         "low",
         false
        ],
        [
         "ITZY",
         "Not Shy",
         "2020-08-17",
         "KOR",
         219048,
         1,
         "high",
         true
        ],
        [
         "ITZY",
         "Not Shy",
         "2020-08-17",
         "JPN",
         14201,
         8,
         "low",
         false
        ],
        [
         "Stray Kids",
         "In Life",
         "2020-09-14",
         "KOR",
         473616,
         1,
         "high",
         true
        ],
        [
         "Stray Kids",
         "In Life",
         "2020-09-14",
         "JPN",
         39911,
         11,
         "low",
         false
        ],
        [
         "Stray Kids",
         "Mixtape",
         "2018-01-08",
         "KOR",
         118921,
         2,
         "high",
         true
        ],
        [
         "Stray Kids",
         "Mixtape",
         "2018-01-08",
         "JPN",
         1063,
         47,
         "low",
         false
        ],
        [
         "Stray Kids",
         "I Am Not",
         "2018-03-26",
         "KOR",
         159343,
         4,
         "high",
         false
        ],
        [
         "Stray Kids",
         "I Am Not",
         "2018-03-26",
         "JPN",
         2036,
         0,
         "low",
         false
        ],
        [
         "Stray Kids",
         "I Am Who",
         "2018-08-06",
         "KOR",
         185273,
         3,
         "high",
         true
        ],
        [
         "Stray Kids",
         "I Am Who",
         "2018-08-06",
         "JPN",
         1474,
         34,
         "low",
         false
        ],
        [
         "Stray Kids",
         "I Am You",
         "2018-10-22",
         "KOR",
         189129,
         2,
         "high",
         true
        ],
        [
         "Stray Kids",
         "I Am You",
         "2018-10-22",
         "JPN",
         2234,
         34,
         "low",
         false
        ],
        [
         "Stray Kids",
         "Miroh",
         "2019-03-25",
         "KOR",
         226383,
         1,
         "high",
         true
        ],
        [
         "Stray Kids",
         "Miroh",
         "2019-03-25",
         "JPN",
         5856,
         15,
         "low",
         false
        ],
        [
         "Stray Kids",
         "Yellow Wood",
         "2019-06-19",
         "KOR",
         192796,
         2,
         "high",
         true
        ],
        [
         "Stray Kids",
         "Yellow Wood",
         "2019-06-19",
         "JPN",
         3379,
         17,
         "low",
         false
        ],
        [
         "Stray Kids",
         "Levanter",
         "2019-12-09",
         "KOR",
         247074,
         1,
         "high",
         true
        ],
        [
         "Stray Kids",
         "Levanter",
         "2019-12-09",
         "JPN",
         9116,
         17,
         "low",
         false
        ],
        [
         "Stray Kids",
         "All In",
         "2020-11-04",
         "JPN",
         59361,
         2,
         "moderate",
         true
        ],
        [
         "Treasure",
         "Treasure Effect",
         "2021-01-11",
         "KOR",
         307457,
         1,
         "high",
         true
        ],
        [
         "Treasure",
         "Treasure Effect",
         "2021-01-11",
         "JPN",
         83755,
         1,
         "moderate",
         true
        ],
        [
         "Treasure",
         "Chapter One",
         "2020-08-07",
         "KOR",
         250000,
         1,
         "high",
         true
        ],
        [
         "Treasure",
         "Chapter Two",
         "2020-09-18",
         "KOR",
         239326,
         2,
         "high",
         true
        ],
        [
         "Treasure",
         "Chapter Three",
         "2020-11-06",
         "KOR",
         232134,
         1,
         "high",
         true
        ],
        [
         "TXT",
         "Magic",
         "2019-10-21",
         "KOR",
         300910,
         1,
         "high",
         true
        ],
        [
         "TXT",
         "Magic",
         "2019-10-21",
         "JPN",
         14296,
         11,
         "low",
         false
        ],
        [
         "TXT",
         "Still Dreaming",
         "2021-01-20",
         "JPN",
         102041,
         1,
         "high",
         true
        ],
        [
         "TXT",
         "Star",
         "2019-03-04",
         "KOR",
         278846,
         1,
         "high",
         true
        ],
        [
         "TXT",
         "Star",
         "2019-03-04",
         "JPN",
         26176,
         3,
         "low",
         true
        ],
        [
         "TXT",
         "Eternity",
         "2020-05-18",
         "KOR",
         379053,
         2,
         "high",
         true
        ],
        [
         "TXT",
         "Eternity",
         "2020-05-18",
         "JPN",
         38814,
         1,
         "low",
         true
        ],
        [
         "TXT",
         "Blue Hour",
         "2020-10-26",
         "KOR",
         508626,
         1,
         "very high",
         true
        ],
        [
         "TXT",
         "Blue Hour",
         "2020-10-26",
         "JPN",
         43870,
         1,
         "low",
         true
        ],
        [
         "(G)I-dle",
         "Dumdi Dumdi",
         "2020-08-03",
         "KOR",
         125801,
         2,
         "high",
         true
        ],
        [
         "(G)I-dle",
         "Dumdi Dumdi",
         "2020-08-03",
         "CHN",
         182749,
         0,
         "high",
         false
        ],
        [
         "(G)I-dle",
         "I Am",
         "2018-05-02",
         "KOR",
         51831,
         6,
         "moderate",
         false
        ],
        [
         "(G)I-dle",
         "I Made",
         "2019-02-26",
         "KOR",
         51041,
         2,
         "moderate",
         true
        ],
        [
         "(G)I-dle",
         "I Trust",
         "2020-04-06",
         "KOR",
         154499,
         1,
         "high",
         true
        ],
        [
         "(G)I-dle",
         "I Trust",
         "2020-04-06",
         "JPN",
         1380,
         48,
         "low",
         false
        ],
        [
         "(G)I-dle",
         "I Burn",
         "2021-01-11",
         "KOR",
         207927,
         3,
         "high",
         true
        ],
        [
         "(G)I-dle",
         "Latata",
         "2019-07-29",
         "JPN",
         8229,
         5,
         "low",
         false
        ],
        [
         "(G)I-dle",
         "Oh My God",
         "2020-08-26",
         "JPN",
         4229,
         23,
         "low",
         false
        ],
        [
         "Cravity",
         "Season 1. Hideout: Remember Who We Are",
         "2020-04-14",
         "KOR",
         154360,
         1,
         "high",
         true
        ],
        [
         "Cravity",
         "Season 1. Hideout: Remember Who We Are",
         "2020-04-14",
         "JPN",
         7304,
         10,
         "low",
         false
        ],
        [
         "Verivery",
         "Veri-Able",
         "2019-04-24",
         "KOR",
         17630,
         6,
         "low",
         false
        ],
        [
         "Verivery",
         "Face Me",
         "2020-01-07",
         "KOR",
         28440,
         4,
         "low",
         false
        ],
        [
         "Verivery",
         "Face You",
         "2020-07-01",
         "KOR",
         39626,
         8,
         "low",
         false
        ],
        [
         "Verivery",
         "Face Us",
         "2020-10-13",
         "KOR",
         59704,
         7,
         "moderate",
         false
        ],
        [
         "Verivery",
         "Veri-Chill",
         "2019-07-31",
         "KOR",
         16698,
         10,
         "low",
         false
        ],
        [
         "Verivery",
         "Series 'O' Round 1: Hall",
         "2021-03-02",
         "KOR",
         49999,
         4,
         "low",
         false
        ],
        [
         "Loona",
         "[ + +]",
         "2018-08-20",
         "KOR",
         61466,
         2,
         "moderate",
         true
        ],
        [
         "Loona",
         "[#]",
         "2020-02-05",
         "KOR",
         83522,
         2,
         "moderate",
         true
        ],
        [
         "Loona",
         "[12:00]",
         "2020-10-19",
         "KOR",
         116614,
         4,
         "high",
         false
        ],
        [
         "Loona",
         "Love & Live",
         "2017-03-13",
         "KOR",
         7130,
         10,
         "low",
         false
        ],
        [
         "Loona",
         "Mix & Match",
         "2017-09-21",
         "KOR",
         7869,
         16,
         "low",
         false
        ],
        [
         "Loona",
         "beauty&thebeat",
         "2018-05-30",
         "KOR",
         18138,
         4,
         "low",
         false
        ],
        [
         "Loona",
         "[x x]",
         "2019-02-19",
         "KOR",
         45782,
         3,
         "low",
         true
        ],
        [
         "Loona",
         "Love & Evil",
         "2017-04-27",
         "KOR",
         5924,
         24,
         "low",
         false
        ],
        [
         "Loona",
         "Max & Match ",
         "2017-10-31",
         "KOR",
         11136,
         7,
         "low",
         false
        ],
        [
         "Ateez",
         "Treasure EP.Fin: All to Action",
         "2019-10-08",
         "KOR",
         209316,
         1,
         "high",
         true
        ],
        [
         "Ateez",
         "Treasure EP.Extra: Shift the Map",
         "2019-12-04",
         "JPN",
         13113,
         9,
         "low",
         false
        ],
        [
         "Ateez",
         "Into the A to Z",
         "2021-03-24",
         "JPN",
         10813,
         6,
         "low",
         false
        ],
        [
         "Ateez",
         "Treasure EP.1: All to Zero",
         "2018-10-24",
         "KOR",
         85109,
         7,
         "moderate",
         false
        ],
        [
         "Ateez",
         "Treasure EP.2: Zero to One",
         "2019-01-15",
         "KOR",
         100039,
         6,
         "high",
         false
        ],
        [
         "Ateez",
         "Treasure EP.3: One to All",
         "2019-06-10",
         "KOR",
         180121,
         2,
         "high",
         true
        ],
        [
         "Ateez",
         "Treasure EP.3: One to All",
         "2019-06-10",
         "JPN",
         2896,
         25,
         "low",
         false
        ],
        [
         "Ateez",
         "Treasure Epilogue: Action to Answer",
         "2020-01-06",
         "KOR",
         184339,
         1,
         "high",
         true
        ],
        [
         "Ateez",
         "Treasure Epilogue: Action to Answer",
         "2020-01-06",
         "JPN",
         1472,
         31,
         "low",
         false
        ],
        [
         "Ateez",
         "Treasure EP. Map to Answer",
         "2020-02-12",
         "JPN",
         18720,
         3,
         "low",
         true
        ],
        [
         "Ateez",
         "Zero: Fever Part.1",
         "2020-07-29",
         "KOR",
         379505,
         1,
         "high",
         true
        ],
        [
         "Ateez",
         "Zero: Fever Part.1",
         "2020-07-29",
         "JPN",
         11324,
         35,
         "low",
         false
        ],
        [
         "Ateez",
         "Zero: Fever Part.2",
         "2021-03-01",
         "KOR",
         380711,
         1,
         "high",
         true
        ],
        [
         "Ateez",
         "Zero: Fever Part.2",
         "2021-03-01",
         "JPN",
         11027,
         10,
         "low",
         false
        ],
        [
         "Everglow",
         "Reminiscence",
         "2020-02-03",
         "KOR",
         30912,
         4,
         "low",
         false
        ],
        [
         "Everglow",
         "Reminiscence",
         "2020-02-03",
         "JPN",
         1649,
         48,
         "low",
         false
        ],
        [
         "Everglow",
         "-77.82X-78.29",
         "2020-09-21",
         "KOR",
         49388,
         4,
         "low",
         false
        ],
        [
         "Everglow",
         "Arrival of Everglow",
         "2019-03-18",
         "KOR",
         28033,
         6,
         "low",
         false
        ],
        [
         "Everglow",
         "Hush",
         "2019-08-19",
         "KOR",
         28639,
         5,
         "low",
         false
        ]
       ],
       "datasetInfos": [],
       "dbfsResultPath": null,
       "isJsonSchema": true,
       "metadata": {},
       "overflow": false,
       "plotOptions": {
        "customPlotOptions": {},
        "displayType": "table",
        "pivotAggregation": null,
        "pivotColumns": null,
        "xColumns": null,
        "yColumns": null
       },
       "removedWidgets": [],
       "schema": [
        {
         "metadata": "{}",
         "name": "Artist",
         "type": "\"string\""
        },
        {
         "metadata": "{}",
         "name": "title",
         "type": "\"string\""
        },
        {
         "metadata": "{\"__detected_date_formats\":\"M/d/yyyy\"}",
         "name": "date",
         "type": "\"date\""
        },
        {
         "metadata": "{}",
         "name": "country",
         "type": "\"string\""
        },
        {
         "metadata": "{}",
         "name": "sales",
         "type": "\"integer\""
        },
        {
         "metadata": "{}",
         "name": "peak_chart",
         "type": "\"integer\""
        },
        {
         "metadata": "{}",
         "name": "sales_success",
         "type": "\"string\""
        },
        {
         "metadata": "{}",
         "name": "is_chart_topper",
         "type": "\"boolean\""
        }
       ],
       "type": "table"
      }
     },
     "output_type": "display_data"
    }
   ],
   "source": [
    "from pyspark.sql.functions import when\n",
    "#i have used when function to create a column is_chart_topper whic\n",
    "display(df.withColumn('is_chart_topper', when(col('peak_chart').isin([1, 2, 3]), True).otherwise(False)))"
   ]
  },
  {
   "cell_type": "code",
   "execution_count": 0,
   "metadata": {
    "application/vnd.databricks.v1+cell": {
     "cellMetadata": {
      "byteLimit": 2048000,
      "rowLimit": 10000
     },
     "inputWidgets": {},
     "nuid": "19fa8d36-3b7a-4aef-b7ca-02db0a18a436",
     "showTitle": false,
     "tableResultSettingsMap": {},
     "title": ""
    }
   },
   "outputs": [
    {
     "output_type": "display_data",
     "data": {
      "text/html": [
       "<style scoped>\n",
       "  .table-result-container {\n",
       "    max-height: 300px;\n",
       "    overflow: auto;\n",
       "  }\n",
       "  table, th, td {\n",
       "    border: 1px solid black;\n",
       "    border-collapse: collapse;\n",
       "  }\n",
       "  th, td {\n",
       "    padding: 5px;\n",
       "  }\n",
       "  th {\n",
       "    text-align: left;\n",
       "  }\n",
       "</style><div class='table-result-container'><table class='table-result'><thead style='background-color: white'><tr><th>Artist</th><th>avg_sales</th></tr></thead><tbody><tr><td>IZONE</td><td>256453.88888888888</td></tr><tr><td>Treasure</td><td>222534.4</td></tr><tr><td>TXT</td><td>188070.22222222222</td></tr><tr><td>Ateez</td><td>113464.64285714286</td></tr><tr><td>Stray Kids</td><td>112762.64705882352</td></tr><tr><td>ITZY</td><td>93345.5</td></tr><tr><td>(G)I-dle</td><td>87520.66666666667</td></tr><tr><td>Cravity</td><td>80832.0</td></tr><tr><td>Loona</td><td>39731.22222222222</td></tr><tr><td>Verivery</td><td>35349.5</td></tr><tr><td>Everglow</td><td>27724.2</td></tr></tbody></table></div>"
      ]
     },
     "metadata": {
      "application/vnd.databricks.v1+output": {
       "addedWidgets": {},
       "aggData": [],
       "aggError": "",
       "aggOverflow": false,
       "aggSchema": [],
       "aggSeriesLimitReached": false,
       "aggType": "",
       "arguments": {},
       "columnCustomDisplayInfos": {},
       "data": [
        [
         "IZONE",
         256453.88888888888
        ],
        [
         "Treasure",
         222534.4
        ],
        [
         "TXT",
         188070.22222222222
        ],
        [
         "Ateez",
         113464.64285714286
        ],
        [
         "Stray Kids",
         112762.64705882352
        ],
        [
         "ITZY",
         93345.5
        ],
        [
         "(G)I-dle",
         87520.66666666667
        ],
        [
         "Cravity",
         80832.0
        ],
        [
         "Loona",
         39731.22222222222
        ],
        [
         "Verivery",
         35349.5
        ],
        [
         "Everglow",
         27724.2
        ]
       ],
       "datasetInfos": [],
       "dbfsResultPath": null,
       "isJsonSchema": true,
       "metadata": {},
       "overflow": false,
       "plotOptions": {
        "customPlotOptions": {},
        "displayType": "table",
        "pivotAggregation": null,
        "pivotColumns": null,
        "xColumns": null,
        "yColumns": null
       },
       "removedWidgets": [],
       "schema": [
        {
         "metadata": "{}",
         "name": "Artist",
         "type": "\"string\""
        },
        {
         "metadata": "{}",
         "name": "avg_sales",
         "type": "\"double\""
        }
       ],
       "type": "table"
      }
     },
     "output_type": "display_data"
    },
    {
     "output_type": "display_data",
     "data": {
      "text/plain": [
       "Databricks visualization. Run in Databricks to view."
      ]
     },
     "metadata": {
      "application/vnd.databricks.v1.subcommand+json": {
       "baseErrorDetails": null,
       "bindings": {},
       "collapsed": false,
       "command": "%python\n__backend_agg_display_orig = display\n__backend_agg_dfs = []\ndef __backend_agg_display_new(df):\n    __backend_agg_df_modules = [\"pandas.core.frame\", \"databricks.koalas.frame\", \"pyspark.sql.dataframe\", \"pyspark.pandas.frame\", \"pyspark.sql.connect.dataframe\"]\n    if (type(df).__module__ in __backend_agg_df_modules and type(df).__name__ == 'DataFrame') or isinstance(df, list):\n        __backend_agg_dfs.append(df)\n\ndisplay = __backend_agg_display_new\n\ndef __backend_agg_user_code_fn():\n    import base64\n    exec(base64.standard_b64decode(\"I0kgZGlkIGNhbGN1bGF0ZWQgdGhlIGF2ZXJhZ2Ugc2FsZXMgb2YgYWxsIHRoZSBhcnRpc3QgYnkgZ3JvdXBpbmcgdGhlbSB3aXRoIHNhbGVzIGFuZCB1c2luZyB0aGUgYXZlcmFnZSBmdW5jdGlvbgpkaXNwbGF5KGRmLmdyb3VwQnkoIkFydGlzdCIpLmFnZyhhdmcoInNhbGVzIikuYWxpYXMoImF2Z19zYWxlcyIpKS5vcmRlckJ5KGNvbCgiYXZnX3NhbGVzIikuZGVzYygpKSkKCiNJIGhhdmUgdXNlZCBhIGJhcnBsb3QgdG8gdmlzYXVsaXplIHRoZSBhdmVyYWdlIHNhbGVzIG9mIGFuIGFydGlzdCBhbmQgYWNjb3JpbmcgdG8gdGhlIHBsb3QgSVRaWSBoYXMgdGhlIGhpZ2hlc3QgYXZlcmFnZSBzYWxlcyB3aXRoIGl0IGJlaW5nIG1vcmUgdGhhbiAyNTBrIGFuZCBoZSBpcyBzaG9ydGx5IGZvbGxvd2VkIGJ5IFRyZWFzdXJlIHdoaWNoIGhhcyBhcm91bmQgMjIway4gVGhlIGxvd2VzdCBhdmVyYWdlIHNhbGUgaXMgb2YgRVZFUkdMT1c=\").decode())\n\ntry:\n    # run user code\n    __backend_agg_user_code_fn()\n\n    #reset display function\n    display = __backend_agg_display_orig\n\n    if len(__backend_agg_dfs) > 0:\n        # create a temp view\n        if type(__backend_agg_dfs[0]).__module__ == \"databricks.koalas.frame\":\n            # koalas dataframe\n            __backend_agg_dfs[0].to_spark().createOrReplaceTempView(\"DatabricksView4c18d6b\")\n        elif type(__backend_agg_dfs[0]).__module__ == \"pandas.core.frame\" or isinstance(__backend_agg_dfs[0], list):\n            # pandas dataframe\n            spark.createDataFrame(__backend_agg_dfs[0]).createOrReplaceTempView(\"DatabricksView4c18d6b\")\n        else:\n            __backend_agg_dfs[0].createOrReplaceTempView(\"DatabricksView4c18d6b\")\n        #run backend agg\n        display(spark.sql(\"\"\"WITH q AS (select * from DatabricksView4c18d6b) SELECT `Artist`,SUM(`avg_sales`) `column_6b1aaff625` FROM q GROUP BY `Artist`\"\"\"))\n    else:\n        displayHTML(\"dataframe no longer exists. If you're using dataframe.display(), use display(dataframe) instead.\")\n\n\nfinally:\n    spark.sql(\"drop view if exists DatabricksView4c18d6b\")\n    display = __backend_agg_display_orig\n    del __backend_agg_display_new\n    del __backend_agg_display_orig\n    del __backend_agg_dfs\n    del __backend_agg_user_code_fn\n\n",
       "commandTitle": "Visualization 1",
       "commandType": "auto",
       "commandVersion": 0,
       "commentThread": [],
       "commentsVisible": false,
       "contentSha256Hex": null,
       "customPlotOptions": {
        "redashChart": [
         {
          "key": "type",
          "value": "CHART"
         },
         {
          "key": "options",
          "value": {
           "alignYAxesAtZero": true,
           "coefficient": 1,
           "columnConfigurationMap": {
            "x": {
             "column": "Artist",
             "id": "column_6b1aaff624"
            },
            "y": [
             {
              "column": "avg_sales",
              "id": "column_6b1aaff625",
              "transform": "SUM"
             }
            ]
           },
           "dateTimeFormat": "DD/MM/YYYY HH:mm",
           "direction": {
            "type": "counterclockwise"
           },
           "error_y": {
            "type": "data",
            "visible": true
           },
           "globalSeriesType": "column",
           "legend": {
            "traceorder": "normal"
           },
           "missingValuesAsZero": true,
           "numberFormat": "0,0.[00000]",
           "percentFormat": "0[.]00%",
           "series": {
            "error_y": {
             "type": "data",
             "visible": true
            },
            "stacking": null
           },
           "seriesOptions": {
            "column_6b1aaff625": {
             "name": "avg_sales",
             "yAxis": 0
            }
           },
           "showDataLabels": false,
           "sizemode": "diameter",
           "sortX": true,
           "sortY": true,
           "swappedAxes": true,
           "textFormat": "",
           "useAggregationsUi": true,
           "valuesOptions": {},
           "version": 2,
           "xAxis": {
            "labels": {
             "enabled": true
            },
            "type": "-"
           },
           "yAxis": [
            {
             "type": "-"
            },
            {
             "opposite": true,
             "type": "-"
            }
           ]
          }
         }
        ]
       },
       "datasetPreviewNameToCmdIdMap": {},
       "diffDeletes": [],
       "diffInserts": [],
       "displayType": "redashChart",
       "error": null,
       "errorDetails": null,
       "errorSummary": null,
       "errorTraceType": null,
       "finishTime": 0,
       "globalVars": {},
       "guid": "",
       "height": "auto",
       "hideCommandCode": false,
       "hideCommandResult": false,
       "iPythonMetadata": null,
       "inputWidgets": {},
       "isLockedInExamMode": false,
       "latestAssumeRoleInfo": null,
       "latestUser": "a user",
       "latestUserId": null,
       "listResultMetadata": null,
       "metadata": {
        "byteLimit": 2048000,
        "rowLimit": 10000
       },
       "nuid": "7de14805-1e49-4e0a-891c-a8dfa3ed8139",
       "origId": 0,
       "parentHierarchy": [],
       "pivotAggregation": null,
       "pivotColumns": null,
       "position": 7.015625,
       "resultDbfsErrorMessage": null,
       "resultDbfsStatus": "INLINED_IN_TREE",
       "results": null,
       "showCommandTitle": false,
       "startTime": 0,
       "state": "input",
       "streamStates": {},
       "subcommandOptions": {
        "queryPlan": {
         "groups": [
          {
           "column": "Artist",
           "type": "column"
          }
         ],
         "selects": [
          {
           "column": "Artist",
           "type": "column"
          },
          {
           "alias": "column_6b1aaff625",
           "args": [
            {
             "column": "avg_sales",
             "type": "column"
            }
           ],
           "function": "SUM",
           "type": "function"
          }
         ]
        }
       },
       "submitTime": 0,
       "subtype": "tableResultSubCmd.visualization",
       "tableResultIndex": 0,
       "tableResultSettingsMap": {},
       "useConsistentColors": false,
       "version": "CommandV1",
       "width": "auto",
       "workflows": [],
       "xColumns": null,
       "yColumns": null
      }
     },
     "output_type": "display_data"
    }
   ],
   "source": [
    "#I did calculated the average sales of all the artist by grouping them with sales and using the average function\n",
    "display(df.groupBy(\"Artist\").agg(avg(\"sales\").alias(\"avg_sales\")).orderBy(col(\"avg_sales\").desc()))\n",
    "\n",
    "#I have used a barplot to visaulize the average sales of an artist and accoring to the plot ITZY has the highest average sales with it being more than 250k and he is shortly followed by Treasure which has around 220k. The lowest average sale is of EVERGLOW"
   ]
  },
  {
   "cell_type": "code",
   "execution_count": 0,
   "metadata": {
    "application/vnd.databricks.v1+cell": {
     "cellMetadata": {
      "byteLimit": 2048000,
      "rowLimit": 10000
     },
     "inputWidgets": {},
     "nuid": "b81c56e5-b385-4a20-9499-09b54e917194",
     "showTitle": false,
     "tableResultSettingsMap": {},
     "title": ""
    }
   },
   "outputs": [
    {
     "output_type": "display_data",
     "data": {
      "text/html": [
       "<style scoped>\n",
       "  .table-result-container {\n",
       "    max-height: 300px;\n",
       "    overflow: auto;\n",
       "  }\n",
       "  table, th, td {\n",
       "    border: 1px solid black;\n",
       "    border-collapse: collapse;\n",
       "  }\n",
       "  th, td {\n",
       "    padding: 5px;\n",
       "  }\n",
       "  th {\n",
       "    text-align: left;\n",
       "  }\n",
       "</style><div class='table-result-container'><table class='table-result'><thead style='background-color: white'><tr><th>Artist</th><th>title</th><th>date</th><th>country</th><th>sales</th><th>peak_chart</th><th>sales_success</th><th>release_year</th></tr></thead><tbody><tr><td>IZONE</td><td>Bloom*iz</td><td>2020-02-17</td><td>KOR</td><td>492504</td><td>2</td><td>high</td><td>2020</td></tr><tr><td>IZONE</td><td>Bloom*iz</td><td>2020-02-17</td><td>JPN</td><td>23960</td><td>3</td><td>low</td><td>2020</td></tr><tr><td>IZONE</td><td>TWELVE</td><td>2020-10-21</td><td>JPN</td><td>135113</td><td>1</td><td>high</td><td>2020</td></tr><tr><td>IZONE</td><td>Heart*Iz</td><td>2020-04-01</td><td>KOR</td><td>306812</td><td>1</td><td>high</td><td>2020</td></tr><tr><td>IZONE</td><td>Heart*Iz</td><td>2020-04-01</td><td>JPN</td><td>40065</td><td>4</td><td>low</td><td>2020</td></tr><tr><td>IZONE</td><td>Oneiric Diary</td><td>2020-06-15</td><td>KOR</td><td>559138</td><td>2</td><td>very high</td><td>2020</td></tr><tr><td>IZONE</td><td>Oneiric Diary</td><td>2020-06-15</td><td>JPN</td><td>19928</td><td>8</td><td>low</td><td>2020</td></tr><tr><td>IZONE</td><td>One-reeler/Act IV</td><td>2020-12-07</td><td>KOR</td><td>447749</td><td>1</td><td>high</td><td>2020</td></tr><tr><td>ITZY</td><td>It'z Icy</td><td>2019-05-29</td><td>KOR</td><td>149349</td><td>3</td><td>high</td><td>2019</td></tr><tr><td>ITZY</td><td>It'z Icy</td><td>2019-05-29</td><td>JPN</td><td>15742</td><td>12</td><td>low</td><td>2019</td></tr><tr><td>ITZY</td><td>It'z Me</td><td>2020-03-09</td><td>KOR</td><td>150851</td><td>1</td><td>high</td><td>2020</td></tr><tr><td>ITZY</td><td>It'z Me</td><td>2020-03-09</td><td>JPN</td><td>10882</td><td>13</td><td>low</td><td>2020</td></tr><tr><td>ITZY</td><td>Not Shy</td><td>2020-08-17</td><td>KOR</td><td>219048</td><td>1</td><td>high</td><td>2020</td></tr><tr><td>ITZY</td><td>Not Shy</td><td>2020-08-17</td><td>JPN</td><td>14201</td><td>8</td><td>low</td><td>2020</td></tr><tr><td>Stray Kids</td><td>In Life</td><td>2020-09-14</td><td>KOR</td><td>473616</td><td>1</td><td>high</td><td>2020</td></tr><tr><td>Stray Kids</td><td>In Life</td><td>2020-09-14</td><td>JPN</td><td>39911</td><td>11</td><td>low</td><td>2020</td></tr><tr><td>Stray Kids</td><td>Miroh</td><td>2019-03-25</td><td>KOR</td><td>226383</td><td>1</td><td>high</td><td>2019</td></tr><tr><td>Stray Kids</td><td>Miroh</td><td>2019-03-25</td><td>JPN</td><td>5856</td><td>15</td><td>low</td><td>2019</td></tr><tr><td>Stray Kids</td><td>Yellow Wood</td><td>2019-06-19</td><td>KOR</td><td>192796</td><td>2</td><td>high</td><td>2019</td></tr><tr><td>Stray Kids</td><td>Yellow Wood</td><td>2019-06-19</td><td>JPN</td><td>3379</td><td>17</td><td>low</td><td>2019</td></tr><tr><td>Stray Kids</td><td>Levanter</td><td>2019-12-09</td><td>KOR</td><td>247074</td><td>1</td><td>high</td><td>2019</td></tr><tr><td>Stray Kids</td><td>Levanter</td><td>2019-12-09</td><td>JPN</td><td>9116</td><td>17</td><td>low</td><td>2019</td></tr><tr><td>Stray Kids</td><td>All In</td><td>2020-11-04</td><td>JPN</td><td>59361</td><td>2</td><td>moderate</td><td>2020</td></tr><tr><td>Treasure</td><td>Chapter One</td><td>2020-08-07</td><td>KOR</td><td>250000</td><td>1</td><td>high</td><td>2020</td></tr><tr><td>Treasure</td><td>Chapter Two</td><td>2020-09-18</td><td>KOR</td><td>239326</td><td>2</td><td>high</td><td>2020</td></tr><tr><td>Treasure</td><td>Chapter Three</td><td>2020-11-06</td><td>KOR</td><td>232134</td><td>1</td><td>high</td><td>2020</td></tr><tr><td>TXT</td><td>Magic</td><td>2019-10-21</td><td>KOR</td><td>300910</td><td>1</td><td>high</td><td>2019</td></tr><tr><td>TXT</td><td>Magic</td><td>2019-10-21</td><td>JPN</td><td>14296</td><td>11</td><td>low</td><td>2019</td></tr><tr><td>TXT</td><td>Star</td><td>2019-03-04</td><td>KOR</td><td>278846</td><td>1</td><td>high</td><td>2019</td></tr><tr><td>TXT</td><td>Star</td><td>2019-03-04</td><td>JPN</td><td>26176</td><td>3</td><td>low</td><td>2019</td></tr><tr><td>TXT</td><td>Eternity</td><td>2020-05-18</td><td>KOR</td><td>379053</td><td>2</td><td>high</td><td>2020</td></tr><tr><td>TXT</td><td>Eternity</td><td>2020-05-18</td><td>JPN</td><td>38814</td><td>1</td><td>low</td><td>2020</td></tr><tr><td>TXT</td><td>Blue Hour</td><td>2020-10-26</td><td>KOR</td><td>508626</td><td>1</td><td>very high</td><td>2020</td></tr><tr><td>TXT</td><td>Blue Hour</td><td>2020-10-26</td><td>JPN</td><td>43870</td><td>1</td><td>low</td><td>2020</td></tr><tr><td>(G)I-dle</td><td>Dumdi Dumdi</td><td>2020-08-03</td><td>KOR</td><td>125801</td><td>2</td><td>high</td><td>2020</td></tr><tr><td>(G)I-dle</td><td>Dumdi Dumdi</td><td>2020-08-03</td><td>CHN</td><td>182749</td><td>0</td><td>high</td><td>2020</td></tr><tr><td>(G)I-dle</td><td>I Made</td><td>2019-02-26</td><td>KOR</td><td>51041</td><td>2</td><td>moderate</td><td>2019</td></tr><tr><td>(G)I-dle</td><td>I Trust</td><td>2020-04-06</td><td>KOR</td><td>154499</td><td>1</td><td>high</td><td>2020</td></tr><tr><td>(G)I-dle</td><td>I Trust</td><td>2020-04-06</td><td>JPN</td><td>1380</td><td>48</td><td>low</td><td>2020</td></tr><tr><td>(G)I-dle</td><td>Latata</td><td>2019-07-29</td><td>JPN</td><td>8229</td><td>5</td><td>low</td><td>2019</td></tr><tr><td>(G)I-dle</td><td>Oh My God</td><td>2020-08-26</td><td>JPN</td><td>4229</td><td>23</td><td>low</td><td>2020</td></tr><tr><td>Cravity</td><td>Season 1. Hideout: Remember Who We Are</td><td>2020-04-14</td><td>KOR</td><td>154360</td><td>1</td><td>high</td><td>2020</td></tr><tr><td>Cravity</td><td>Season 1. Hideout: Remember Who We Are</td><td>2020-04-14</td><td>JPN</td><td>7304</td><td>10</td><td>low</td><td>2020</td></tr><tr><td>Verivery</td><td>Veri-Able</td><td>2019-04-24</td><td>KOR</td><td>17630</td><td>6</td><td>low</td><td>2019</td></tr><tr><td>Verivery</td><td>Face Me</td><td>2020-01-07</td><td>KOR</td><td>28440</td><td>4</td><td>low</td><td>2020</td></tr><tr><td>Verivery</td><td>Face You</td><td>2020-07-01</td><td>KOR</td><td>39626</td><td>8</td><td>low</td><td>2020</td></tr><tr><td>Verivery</td><td>Face Us</td><td>2020-10-13</td><td>KOR</td><td>59704</td><td>7</td><td>moderate</td><td>2020</td></tr><tr><td>Verivery</td><td>Veri-Chill</td><td>2019-07-31</td><td>KOR</td><td>16698</td><td>10</td><td>low</td><td>2019</td></tr><tr><td>Loona</td><td>[#]</td><td>2020-02-05</td><td>KOR</td><td>83522</td><td>2</td><td>moderate</td><td>2020</td></tr><tr><td>Loona</td><td>[12:00]</td><td>2020-10-19</td><td>KOR</td><td>116614</td><td>4</td><td>high</td><td>2020</td></tr><tr><td>Loona</td><td>[x x]</td><td>2019-02-19</td><td>KOR</td><td>45782</td><td>3</td><td>low</td><td>2019</td></tr><tr><td>Ateez</td><td>Treasure EP.Fin: All to Action</td><td>2019-10-08</td><td>KOR</td><td>209316</td><td>1</td><td>high</td><td>2019</td></tr><tr><td>Ateez</td><td>Treasure EP.Extra: Shift the Map</td><td>2019-12-04</td><td>JPN</td><td>13113</td><td>9</td><td>low</td><td>2019</td></tr><tr><td>Ateez</td><td>Treasure EP.2: Zero to One</td><td>2019-01-15</td><td>KOR</td><td>100039</td><td>6</td><td>high</td><td>2019</td></tr><tr><td>Ateez</td><td>Treasure EP.3: One to All</td><td>2019-06-10</td><td>KOR</td><td>180121</td><td>2</td><td>high</td><td>2019</td></tr><tr><td>Ateez</td><td>Treasure EP.3: One to All</td><td>2019-06-10</td><td>JPN</td><td>2896</td><td>25</td><td>low</td><td>2019</td></tr><tr><td>Ateez</td><td>Treasure Epilogue: Action to Answer</td><td>2020-01-06</td><td>KOR</td><td>184339</td><td>1</td><td>high</td><td>2020</td></tr><tr><td>Ateez</td><td>Treasure Epilogue: Action to Answer</td><td>2020-01-06</td><td>JPN</td><td>1472</td><td>31</td><td>low</td><td>2020</td></tr><tr><td>Ateez</td><td>Treasure EP. Map to Answer</td><td>2020-02-12</td><td>JPN</td><td>18720</td><td>3</td><td>low</td><td>2020</td></tr><tr><td>Ateez</td><td>Zero: Fever Part.1</td><td>2020-07-29</td><td>KOR</td><td>379505</td><td>1</td><td>high</td><td>2020</td></tr><tr><td>Ateez</td><td>Zero: Fever Part.1</td><td>2020-07-29</td><td>JPN</td><td>11324</td><td>35</td><td>low</td><td>2020</td></tr><tr><td>Everglow</td><td>Reminiscence</td><td>2020-02-03</td><td>KOR</td><td>30912</td><td>4</td><td>low</td><td>2020</td></tr><tr><td>Everglow</td><td>Reminiscence</td><td>2020-02-03</td><td>JPN</td><td>1649</td><td>48</td><td>low</td><td>2020</td></tr><tr><td>Everglow</td><td>-77.82X-78.29</td><td>2020-09-21</td><td>KOR</td><td>49388</td><td>4</td><td>low</td><td>2020</td></tr><tr><td>Everglow</td><td>Arrival of Everglow</td><td>2019-03-18</td><td>KOR</td><td>28033</td><td>6</td><td>low</td><td>2019</td></tr><tr><td>Everglow</td><td>Hush</td><td>2019-08-19</td><td>KOR</td><td>28639</td><td>5</td><td>low</td><td>2019</td></tr></tbody></table></div>"
      ]
     },
     "metadata": {
      "application/vnd.databricks.v1+output": {
       "addedWidgets": {},
       "aggData": [],
       "aggError": "",
       "aggOverflow": false,
       "aggSchema": [],
       "aggSeriesLimitReached": false,
       "aggType": "",
       "arguments": {},
       "columnCustomDisplayInfos": {},
       "data": [
        [
         "IZONE",
         "Bloom*iz",
         "2020-02-17",
         "KOR",
         492504,
         2,
         "high",
         2020
        ],
        [
         "IZONE",
         "Bloom*iz",
         "2020-02-17",
         "JPN",
         23960,
         3,
         "low",
         2020
        ],
        [
         "IZONE",
         "TWELVE",
         "2020-10-21",
         "JPN",
         135113,
         1,
         "high",
         2020
        ],
        [
         "IZONE",
         "Heart*Iz",
         "2020-04-01",
         "KOR",
         306812,
         1,
         "high",
         2020
        ],
        [
         "IZONE",
         "Heart*Iz",
         "2020-04-01",
         "JPN",
         40065,
         4,
         "low",
         2020
        ],
        [
         "IZONE",
         "Oneiric Diary",
         "2020-06-15",
         "KOR",
         559138,
         2,
         "very high",
         2020
        ],
        [
         "IZONE",
         "Oneiric Diary",
         "2020-06-15",
         "JPN",
         19928,
         8,
         "low",
         2020
        ],
        [
         "IZONE",
         "One-reeler/Act IV",
         "2020-12-07",
         "KOR",
         447749,
         1,
         "high",
         2020
        ],
        [
         "ITZY",
         "It'z Icy",
         "2019-05-29",
         "KOR",
         149349,
         3,
         "high",
         2019
        ],
        [
         "ITZY",
         "It'z Icy",
         "2019-05-29",
         "JPN",
         15742,
         12,
         "low",
         2019
        ],
        [
         "ITZY",
         "It'z Me",
         "2020-03-09",
         "KOR",
         150851,
         1,
         "high",
         2020
        ],
        [
         "ITZY",
         "It'z Me",
         "2020-03-09",
         "JPN",
         10882,
         13,
         "low",
         2020
        ],
        [
         "ITZY",
         "Not Shy",
         "2020-08-17",
         "KOR",
         219048,
         1,
         "high",
         2020
        ],
        [
         "ITZY",
         "Not Shy",
         "2020-08-17",
         "JPN",
         14201,
         8,
         "low",
         2020
        ],
        [
         "Stray Kids",
         "In Life",
         "2020-09-14",
         "KOR",
         473616,
         1,
         "high",
         2020
        ],
        [
         "Stray Kids",
         "In Life",
         "2020-09-14",
         "JPN",
         39911,
         11,
         "low",
         2020
        ],
        [
         "Stray Kids",
         "Miroh",
         "2019-03-25",
         "KOR",
         226383,
         1,
         "high",
         2019
        ],
        [
         "Stray Kids",
         "Miroh",
         "2019-03-25",
         "JPN",
         5856,
         15,
         "low",
         2019
        ],
        [
         "Stray Kids",
         "Yellow Wood",
         "2019-06-19",
         "KOR",
         192796,
         2,
         "high",
         2019
        ],
        [
         "Stray Kids",
         "Yellow Wood",
         "2019-06-19",
         "JPN",
         3379,
         17,
         "low",
         2019
        ],
        [
         "Stray Kids",
         "Levanter",
         "2019-12-09",
         "KOR",
         247074,
         1,
         "high",
         2019
        ],
        [
         "Stray Kids",
         "Levanter",
         "2019-12-09",
         "JPN",
         9116,
         17,
         "low",
         2019
        ],
        [
         "Stray Kids",
         "All In",
         "2020-11-04",
         "JPN",
         59361,
         2,
         "moderate",
         2020
        ],
        [
         "Treasure",
         "Chapter One",
         "2020-08-07",
         "KOR",
         250000,
         1,
         "high",
         2020
        ],
        [
         "Treasure",
         "Chapter Two",
         "2020-09-18",
         "KOR",
         239326,
         2,
         "high",
         2020
        ],
        [
         "Treasure",
         "Chapter Three",
         "2020-11-06",
         "KOR",
         232134,
         1,
         "high",
         2020
        ],
        [
         "TXT",
         "Magic",
         "2019-10-21",
         "KOR",
         300910,
         1,
         "high",
         2019
        ],
        [
         "TXT",
         "Magic",
         "2019-10-21",
         "JPN",
         14296,
         11,
         "low",
         2019
        ],
        [
         "TXT",
         "Star",
         "2019-03-04",
         "KOR",
         278846,
         1,
         "high",
         2019
        ],
        [
         "TXT",
         "Star",
         "2019-03-04",
         "JPN",
         26176,
         3,
         "low",
         2019
        ],
        [
         "TXT",
         "Eternity",
         "2020-05-18",
         "KOR",
         379053,
         2,
         "high",
         2020
        ],
        [
         "TXT",
         "Eternity",
         "2020-05-18",
         "JPN",
         38814,
         1,
         "low",
         2020
        ],
        [
         "TXT",
         "Blue Hour",
         "2020-10-26",
         "KOR",
         508626,
         1,
         "very high",
         2020
        ],
        [
         "TXT",
         "Blue Hour",
         "2020-10-26",
         "JPN",
         43870,
         1,
         "low",
         2020
        ],
        [
         "(G)I-dle",
         "Dumdi Dumdi",
         "2020-08-03",
         "KOR",
         125801,
         2,
         "high",
         2020
        ],
        [
         "(G)I-dle",
         "Dumdi Dumdi",
         "2020-08-03",
         "CHN",
         182749,
         0,
         "high",
         2020
        ],
        [
         "(G)I-dle",
         "I Made",
         "2019-02-26",
         "KOR",
         51041,
         2,
         "moderate",
         2019
        ],
        [
         "(G)I-dle",
         "I Trust",
         "2020-04-06",
         "KOR",
         154499,
         1,
         "high",
         2020
        ],
        [
         "(G)I-dle",
         "I Trust",
         "2020-04-06",
         "JPN",
         1380,
         48,
         "low",
         2020
        ],
        [
         "(G)I-dle",
         "Latata",
         "2019-07-29",
         "JPN",
         8229,
         5,
         "low",
         2019
        ],
        [
         "(G)I-dle",
         "Oh My God",
         "2020-08-26",
         "JPN",
         4229,
         23,
         "low",
         2020
        ],
        [
         "Cravity",
         "Season 1. Hideout: Remember Who We Are",
         "2020-04-14",
         "KOR",
         154360,
         1,
         "high",
         2020
        ],
        [
         "Cravity",
         "Season 1. Hideout: Remember Who We Are",
         "2020-04-14",
         "JPN",
         7304,
         10,
         "low",
         2020
        ],
        [
         "Verivery",
         "Veri-Able",
         "2019-04-24",
         "KOR",
         17630,
         6,
         "low",
         2019
        ],
        [
         "Verivery",
         "Face Me",
         "2020-01-07",
         "KOR",
         28440,
         4,
         "low",
         2020
        ],
        [
         "Verivery",
         "Face You",
         "2020-07-01",
         "KOR",
         39626,
         8,
         "low",
         2020
        ],
        [
         "Verivery",
         "Face Us",
         "2020-10-13",
         "KOR",
         59704,
         7,
         "moderate",
         2020
        ],
        [
         "Verivery",
         "Veri-Chill",
         "2019-07-31",
         "KOR",
         16698,
         10,
         "low",
         2019
        ],
        [
         "Loona",
         "[#]",
         "2020-02-05",
         "KOR",
         83522,
         2,
         "moderate",
         2020
        ],
        [
         "Loona",
         "[12:00]",
         "2020-10-19",
         "KOR",
         116614,
         4,
         "high",
         2020
        ],
        [
         "Loona",
         "[x x]",
         "2019-02-19",
         "KOR",
         45782,
         3,
         "low",
         2019
        ],
        [
         "Ateez",
         "Treasure EP.Fin: All to Action",
         "2019-10-08",
         "KOR",
         209316,
         1,
         "high",
         2019
        ],
        [
         "Ateez",
         "Treasure EP.Extra: Shift the Map",
         "2019-12-04",
         "JPN",
         13113,
         9,
         "low",
         2019
        ],
        [
         "Ateez",
         "Treasure EP.2: Zero to One",
         "2019-01-15",
         "KOR",
         100039,
         6,
         "high",
         2019
        ],
        [
         "Ateez",
         "Treasure EP.3: One to All",
         "2019-06-10",
         "KOR",
         180121,
         2,
         "high",
         2019
        ],
        [
         "Ateez",
         "Treasure EP.3: One to All",
         "2019-06-10",
         "JPN",
         2896,
         25,
         "low",
         2019
        ],
        [
         "Ateez",
         "Treasure Epilogue: Action to Answer",
         "2020-01-06",
         "KOR",
         184339,
         1,
         "high",
         2020
        ],
        [
         "Ateez",
         "Treasure Epilogue: Action to Answer",
         "2020-01-06",
         "JPN",
         1472,
         31,
         "low",
         2020
        ],
        [
         "Ateez",
         "Treasure EP. Map to Answer",
         "2020-02-12",
         "JPN",
         18720,
         3,
         "low",
         2020
        ],
        [
         "Ateez",
         "Zero: Fever Part.1",
         "2020-07-29",
         "KOR",
         379505,
         1,
         "high",
         2020
        ],
        [
         "Ateez",
         "Zero: Fever Part.1",
         "2020-07-29",
         "JPN",
         11324,
         35,
         "low",
         2020
        ],
        [
         "Everglow",
         "Reminiscence",
         "2020-02-03",
         "KOR",
         30912,
         4,
         "low",
         2020
        ],
        [
         "Everglow",
         "Reminiscence",
         "2020-02-03",
         "JPN",
         1649,
         48,
         "low",
         2020
        ],
        [
         "Everglow",
         "-77.82X-78.29",
         "2020-09-21",
         "KOR",
         49388,
         4,
         "low",
         2020
        ],
        [
         "Everglow",
         "Arrival of Everglow",
         "2019-03-18",
         "KOR",
         28033,
         6,
         "low",
         2019
        ],
        [
         "Everglow",
         "Hush",
         "2019-08-19",
         "KOR",
         28639,
         5,
         "low",
         2019
        ]
       ],
       "datasetInfos": [],
       "dbfsResultPath": null,
       "isJsonSchema": true,
       "metadata": {},
       "overflow": false,
       "plotOptions": {
        "customPlotOptions": {},
        "displayType": "table",
        "pivotAggregation": null,
        "pivotColumns": null,
        "xColumns": null,
        "yColumns": null
       },
       "removedWidgets": [],
       "schema": [
        {
         "metadata": "{}",
         "name": "Artist",
         "type": "\"string\""
        },
        {
         "metadata": "{}",
         "name": "title",
         "type": "\"string\""
        },
        {
         "metadata": "{\"__detected_date_formats\":\"M/d/yyyy\"}",
         "name": "date",
         "type": "\"date\""
        },
        {
         "metadata": "{}",
         "name": "country",
         "type": "\"string\""
        },
        {
         "metadata": "{}",
         "name": "sales",
         "type": "\"integer\""
        },
        {
         "metadata": "{}",
         "name": "peak_chart",
         "type": "\"integer\""
        },
        {
         "metadata": "{}",
         "name": "sales_success",
         "type": "\"string\""
        },
        {
         "metadata": "{}",
         "name": "release_year",
         "type": "\"integer\""
        }
       ],
       "type": "table"
      }
     },
     "output_type": "display_data"
    },
    {
     "output_type": "display_data",
     "data": {
      "text/html": [
       "<style scoped>\n",
       "  .table-result-container {\n",
       "    max-height: 300px;\n",
       "    overflow: auto;\n",
       "  }\n",
       "  table, th, td {\n",
       "    border: 1px solid black;\n",
       "    border-collapse: collapse;\n",
       "  }\n",
       "  th, td {\n",
       "    padding: 5px;\n",
       "  }\n",
       "  th {\n",
       "    text-align: left;\n",
       "  }\n",
       "</style><div class='table-result-container'><table class='table-result'><thead style='background-color: white'><tr><th>artist</th><th>count</th></tr></thead><tbody><tr><td>IZONE</td><td>8</td></tr><tr><td>Ateez</td><td>10</td></tr><tr><td>Loona</td><td>3</td></tr><tr><td>TXT</td><td>8</td></tr><tr><td>Verivery</td><td>5</td></tr><tr><td>(G)I-dle</td><td>7</td></tr><tr><td>Treasure</td><td>3</td></tr><tr><td>Everglow</td><td>5</td></tr><tr><td>ITZY</td><td>6</td></tr><tr><td>Cravity</td><td>2</td></tr><tr><td>Stray Kids</td><td>9</td></tr></tbody></table></div>"
      ]
     },
     "metadata": {
      "application/vnd.databricks.v1+output": {
       "addedWidgets": {},
       "aggData": [],
       "aggError": "",
       "aggOverflow": false,
       "aggSchema": [],
       "aggSeriesLimitReached": false,
       "aggType": "",
       "arguments": {},
       "columnCustomDisplayInfos": {},
       "data": [
        [
         "IZONE",
         8
        ],
        [
         "Ateez",
         10
        ],
        [
         "Loona",
         3
        ],
        [
         "TXT",
         8
        ],
        [
         "Verivery",
         5
        ],
        [
         "(G)I-dle",
         7
        ],
        [
         "Treasure",
         3
        ],
        [
         "Everglow",
         5
        ],
        [
         "ITZY",
         6
        ],
        [
         "Cravity",
         2
        ],
        [
         "Stray Kids",
         9
        ]
       ],
       "datasetInfos": [],
       "dbfsResultPath": null,
       "isJsonSchema": true,
       "metadata": {},
       "overflow": false,
       "plotOptions": {
        "customPlotOptions": {},
        "displayType": "table",
        "pivotAggregation": null,
        "pivotColumns": null,
        "xColumns": null,
        "yColumns": null
       },
       "removedWidgets": [],
       "schema": [
        {
         "metadata": "{}",
         "name": "artist",
         "type": "\"string\""
        },
        {
         "metadata": "{}",
         "name": "count",
         "type": "\"long\""
        }
       ],
       "type": "table"
      }
     },
     "output_type": "display_data"
    },
    {
     "output_type": "display_data",
     "data": {
      "text/plain": [
       "Databricks visualization. Run in Databricks to view."
      ]
     },
     "metadata": {
      "application/vnd.databricks.v1.subcommand+json": {
       "baseErrorDetails": null,
       "bindings": {},
       "collapsed": false,
       "command": "%python\n__backend_agg_display_orig = display\n__backend_agg_dfs = []\ndef __backend_agg_display_new(df):\n    __backend_agg_df_modules = [\"pandas.core.frame\", \"databricks.koalas.frame\", \"pyspark.sql.dataframe\", \"pyspark.pandas.frame\", \"pyspark.sql.connect.dataframe\"]\n    if (type(df).__module__ in __backend_agg_df_modules and type(df).__name__ == 'DataFrame') or isinstance(df, list):\n        __backend_agg_dfs.append(df)\n\ndisplay = __backend_agg_display_new\n\ndef __backend_agg_user_code_fn():\n    import base64\n    exec(base64.standard_b64decode(\"ZnJvbSBweXNwYXJrLnNxbC5mdW5jdGlvbnMgaW1wb3J0IHllYXIsIHRvX2RhdGUKIyBpIGhhdmUgdXNlZCB0aGUgeWVhciBmdW5jdGlvbiB0byBleHRyYWN0IHRoZSB5ZWFyIGZyb20gdGhlIGRhdGUgYW5kIHRoZW4gaSB1c2VkIGZpbHRlcmluZyB0byBnZXQgdGhlIHNvbmdzIHdoaWNoIHdlcmUgcmVsZWFzZWQgYmV0d2VlbiAyMDE5IGFuZCAyMDIwCmRmID0gZGYud2l0aENvbHVtbigncmVsZWFzZV95ZWFyJywgeWVhcihkZlsnZGF0ZSddKSkKZGZfMjAxOV8yMDIwPWRmLmZpbHRlcigoZGZbJ3JlbGVhc2VfeWVhciddID49IDIwMTkpICYgKGRmWydyZWxlYXNlX3llYXInXSA8PSAyMDIwKSkKZGlzcGxheShkZl8yMDE5XzIwMjApCiNoZXJlIGkgdXNlZCBncm91cGJ5IHRvIGdldCB0aGUgYXJ0aXN0cyBhbmQgdGhlIG51bWJlciBvZiBzb25ncyB0aGV5IHByb2R1Y2VkIGluIHRoZXNlIHllYXJzCmRpc3BsYXkoZGZfMjAxOV8yMDIwLmdyb3VwQnkoImFydGlzdCIpLmNvdW50KCkpCiNJIGhhdmUgY3JlYXRlZCBhIHBpZSBjaGFydCB3aGljaCBzaG93cyB0aGF0IEF0ZWV6IGFuZCBzdHJheSBraWRzIHdlcmUgdGhlIHNpbmdlcnMgdGhhdCBwcm9kdWNlZCB0aGUgbW9zdCBudW1iZXIgb2Ygc29uZ3MgYmV0d2VlbiB0aGUgeWVhcnMgMjAxOSBhbmQgMjAyMCBhbmQgYWdhaW4gQ3Jhdml0eSBoYWQgdGhlIGxlYXN0IG51bWJlciBvZiBzb25ncw==\").decode())\n\ntry:\n    # run user code\n    __backend_agg_user_code_fn()\n\n    #reset display function\n    display = __backend_agg_display_orig\n\n    if len(__backend_agg_dfs) > 1:\n        # create a temp view\n        if type(__backend_agg_dfs[1]).__module__ == \"databricks.koalas.frame\":\n            # koalas dataframe\n            __backend_agg_dfs[1].to_spark().createOrReplaceTempView(\"DatabricksView339fdba\")\n        elif type(__backend_agg_dfs[1]).__module__ == \"pandas.core.frame\" or isinstance(__backend_agg_dfs[1], list):\n            # pandas dataframe\n            spark.createDataFrame(__backend_agg_dfs[1]).createOrReplaceTempView(\"DatabricksView339fdba\")\n        else:\n            __backend_agg_dfs[1].createOrReplaceTempView(\"DatabricksView339fdba\")\n        #run backend agg\n        display(spark.sql(\"\"\"WITH q AS (select * from DatabricksView339fdba) SELECT `artist`,SUM(`count`) `column_6b1aaff619` FROM q GROUP BY `artist`\"\"\"))\n    else:\n        displayHTML(\"dataframe no longer exists. If you're using dataframe.display(), use display(dataframe) instead.\")\n\n\nfinally:\n    spark.sql(\"drop view if exists DatabricksView339fdba\")\n    display = __backend_agg_display_orig\n    del __backend_agg_display_new\n    del __backend_agg_display_orig\n    del __backend_agg_dfs\n    del __backend_agg_user_code_fn\n\n",
       "commandTitle": "Visualization 1",
       "commandType": "auto",
       "commandVersion": 0,
       "commentThread": [],
       "commentsVisible": false,
       "contentSha256Hex": null,
       "customPlotOptions": {
        "redashChart": [
         {
          "key": "type",
          "value": "CHART"
         },
         {
          "key": "options",
          "value": {
           "alignYAxesAtZero": true,
           "coefficient": 1,
           "columnConfigurationMap": {
            "x": {
             "column": "artist",
             "id": "column_6b1aaff618"
            },
            "y": [
             {
              "column": "count",
              "id": "column_6b1aaff619",
              "transform": "SUM"
             }
            ]
           },
           "dateTimeFormat": "DD/MM/YYYY HH:mm",
           "direction": {
            "type": "counterclockwise"
           },
           "error_y": {
            "type": "data",
            "visible": true
           },
           "globalSeriesType": "pie",
           "legend": {
            "traceorder": "normal"
           },
           "missingValuesAsZero": true,
           "numberFormat": "0,0.[00000]",
           "percentFormat": "0[.]00%",
           "series": {
            "error_y": {
             "type": "data",
             "visible": true
            },
            "stacking": null
           },
           "seriesOptions": {
            "column_6b1aaff619": {
             "name": "count",
             "type": "pie",
             "yAxis": 0
            }
           },
           "showDataLabels": true,
           "sizemode": "diameter",
           "sortX": true,
           "sortY": true,
           "swappedAxes": false,
           "textFormat": "",
           "useAggregationsUi": true,
           "valuesOptions": {},
           "version": 2,
           "xAxis": {
            "labels": {
             "enabled": true
            },
            "type": "-"
           },
           "yAxis": [
            {
             "type": "-"
            },
            {
             "opposite": true,
             "type": "-"
            }
           ]
          }
         }
        ]
       },
       "datasetPreviewNameToCmdIdMap": {},
       "diffDeletes": [],
       "diffInserts": [],
       "displayType": "redashChart",
       "error": null,
       "errorDetails": null,
       "errorSummary": null,
       "errorTraceType": null,
       "finishTime": 0,
       "globalVars": {},
       "guid": "",
       "height": "auto",
       "hideCommandCode": false,
       "hideCommandResult": false,
       "iPythonMetadata": null,
       "inputWidgets": {},
       "isLockedInExamMode": false,
       "latestAssumeRoleInfo": null,
       "latestUser": "a user",
       "latestUserId": null,
       "listResultMetadata": null,
       "metadata": {
        "byteLimit": 2048000,
        "rowLimit": 10000
       },
       "nuid": "cedda80d-523d-4040-b701-6eb27c9043a9",
       "origId": 0,
       "parentHierarchy": [],
       "pivotAggregation": null,
       "pivotColumns": null,
       "position": 7.078125,
       "resultDbfsErrorMessage": null,
       "resultDbfsStatus": "INLINED_IN_TREE",
       "results": null,
       "showCommandTitle": false,
       "startTime": 0,
       "state": "input",
       "streamStates": {},
       "subcommandOptions": {
        "queryPlan": {
         "groups": [
          {
           "column": "artist",
           "type": "column"
          }
         ],
         "selects": [
          {
           "column": "artist",
           "type": "column"
          },
          {
           "alias": "column_6b1aaff619",
           "args": [
            {
             "column": "count",
             "type": "column"
            }
           ],
           "function": "SUM",
           "type": "function"
          }
         ]
        }
       },
       "submitTime": 0,
       "subtype": "tableResultSubCmd.visualization",
       "tableResultIndex": 1,
       "tableResultSettingsMap": {},
       "useConsistentColors": false,
       "version": "CommandV1",
       "width": "auto",
       "workflows": [],
       "xColumns": null,
       "yColumns": null
      }
     },
     "output_type": "display_data"
    }
   ],
   "source": [
    "from pyspark.sql.functions import year, to_date\n",
    "# i have used the year function to extract the year from the date and then i used filtering to get the songs which were released between 2019 and 2020\n",
    "df = df.withColumn('release_year', year(df['date']))\n",
    "df_2019_2020=df.filter((df['release_year'] >= 2019) & (df['release_year'] <= 2020))\n",
    "display(df_2019_2020)\n",
    "#here i used groupby to get the artists and the number of songs they produced in these years\n",
    "display(df_2019_2020.groupBy(\"artist\").count())\n",
    "#I have created a pie chart which shows that Ateez and stray kids were the singers that produced the most number of songs between the years 2019 and 2020 and again Cravity had the least number of songs"
   ]
  },
  {
   "cell_type": "code",
   "execution_count": 0,
   "metadata": {
    "application/vnd.databricks.v1+cell": {
     "cellMetadata": {
      "byteLimit": 2048000,
      "rowLimit": 10000
     },
     "inputWidgets": {},
     "nuid": "5eab52fa-cdf6-4b8e-9d10-9f5f3503befc",
     "showTitle": false,
     "tableResultSettingsMap": {},
     "title": ""
    }
   },
   "outputs": [
    {
     "output_type": "display_data",
     "data": {
      "text/html": [
       "<style scoped>\n",
       "  .table-result-container {\n",
       "    max-height: 300px;\n",
       "    overflow: auto;\n",
       "  }\n",
       "  table, th, td {\n",
       "    border: 1px solid black;\n",
       "    border-collapse: collapse;\n",
       "  }\n",
       "  th, td {\n",
       "    padding: 5px;\n",
       "  }\n",
       "  th {\n",
       "    text-align: left;\n",
       "  }\n",
       "</style><div class='table-result-container'><table class='table-result'><thead style='background-color: white'><tr><th>Artist</th><th>title</th><th>date</th><th>country</th><th>sales</th><th>peak_chart</th><th>sales_success</th><th>release_year</th><th>days_since_release</th></tr></thead><tbody><tr><td>IZONE</td><td>Bloom*iz</td><td>2020-02-17</td><td>KOR</td><td>492504</td><td>2</td><td>high</td><td>2020</td><td>2052</td></tr><tr><td>IZONE</td><td>Bloom*iz</td><td>2020-02-17</td><td>JPN</td><td>23960</td><td>3</td><td>low</td><td>2020</td><td>2052</td></tr><tr><td>IZONE</td><td>TWELVE</td><td>2020-10-21</td><td>JPN</td><td>135113</td><td>1</td><td>high</td><td>2020</td><td>1805</td></tr><tr><td>IZONE</td><td>Color*Iz</td><td>2018-10-29</td><td>KOR</td><td>282816</td><td>2</td><td>high</td><td>2018</td><td>2528</td></tr><tr><td>IZONE</td><td>Color*Iz</td><td>2018-10-29</td><td>JPN</td><td>null</td><td>1</td><td>very high</td><td>2018</td><td>2528</td></tr><tr><td>IZONE</td><td>Heart*Iz</td><td>2020-04-01</td><td>KOR</td><td>306812</td><td>1</td><td>high</td><td>2020</td><td>2008</td></tr><tr><td>IZONE</td><td>Heart*Iz</td><td>2020-04-01</td><td>JPN</td><td>40065</td><td>4</td><td>low</td><td>2020</td><td>2008</td></tr><tr><td>IZONE</td><td>Oneiric Diary</td><td>2020-06-15</td><td>KOR</td><td>559138</td><td>2</td><td>very high</td><td>2020</td><td>1933</td></tr><tr><td>IZONE</td><td>Oneiric Diary</td><td>2020-06-15</td><td>JPN</td><td>19928</td><td>8</td><td>low</td><td>2020</td><td>1933</td></tr><tr><td>IZONE</td><td>One-reeler/Act IV</td><td>2020-12-07</td><td>KOR</td><td>447749</td><td>1</td><td>high</td><td>2020</td><td>1758</td></tr><tr><td>ITZY</td><td>It'z Icy</td><td>2019-05-29</td><td>KOR</td><td>149349</td><td>3</td><td>high</td><td>2019</td><td>2316</td></tr><tr><td>ITZY</td><td>It'z Icy</td><td>2019-05-29</td><td>JPN</td><td>15742</td><td>12</td><td>low</td><td>2019</td><td>2316</td></tr><tr><td>ITZY</td><td>It'z Me</td><td>2020-03-09</td><td>KOR</td><td>150851</td><td>1</td><td>high</td><td>2020</td><td>2031</td></tr><tr><td>ITZY</td><td>It'z Me</td><td>2020-03-09</td><td>JPN</td><td>10882</td><td>13</td><td>low</td><td>2020</td><td>2031</td></tr><tr><td>ITZY</td><td>Not Shy</td><td>2020-08-17</td><td>KOR</td><td>219048</td><td>1</td><td>high</td><td>2020</td><td>1870</td></tr><tr><td>ITZY</td><td>Not Shy</td><td>2020-08-17</td><td>JPN</td><td>14201</td><td>8</td><td>low</td><td>2020</td><td>1870</td></tr><tr><td>Stray Kids</td><td>In Life</td><td>2020-09-14</td><td>KOR</td><td>473616</td><td>1</td><td>high</td><td>2020</td><td>1842</td></tr><tr><td>Stray Kids</td><td>In Life</td><td>2020-09-14</td><td>JPN</td><td>39911</td><td>11</td><td>low</td><td>2020</td><td>1842</td></tr><tr><td>Stray Kids</td><td>Mixtape</td><td>2018-01-08</td><td>KOR</td><td>118921</td><td>2</td><td>high</td><td>2018</td><td>2822</td></tr><tr><td>Stray Kids</td><td>Mixtape</td><td>2018-01-08</td><td>JPN</td><td>1063</td><td>47</td><td>low</td><td>2018</td><td>2822</td></tr><tr><td>Stray Kids</td><td>I Am Not</td><td>2018-03-26</td><td>KOR</td><td>159343</td><td>4</td><td>high</td><td>2018</td><td>2745</td></tr><tr><td>Stray Kids</td><td>I Am Not</td><td>2018-03-26</td><td>JPN</td><td>2036</td><td>0</td><td>low</td><td>2018</td><td>2745</td></tr><tr><td>Stray Kids</td><td>I Am Who</td><td>2018-08-06</td><td>KOR</td><td>185273</td><td>3</td><td>high</td><td>2018</td><td>2612</td></tr><tr><td>Stray Kids</td><td>I Am Who</td><td>2018-08-06</td><td>JPN</td><td>1474</td><td>34</td><td>low</td><td>2018</td><td>2612</td></tr><tr><td>Stray Kids</td><td>I Am You</td><td>2018-10-22</td><td>KOR</td><td>189129</td><td>2</td><td>high</td><td>2018</td><td>2535</td></tr><tr><td>Stray Kids</td><td>I Am You</td><td>2018-10-22</td><td>JPN</td><td>2234</td><td>34</td><td>low</td><td>2018</td><td>2535</td></tr><tr><td>Stray Kids</td><td>Miroh</td><td>2019-03-25</td><td>KOR</td><td>226383</td><td>1</td><td>high</td><td>2019</td><td>2381</td></tr><tr><td>Stray Kids</td><td>Miroh</td><td>2019-03-25</td><td>JPN</td><td>5856</td><td>15</td><td>low</td><td>2019</td><td>2381</td></tr><tr><td>Stray Kids</td><td>Yellow Wood</td><td>2019-06-19</td><td>KOR</td><td>192796</td><td>2</td><td>high</td><td>2019</td><td>2295</td></tr><tr><td>Stray Kids</td><td>Yellow Wood</td><td>2019-06-19</td><td>JPN</td><td>3379</td><td>17</td><td>low</td><td>2019</td><td>2295</td></tr><tr><td>Stray Kids</td><td>Levanter</td><td>2019-12-09</td><td>KOR</td><td>247074</td><td>1</td><td>high</td><td>2019</td><td>2122</td></tr><tr><td>Stray Kids</td><td>Levanter</td><td>2019-12-09</td><td>JPN</td><td>9116</td><td>17</td><td>low</td><td>2019</td><td>2122</td></tr><tr><td>Stray Kids</td><td>All In</td><td>2020-11-04</td><td>JPN</td><td>59361</td><td>2</td><td>moderate</td><td>2020</td><td>1791</td></tr><tr><td>Treasure</td><td>Treasure Effect</td><td>2021-01-11</td><td>KOR</td><td>307457</td><td>1</td><td>high</td><td>2021</td><td>1723</td></tr><tr><td>Treasure</td><td>Treasure Effect</td><td>2021-01-11</td><td>JPN</td><td>83755</td><td>1</td><td>moderate</td><td>2021</td><td>1723</td></tr><tr><td>Treasure</td><td>Chapter One</td><td>2020-08-07</td><td>KOR</td><td>250000</td><td>1</td><td>high</td><td>2020</td><td>1880</td></tr><tr><td>Treasure</td><td>Chapter Two</td><td>2020-09-18</td><td>KOR</td><td>239326</td><td>2</td><td>high</td><td>2020</td><td>1838</td></tr><tr><td>Treasure</td><td>Chapter Three</td><td>2020-11-06</td><td>KOR</td><td>232134</td><td>1</td><td>high</td><td>2020</td><td>1789</td></tr><tr><td>TXT</td><td>Magic</td><td>2019-10-21</td><td>KOR</td><td>300910</td><td>1</td><td>high</td><td>2019</td><td>2171</td></tr><tr><td>TXT</td><td>Magic</td><td>2019-10-21</td><td>JPN</td><td>14296</td><td>11</td><td>low</td><td>2019</td><td>2171</td></tr><tr><td>TXT</td><td>Still Dreaming</td><td>2021-01-20</td><td>JPN</td><td>102041</td><td>1</td><td>high</td><td>2021</td><td>1714</td></tr><tr><td>TXT</td><td>Star</td><td>2019-03-04</td><td>KOR</td><td>278846</td><td>1</td><td>high</td><td>2019</td><td>2402</td></tr><tr><td>TXT</td><td>Star</td><td>2019-03-04</td><td>JPN</td><td>26176</td><td>3</td><td>low</td><td>2019</td><td>2402</td></tr><tr><td>TXT</td><td>Eternity</td><td>2020-05-18</td><td>KOR</td><td>379053</td><td>2</td><td>high</td><td>2020</td><td>1961</td></tr><tr><td>TXT</td><td>Eternity</td><td>2020-05-18</td><td>JPN</td><td>38814</td><td>1</td><td>low</td><td>2020</td><td>1961</td></tr><tr><td>TXT</td><td>Blue Hour</td><td>2020-10-26</td><td>KOR</td><td>508626</td><td>1</td><td>very high</td><td>2020</td><td>1800</td></tr><tr><td>TXT</td><td>Blue Hour</td><td>2020-10-26</td><td>JPN</td><td>43870</td><td>1</td><td>low</td><td>2020</td><td>1800</td></tr><tr><td>(G)I-dle</td><td>Dumdi Dumdi</td><td>2020-08-03</td><td>KOR</td><td>125801</td><td>2</td><td>high</td><td>2020</td><td>1884</td></tr><tr><td>(G)I-dle</td><td>Dumdi Dumdi</td><td>2020-08-03</td><td>CHN</td><td>182749</td><td>0</td><td>high</td><td>2020</td><td>1884</td></tr><tr><td>(G)I-dle</td><td>I Am</td><td>2018-05-02</td><td>KOR</td><td>51831</td><td>6</td><td>moderate</td><td>2018</td><td>2708</td></tr><tr><td>(G)I-dle</td><td>I Made</td><td>2019-02-26</td><td>KOR</td><td>51041</td><td>2</td><td>moderate</td><td>2019</td><td>2408</td></tr><tr><td>(G)I-dle</td><td>I Trust</td><td>2020-04-06</td><td>KOR</td><td>154499</td><td>1</td><td>high</td><td>2020</td><td>2003</td></tr><tr><td>(G)I-dle</td><td>I Trust</td><td>2020-04-06</td><td>JPN</td><td>1380</td><td>48</td><td>low</td><td>2020</td><td>2003</td></tr><tr><td>(G)I-dle</td><td>I Burn</td><td>2021-01-11</td><td>KOR</td><td>207927</td><td>3</td><td>high</td><td>2021</td><td>1723</td></tr><tr><td>(G)I-dle</td><td>Latata</td><td>2019-07-29</td><td>JPN</td><td>8229</td><td>5</td><td>low</td><td>2019</td><td>2255</td></tr><tr><td>(G)I-dle</td><td>Oh My God</td><td>2020-08-26</td><td>JPN</td><td>4229</td><td>23</td><td>low</td><td>2020</td><td>1861</td></tr><tr><td>Cravity</td><td>Season 1. Hideout: Remember Who We Are</td><td>2020-04-14</td><td>KOR</td><td>154360</td><td>1</td><td>high</td><td>2020</td><td>1995</td></tr><tr><td>Cravity</td><td>Season 1. Hideout: Remember Who We Are</td><td>2020-04-14</td><td>JPN</td><td>7304</td><td>10</td><td>low</td><td>2020</td><td>1995</td></tr><tr><td>Verivery</td><td>Veri-Able</td><td>2019-04-24</td><td>KOR</td><td>17630</td><td>6</td><td>low</td><td>2019</td><td>2351</td></tr><tr><td>Verivery</td><td>Face Me</td><td>2020-01-07</td><td>KOR</td><td>28440</td><td>4</td><td>low</td><td>2020</td><td>2093</td></tr><tr><td>Verivery</td><td>Face You</td><td>2020-07-01</td><td>KOR</td><td>39626</td><td>8</td><td>low</td><td>2020</td><td>1917</td></tr><tr><td>Verivery</td><td>Face Us</td><td>2020-10-13</td><td>KOR</td><td>59704</td><td>7</td><td>moderate</td><td>2020</td><td>1813</td></tr><tr><td>Verivery</td><td>Veri-Chill</td><td>2019-07-31</td><td>KOR</td><td>16698</td><td>10</td><td>low</td><td>2019</td><td>2253</td></tr><tr><td>Verivery</td><td>Series 'O' Round 1: Hall</td><td>2021-03-02</td><td>KOR</td><td>49999</td><td>4</td><td>low</td><td>2021</td><td>1673</td></tr><tr><td>Loona</td><td>[ + +]</td><td>2018-08-20</td><td>KOR</td><td>61466</td><td>2</td><td>moderate</td><td>2018</td><td>2598</td></tr><tr><td>Loona</td><td>[#]</td><td>2020-02-05</td><td>KOR</td><td>83522</td><td>2</td><td>moderate</td><td>2020</td><td>2064</td></tr><tr><td>Loona</td><td>[12:00]</td><td>2020-10-19</td><td>KOR</td><td>116614</td><td>4</td><td>high</td><td>2020</td><td>1807</td></tr><tr><td>Loona</td><td>Love & Live</td><td>2017-03-13</td><td>KOR</td><td>7130</td><td>10</td><td>low</td><td>2017</td><td>3123</td></tr><tr><td>Loona</td><td>Mix & Match</td><td>2017-09-21</td><td>KOR</td><td>7869</td><td>16</td><td>low</td><td>2017</td><td>2931</td></tr><tr><td>Loona</td><td>beauty&thebeat</td><td>2018-05-30</td><td>KOR</td><td>18138</td><td>4</td><td>low</td><td>2018</td><td>2680</td></tr><tr><td>Loona</td><td>[x x]</td><td>2019-02-19</td><td>KOR</td><td>45782</td><td>3</td><td>low</td><td>2019</td><td>2415</td></tr><tr><td>Loona</td><td>Love & Evil</td><td>2017-04-27</td><td>KOR</td><td>5924</td><td>24</td><td>low</td><td>2017</td><td>3078</td></tr><tr><td>Loona</td><td>Max & Match </td><td>2017-10-31</td><td>KOR</td><td>11136</td><td>7</td><td>low</td><td>2017</td><td>2891</td></tr><tr><td>Ateez</td><td>Treasure EP.Fin: All to Action</td><td>2019-10-08</td><td>KOR</td><td>209316</td><td>1</td><td>high</td><td>2019</td><td>2184</td></tr><tr><td>Ateez</td><td>Treasure EP.Extra: Shift the Map</td><td>2019-12-04</td><td>JPN</td><td>13113</td><td>9</td><td>low</td><td>2019</td><td>2127</td></tr><tr><td>Ateez</td><td>Into the A to Z</td><td>2021-03-24</td><td>JPN</td><td>10813</td><td>6</td><td>low</td><td>2021</td><td>1651</td></tr><tr><td>Ateez</td><td>Treasure EP.1: All to Zero</td><td>2018-10-24</td><td>KOR</td><td>85109</td><td>7</td><td>moderate</td><td>2018</td><td>2533</td></tr><tr><td>Ateez</td><td>Treasure EP.2: Zero to One</td><td>2019-01-15</td><td>KOR</td><td>100039</td><td>6</td><td>high</td><td>2019</td><td>2450</td></tr><tr><td>Ateez</td><td>Treasure EP.3: One to All</td><td>2019-06-10</td><td>KOR</td><td>180121</td><td>2</td><td>high</td><td>2019</td><td>2304</td></tr><tr><td>Ateez</td><td>Treasure EP.3: One to All</td><td>2019-06-10</td><td>JPN</td><td>2896</td><td>25</td><td>low</td><td>2019</td><td>2304</td></tr><tr><td>Ateez</td><td>Treasure Epilogue: Action to Answer</td><td>2020-01-06</td><td>KOR</td><td>184339</td><td>1</td><td>high</td><td>2020</td><td>2094</td></tr><tr><td>Ateez</td><td>Treasure Epilogue: Action to Answer</td><td>2020-01-06</td><td>JPN</td><td>1472</td><td>31</td><td>low</td><td>2020</td><td>2094</td></tr><tr><td>Ateez</td><td>Treasure EP. Map to Answer</td><td>2020-02-12</td><td>JPN</td><td>18720</td><td>3</td><td>low</td><td>2020</td><td>2057</td></tr><tr><td>Ateez</td><td>Zero: Fever Part.1</td><td>2020-07-29</td><td>KOR</td><td>379505</td><td>1</td><td>high</td><td>2020</td><td>1889</td></tr><tr><td>Ateez</td><td>Zero: Fever Part.1</td><td>2020-07-29</td><td>JPN</td><td>11324</td><td>35</td><td>low</td><td>2020</td><td>1889</td></tr><tr><td>Ateez</td><td>Zero: Fever Part.2</td><td>2021-03-01</td><td>KOR</td><td>380711</td><td>1</td><td>high</td><td>2021</td><td>1674</td></tr><tr><td>Ateez</td><td>Zero: Fever Part.2</td><td>2021-03-01</td><td>JPN</td><td>11027</td><td>10</td><td>low</td><td>2021</td><td>1674</td></tr><tr><td>Everglow</td><td>Reminiscence</td><td>2020-02-03</td><td>KOR</td><td>30912</td><td>4</td><td>low</td><td>2020</td><td>2066</td></tr><tr><td>Everglow</td><td>Reminiscence</td><td>2020-02-03</td><td>JPN</td><td>1649</td><td>48</td><td>low</td><td>2020</td><td>2066</td></tr><tr><td>Everglow</td><td>-77.82X-78.29</td><td>2020-09-21</td><td>KOR</td><td>49388</td><td>4</td><td>low</td><td>2020</td><td>1835</td></tr><tr><td>Everglow</td><td>Arrival of Everglow</td><td>2019-03-18</td><td>KOR</td><td>28033</td><td>6</td><td>low</td><td>2019</td><td>2388</td></tr><tr><td>Everglow</td><td>Hush</td><td>2019-08-19</td><td>KOR</td><td>28639</td><td>5</td><td>low</td><td>2019</td><td>2234</td></tr></tbody></table></div>"
      ]
     },
     "metadata": {
      "application/vnd.databricks.v1+output": {
       "addedWidgets": {},
       "aggData": [],
       "aggError": "",
       "aggOverflow": false,
       "aggSchema": [],
       "aggSeriesLimitReached": false,
       "aggType": "",
       "arguments": {},
       "columnCustomDisplayInfos": {},
       "data": [
        [
         "IZONE",
         "Bloom*iz",
         "2020-02-17",
         "KOR",
         492504,
         2,
         "high",
         2020,
         2052
        ],
        [
         "IZONE",
         "Bloom*iz",
         "2020-02-17",
         "JPN",
         23960,
         3,
         "low",
         2020,
         2052
        ],
        [
         "IZONE",
         "TWELVE",
         "2020-10-21",
         "JPN",
         135113,
         1,
         "high",
         2020,
         1805
        ],
        [
         "IZONE",
         "Color*Iz",
         "2018-10-29",
         "KOR",
         282816,
         2,
         "high",
         2018,
         2528
        ],
        [
         "IZONE",
         "Color*Iz",
         "2018-10-29",
         "JPN",
         null,
         1,
         "very high",
         2018,
         2528
        ],
        [
         "IZONE",
         "Heart*Iz",
         "2020-04-01",
         "KOR",
         306812,
         1,
         "high",
         2020,
         2008
        ],
        [
         "IZONE",
         "Heart*Iz",
         "2020-04-01",
         "JPN",
         40065,
         4,
         "low",
         2020,
         2008
        ],
        [
         "IZONE",
         "Oneiric Diary",
         "2020-06-15",
         "KOR",
         559138,
         2,
         "very high",
         2020,
         1933
        ],
        [
         "IZONE",
         "Oneiric Diary",
         "2020-06-15",
         "JPN",
         19928,
         8,
         "low",
         2020,
         1933
        ],
        [
         "IZONE",
         "One-reeler/Act IV",
         "2020-12-07",
         "KOR",
         447749,
         1,
         "high",
         2020,
         1758
        ],
        [
         "ITZY",
         "It'z Icy",
         "2019-05-29",
         "KOR",
         149349,
         3,
         "high",
         2019,
         2316
        ],
        [
         "ITZY",
         "It'z Icy",
         "2019-05-29",
         "JPN",
         15742,
         12,
         "low",
         2019,
         2316
        ],
        [
         "ITZY",
         "It'z Me",
         "2020-03-09",
         "KOR",
         150851,
         1,
         "high",
         2020,
         2031
        ],
        [
         "ITZY",
         "It'z Me",
         "2020-03-09",
         "JPN",
         10882,
         13,
         "low",
         2020,
         2031
        ],
        [
         "ITZY",
         "Not Shy",
         "2020-08-17",
         "KOR",
         219048,
         1,
         "high",
         2020,
         1870
        ],
        [
         "ITZY",
         "Not Shy",
         "2020-08-17",
         "JPN",
         14201,
         8,
         "low",
         2020,
         1870
        ],
        [
         "Stray Kids",
         "In Life",
         "2020-09-14",
         "KOR",
         473616,
         1,
         "high",
         2020,
         1842
        ],
        [
         "Stray Kids",
         "In Life",
         "2020-09-14",
         "JPN",
         39911,
         11,
         "low",
         2020,
         1842
        ],
        [
         "Stray Kids",
         "Mixtape",
         "2018-01-08",
         "KOR",
         118921,
         2,
         "high",
         2018,
         2822
        ],
        [
         "Stray Kids",
         "Mixtape",
         "2018-01-08",
         "JPN",
         1063,
         47,
         "low",
         2018,
         2822
        ],
        [
         "Stray Kids",
         "I Am Not",
         "2018-03-26",
         "KOR",
         159343,
         4,
         "high",
         2018,
         2745
        ],
        [
         "Stray Kids",
         "I Am Not",
         "2018-03-26",
         "JPN",
         2036,
         0,
         "low",
         2018,
         2745
        ],
        [
         "Stray Kids",
         "I Am Who",
         "2018-08-06",
         "KOR",
         185273,
         3,
         "high",
         2018,
         2612
        ],
        [
         "Stray Kids",
         "I Am Who",
         "2018-08-06",
         "JPN",
         1474,
         34,
         "low",
         2018,
         2612
        ],
        [
         "Stray Kids",
         "I Am You",
         "2018-10-22",
         "KOR",
         189129,
         2,
         "high",
         2018,
         2535
        ],
        [
         "Stray Kids",
         "I Am You",
         "2018-10-22",
         "JPN",
         2234,
         34,
         "low",
         2018,
         2535
        ],
        [
         "Stray Kids",
         "Miroh",
         "2019-03-25",
         "KOR",
         226383,
         1,
         "high",
         2019,
         2381
        ],
        [
         "Stray Kids",
         "Miroh",
         "2019-03-25",
         "JPN",
         5856,
         15,
         "low",
         2019,
         2381
        ],
        [
         "Stray Kids",
         "Yellow Wood",
         "2019-06-19",
         "KOR",
         192796,
         2,
         "high",
         2019,
         2295
        ],
        [
         "Stray Kids",
         "Yellow Wood",
         "2019-06-19",
         "JPN",
         3379,
         17,
         "low",
         2019,
         2295
        ],
        [
         "Stray Kids",
         "Levanter",
         "2019-12-09",
         "KOR",
         247074,
         1,
         "high",
         2019,
         2122
        ],
        [
         "Stray Kids",
         "Levanter",
         "2019-12-09",
         "JPN",
         9116,
         17,
         "low",
         2019,
         2122
        ],
        [
         "Stray Kids",
         "All In",
         "2020-11-04",
         "JPN",
         59361,
         2,
         "moderate",
         2020,
         1791
        ],
        [
         "Treasure",
         "Treasure Effect",
         "2021-01-11",
         "KOR",
         307457,
         1,
         "high",
         2021,
         1723
        ],
        [
         "Treasure",
         "Treasure Effect",
         "2021-01-11",
         "JPN",
         83755,
         1,
         "moderate",
         2021,
         1723
        ],
        [
         "Treasure",
         "Chapter One",
         "2020-08-07",
         "KOR",
         250000,
         1,
         "high",
         2020,
         1880
        ],
        [
         "Treasure",
         "Chapter Two",
         "2020-09-18",
         "KOR",
         239326,
         2,
         "high",
         2020,
         1838
        ],
        [
         "Treasure",
         "Chapter Three",
         "2020-11-06",
         "KOR",
         232134,
         1,
         "high",
         2020,
         1789
        ],
        [
         "TXT",
         "Magic",
         "2019-10-21",
         "KOR",
         300910,
         1,
         "high",
         2019,
         2171
        ],
        [
         "TXT",
         "Magic",
         "2019-10-21",
         "JPN",
         14296,
         11,
         "low",
         2019,
         2171
        ],
        [
         "TXT",
         "Still Dreaming",
         "2021-01-20",
         "JPN",
         102041,
         1,
         "high",
         2021,
         1714
        ],
        [
         "TXT",
         "Star",
         "2019-03-04",
         "KOR",
         278846,
         1,
         "high",
         2019,
         2402
        ],
        [
         "TXT",
         "Star",
         "2019-03-04",
         "JPN",
         26176,
         3,
         "low",
         2019,
         2402
        ],
        [
         "TXT",
         "Eternity",
         "2020-05-18",
         "KOR",
         379053,
         2,
         "high",
         2020,
         1961
        ],
        [
         "TXT",
         "Eternity",
         "2020-05-18",
         "JPN",
         38814,
         1,
         "low",
         2020,
         1961
        ],
        [
         "TXT",
         "Blue Hour",
         "2020-10-26",
         "KOR",
         508626,
         1,
         "very high",
         2020,
         1800
        ],
        [
         "TXT",
         "Blue Hour",
         "2020-10-26",
         "JPN",
         43870,
         1,
         "low",
         2020,
         1800
        ],
        [
         "(G)I-dle",
         "Dumdi Dumdi",
         "2020-08-03",
         "KOR",
         125801,
         2,
         "high",
         2020,
         1884
        ],
        [
         "(G)I-dle",
         "Dumdi Dumdi",
         "2020-08-03",
         "CHN",
         182749,
         0,
         "high",
         2020,
         1884
        ],
        [
         "(G)I-dle",
         "I Am",
         "2018-05-02",
         "KOR",
         51831,
         6,
         "moderate",
         2018,
         2708
        ],
        [
         "(G)I-dle",
         "I Made",
         "2019-02-26",
         "KOR",
         51041,
         2,
         "moderate",
         2019,
         2408
        ],
        [
         "(G)I-dle",
         "I Trust",
         "2020-04-06",
         "KOR",
         154499,
         1,
         "high",
         2020,
         2003
        ],
        [
         "(G)I-dle",
         "I Trust",
         "2020-04-06",
         "JPN",
         1380,
         48,
         "low",
         2020,
         2003
        ],
        [
         "(G)I-dle",
         "I Burn",
         "2021-01-11",
         "KOR",
         207927,
         3,
         "high",
         2021,
         1723
        ],
        [
         "(G)I-dle",
         "Latata",
         "2019-07-29",
         "JPN",
         8229,
         5,
         "low",
         2019,
         2255
        ],
        [
         "(G)I-dle",
         "Oh My God",
         "2020-08-26",
         "JPN",
         4229,
         23,
         "low",
         2020,
         1861
        ],
        [
         "Cravity",
         "Season 1. Hideout: Remember Who We Are",
         "2020-04-14",
         "KOR",
         154360,
         1,
         "high",
         2020,
         1995
        ],
        [
         "Cravity",
         "Season 1. Hideout: Remember Who We Are",
         "2020-04-14",
         "JPN",
         7304,
         10,
         "low",
         2020,
         1995
        ],
        [
         "Verivery",
         "Veri-Able",
         "2019-04-24",
         "KOR",
         17630,
         6,
         "low",
         2019,
         2351
        ],
        [
         "Verivery",
         "Face Me",
         "2020-01-07",
         "KOR",
         28440,
         4,
         "low",
         2020,
         2093
        ],
        [
         "Verivery",
         "Face You",
         "2020-07-01",
         "KOR",
         39626,
         8,
         "low",
         2020,
         1917
        ],
        [
         "Verivery",
         "Face Us",
         "2020-10-13",
         "KOR",
         59704,
         7,
         "moderate",
         2020,
         1813
        ],
        [
         "Verivery",
         "Veri-Chill",
         "2019-07-31",
         "KOR",
         16698,
         10,
         "low",
         2019,
         2253
        ],
        [
         "Verivery",
         "Series 'O' Round 1: Hall",
         "2021-03-02",
         "KOR",
         49999,
         4,
         "low",
         2021,
         1673
        ],
        [
         "Loona",
         "[ + +]",
         "2018-08-20",
         "KOR",
         61466,
         2,
         "moderate",
         2018,
         2598
        ],
        [
         "Loona",
         "[#]",
         "2020-02-05",
         "KOR",
         83522,
         2,
         "moderate",
         2020,
         2064
        ],
        [
         "Loona",
         "[12:00]",
         "2020-10-19",
         "KOR",
         116614,
         4,
         "high",
         2020,
         1807
        ],
        [
         "Loona",
         "Love & Live",
         "2017-03-13",
         "KOR",
         7130,
         10,
         "low",
         2017,
         3123
        ],
        [
         "Loona",
         "Mix & Match",
         "2017-09-21",
         "KOR",
         7869,
         16,
         "low",
         2017,
         2931
        ],
        [
         "Loona",
         "beauty&thebeat",
         "2018-05-30",
         "KOR",
         18138,
         4,
         "low",
         2018,
         2680
        ],
        [
         "Loona",
         "[x x]",
         "2019-02-19",
         "KOR",
         45782,
         3,
         "low",
         2019,
         2415
        ],
        [
         "Loona",
         "Love & Evil",
         "2017-04-27",
         "KOR",
         5924,
         24,
         "low",
         2017,
         3078
        ],
        [
         "Loona",
         "Max & Match ",
         "2017-10-31",
         "KOR",
         11136,
         7,
         "low",
         2017,
         2891
        ],
        [
         "Ateez",
         "Treasure EP.Fin: All to Action",
         "2019-10-08",
         "KOR",
         209316,
         1,
         "high",
         2019,
         2184
        ],
        [
         "Ateez",
         "Treasure EP.Extra: Shift the Map",
         "2019-12-04",
         "JPN",
         13113,
         9,
         "low",
         2019,
         2127
        ],
        [
         "Ateez",
         "Into the A to Z",
         "2021-03-24",
         "JPN",
         10813,
         6,
         "low",
         2021,
         1651
        ],
        [
         "Ateez",
         "Treasure EP.1: All to Zero",
         "2018-10-24",
         "KOR",
         85109,
         7,
         "moderate",
         2018,
         2533
        ],
        [
         "Ateez",
         "Treasure EP.2: Zero to One",
         "2019-01-15",
         "KOR",
         100039,
         6,
         "high",
         2019,
         2450
        ],
        [
         "Ateez",
         "Treasure EP.3: One to All",
         "2019-06-10",
         "KOR",
         180121,
         2,
         "high",
         2019,
         2304
        ],
        [
         "Ateez",
         "Treasure EP.3: One to All",
         "2019-06-10",
         "JPN",
         2896,
         25,
         "low",
         2019,
         2304
        ],
        [
         "Ateez",
         "Treasure Epilogue: Action to Answer",
         "2020-01-06",
         "KOR",
         184339,
         1,
         "high",
         2020,
         2094
        ],
        [
         "Ateez",
         "Treasure Epilogue: Action to Answer",
         "2020-01-06",
         "JPN",
         1472,
         31,
         "low",
         2020,
         2094
        ],
        [
         "Ateez",
         "Treasure EP. Map to Answer",
         "2020-02-12",
         "JPN",
         18720,
         3,
         "low",
         2020,
         2057
        ],
        [
         "Ateez",
         "Zero: Fever Part.1",
         "2020-07-29",
         "KOR",
         379505,
         1,
         "high",
         2020,
         1889
        ],
        [
         "Ateez",
         "Zero: Fever Part.1",
         "2020-07-29",
         "JPN",
         11324,
         35,
         "low",
         2020,
         1889
        ],
        [
         "Ateez",
         "Zero: Fever Part.2",
         "2021-03-01",
         "KOR",
         380711,
         1,
         "high",
         2021,
         1674
        ],
        [
         "Ateez",
         "Zero: Fever Part.2",
         "2021-03-01",
         "JPN",
         11027,
         10,
         "low",
         2021,
         1674
        ],
        [
         "Everglow",
         "Reminiscence",
         "2020-02-03",
         "KOR",
         30912,
         4,
         "low",
         2020,
         2066
        ],
        [
         "Everglow",
         "Reminiscence",
         "2020-02-03",
         "JPN",
         1649,
         48,
         "low",
         2020,
         2066
        ],
        [
         "Everglow",
         "-77.82X-78.29",
         "2020-09-21",
         "KOR",
         49388,
         4,
         "low",
         2020,
         1835
        ],
        [
         "Everglow",
         "Arrival of Everglow",
         "2019-03-18",
         "KOR",
         28033,
         6,
         "low",
         2019,
         2388
        ],
        [
         "Everglow",
         "Hush",
         "2019-08-19",
         "KOR",
         28639,
         5,
         "low",
         2019,
         2234
        ]
       ],
       "datasetInfos": [],
       "dbfsResultPath": null,
       "isJsonSchema": true,
       "metadata": {},
       "overflow": false,
       "plotOptions": {
        "customPlotOptions": {},
        "displayType": "table",
        "pivotAggregation": null,
        "pivotColumns": null,
        "xColumns": null,
        "yColumns": null
       },
       "removedWidgets": [],
       "schema": [
        {
         "metadata": "{}",
         "name": "Artist",
         "type": "\"string\""
        },
        {
         "metadata": "{}",
         "name": "title",
         "type": "\"string\""
        },
        {
         "metadata": "{\"__detected_date_formats\":\"M/d/yyyy\"}",
         "name": "date",
         "type": "\"date\""
        },
        {
         "metadata": "{}",
         "name": "country",
         "type": "\"string\""
        },
        {
         "metadata": "{}",
         "name": "sales",
         "type": "\"integer\""
        },
        {
         "metadata": "{}",
         "name": "peak_chart",
         "type": "\"integer\""
        },
        {
         "metadata": "{}",
         "name": "sales_success",
         "type": "\"string\""
        },
        {
         "metadata": "{}",
         "name": "release_year",
         "type": "\"integer\""
        },
        {
         "metadata": "{}",
         "name": "days_since_release",
         "type": "\"integer\""
        }
       ],
       "type": "table"
      }
     },
     "output_type": "display_data"
    }
   ],
   "source": [
    "from pyspark.sql.functions import to_date, current_date, datediff\n",
    "#I have used current_date and datediff to get the number of days by subtracting date from the current date\n",
    "df = df.withColumn('days_since_release', datediff(current_date(), df['date']))\n",
    "display(df)"
   ]
  },
  {
   "cell_type": "code",
   "execution_count": 0,
   "metadata": {
    "application/vnd.databricks.v1+cell": {
     "cellMetadata": {
      "byteLimit": 2048000,
      "rowLimit": 10000
     },
     "inputWidgets": {},
     "nuid": "02021902-ec2d-42cf-b207-62952ad606ae",
     "showTitle": false,
     "tableResultSettingsMap": {},
     "title": ""
    }
   },
   "outputs": [
    {
     "output_type": "display_data",
     "data": {
      "text/html": [
       "<style scoped>\n",
       "  .table-result-container {\n",
       "    max-height: 300px;\n",
       "    overflow: auto;\n",
       "  }\n",
       "  table, th, td {\n",
       "    border: 1px solid black;\n",
       "    border-collapse: collapse;\n",
       "  }\n",
       "  th, td {\n",
       "    padding: 5px;\n",
       "  }\n",
       "  th {\n",
       "    text-align: left;\n",
       "  }\n",
       "</style><div class='table-result-container'><table class='table-result'><thead style='background-color: white'><tr><th>Artist</th><th>title</th><th>date</th><th>country</th><th>sales</th><th>peak_chart</th><th>sales_success</th><th>release_year</th><th>days_since_release</th><th>cumulative_sales_dist</th></tr></thead><tbody><tr><td>(G)I-dle</td><td>Dumdi Dumdi</td><td>2020-08-03</td><td>CHN</td><td>182749</td><td>0</td><td>high</td><td>2020</td><td>1884</td><td>1.0</td></tr><tr><td>(G)I-dle</td><td>I Trust</td><td>2020-04-06</td><td>JPN</td><td>1380</td><td>48</td><td>low</td><td>2020</td><td>2003</td><td>0.3333333333333333</td></tr><tr><td>(G)I-dle</td><td>Oh My God</td><td>2020-08-26</td><td>JPN</td><td>4229</td><td>23</td><td>low</td><td>2020</td><td>1861</td><td>0.6666666666666666</td></tr><tr><td>(G)I-dle</td><td>Latata</td><td>2019-07-29</td><td>JPN</td><td>8229</td><td>5</td><td>low</td><td>2019</td><td>2255</td><td>1.0</td></tr><tr><td>(G)I-dle</td><td>I Made</td><td>2019-02-26</td><td>KOR</td><td>51041</td><td>2</td><td>moderate</td><td>2019</td><td>2408</td><td>0.2</td></tr><tr><td>(G)I-dle</td><td>I Am</td><td>2018-05-02</td><td>KOR</td><td>51831</td><td>6</td><td>moderate</td><td>2018</td><td>2708</td><td>0.4</td></tr><tr><td>(G)I-dle</td><td>Dumdi Dumdi</td><td>2020-08-03</td><td>KOR</td><td>125801</td><td>2</td><td>high</td><td>2020</td><td>1884</td><td>0.6</td></tr><tr><td>(G)I-dle</td><td>I Trust</td><td>2020-04-06</td><td>KOR</td><td>154499</td><td>1</td><td>high</td><td>2020</td><td>2003</td><td>0.8</td></tr><tr><td>(G)I-dle</td><td>I Burn</td><td>2021-01-11</td><td>KOR</td><td>207927</td><td>3</td><td>high</td><td>2021</td><td>1723</td><td>1.0</td></tr><tr><td>Ateez</td><td>Treasure Epilogue: Action to Answer</td><td>2020-01-06</td><td>JPN</td><td>1472</td><td>31</td><td>low</td><td>2020</td><td>2094</td><td>0.14285714285714285</td></tr><tr><td>Ateez</td><td>Treasure EP.3: One to All</td><td>2019-06-10</td><td>JPN</td><td>2896</td><td>25</td><td>low</td><td>2019</td><td>2304</td><td>0.2857142857142857</td></tr><tr><td>Ateez</td><td>Into the A to Z</td><td>2021-03-24</td><td>JPN</td><td>10813</td><td>6</td><td>low</td><td>2021</td><td>1651</td><td>0.42857142857142855</td></tr><tr><td>Ateez</td><td>Zero: Fever Part.2</td><td>2021-03-01</td><td>JPN</td><td>11027</td><td>10</td><td>low</td><td>2021</td><td>1674</td><td>0.5714285714285714</td></tr><tr><td>Ateez</td><td>Zero: Fever Part.1</td><td>2020-07-29</td><td>JPN</td><td>11324</td><td>35</td><td>low</td><td>2020</td><td>1889</td><td>0.7142857142857143</td></tr><tr><td>Ateez</td><td>Treasure EP.Extra: Shift the Map</td><td>2019-12-04</td><td>JPN</td><td>13113</td><td>9</td><td>low</td><td>2019</td><td>2127</td><td>0.8571428571428571</td></tr><tr><td>Ateez</td><td>Treasure EP. Map to Answer</td><td>2020-02-12</td><td>JPN</td><td>18720</td><td>3</td><td>low</td><td>2020</td><td>2057</td><td>1.0</td></tr><tr><td>Ateez</td><td>Treasure EP.1: All to Zero</td><td>2018-10-24</td><td>KOR</td><td>85109</td><td>7</td><td>moderate</td><td>2018</td><td>2533</td><td>0.14285714285714285</td></tr><tr><td>Ateez</td><td>Treasure EP.2: Zero to One</td><td>2019-01-15</td><td>KOR</td><td>100039</td><td>6</td><td>high</td><td>2019</td><td>2450</td><td>0.2857142857142857</td></tr><tr><td>Ateez</td><td>Treasure EP.3: One to All</td><td>2019-06-10</td><td>KOR</td><td>180121</td><td>2</td><td>high</td><td>2019</td><td>2304</td><td>0.42857142857142855</td></tr><tr><td>Ateez</td><td>Treasure Epilogue: Action to Answer</td><td>2020-01-06</td><td>KOR</td><td>184339</td><td>1</td><td>high</td><td>2020</td><td>2094</td><td>0.5714285714285714</td></tr><tr><td>Ateez</td><td>Treasure EP.Fin: All to Action</td><td>2019-10-08</td><td>KOR</td><td>209316</td><td>1</td><td>high</td><td>2019</td><td>2184</td><td>0.7142857142857143</td></tr><tr><td>Ateez</td><td>Zero: Fever Part.1</td><td>2020-07-29</td><td>KOR</td><td>379505</td><td>1</td><td>high</td><td>2020</td><td>1889</td><td>0.8571428571428571</td></tr><tr><td>Ateez</td><td>Zero: Fever Part.2</td><td>2021-03-01</td><td>KOR</td><td>380711</td><td>1</td><td>high</td><td>2021</td><td>1674</td><td>1.0</td></tr><tr><td>Cravity</td><td>Season 1. Hideout: Remember Who We Are</td><td>2020-04-14</td><td>JPN</td><td>7304</td><td>10</td><td>low</td><td>2020</td><td>1995</td><td>1.0</td></tr><tr><td>Cravity</td><td>Season 1. Hideout: Remember Who We Are</td><td>2020-04-14</td><td>KOR</td><td>154360</td><td>1</td><td>high</td><td>2020</td><td>1995</td><td>1.0</td></tr><tr><td>Everglow</td><td>Reminiscence</td><td>2020-02-03</td><td>JPN</td><td>1649</td><td>48</td><td>low</td><td>2020</td><td>2066</td><td>1.0</td></tr><tr><td>Everglow</td><td>Arrival of Everglow</td><td>2019-03-18</td><td>KOR</td><td>28033</td><td>6</td><td>low</td><td>2019</td><td>2388</td><td>0.25</td></tr><tr><td>Everglow</td><td>Hush</td><td>2019-08-19</td><td>KOR</td><td>28639</td><td>5</td><td>low</td><td>2019</td><td>2234</td><td>0.5</td></tr><tr><td>Everglow</td><td>Reminiscence</td><td>2020-02-03</td><td>KOR</td><td>30912</td><td>4</td><td>low</td><td>2020</td><td>2066</td><td>0.75</td></tr><tr><td>Everglow</td><td>-77.82X-78.29</td><td>2020-09-21</td><td>KOR</td><td>49388</td><td>4</td><td>low</td><td>2020</td><td>1835</td><td>1.0</td></tr><tr><td>ITZY</td><td>It'z Me</td><td>2020-03-09</td><td>JPN</td><td>10882</td><td>13</td><td>low</td><td>2020</td><td>2031</td><td>0.3333333333333333</td></tr><tr><td>ITZY</td><td>Not Shy</td><td>2020-08-17</td><td>JPN</td><td>14201</td><td>8</td><td>low</td><td>2020</td><td>1870</td><td>0.6666666666666666</td></tr><tr><td>ITZY</td><td>It'z Icy</td><td>2019-05-29</td><td>JPN</td><td>15742</td><td>12</td><td>low</td><td>2019</td><td>2316</td><td>1.0</td></tr><tr><td>ITZY</td><td>It'z Icy</td><td>2019-05-29</td><td>KOR</td><td>149349</td><td>3</td><td>high</td><td>2019</td><td>2316</td><td>0.3333333333333333</td></tr><tr><td>ITZY</td><td>It'z Me</td><td>2020-03-09</td><td>KOR</td><td>150851</td><td>1</td><td>high</td><td>2020</td><td>2031</td><td>0.6666666666666666</td></tr><tr><td>ITZY</td><td>Not Shy</td><td>2020-08-17</td><td>KOR</td><td>219048</td><td>1</td><td>high</td><td>2020</td><td>1870</td><td>1.0</td></tr><tr><td>IZONE</td><td>Color*Iz</td><td>2018-10-29</td><td>JPN</td><td>null</td><td>1</td><td>very high</td><td>2018</td><td>2528</td><td>0.2</td></tr><tr><td>IZONE</td><td>Oneiric Diary</td><td>2020-06-15</td><td>JPN</td><td>19928</td><td>8</td><td>low</td><td>2020</td><td>1933</td><td>0.4</td></tr><tr><td>IZONE</td><td>Bloom*iz</td><td>2020-02-17</td><td>JPN</td><td>23960</td><td>3</td><td>low</td><td>2020</td><td>2052</td><td>0.6</td></tr><tr><td>IZONE</td><td>Heart*Iz</td><td>2020-04-01</td><td>JPN</td><td>40065</td><td>4</td><td>low</td><td>2020</td><td>2008</td><td>0.8</td></tr><tr><td>IZONE</td><td>TWELVE</td><td>2020-10-21</td><td>JPN</td><td>135113</td><td>1</td><td>high</td><td>2020</td><td>1805</td><td>1.0</td></tr><tr><td>IZONE</td><td>Color*Iz</td><td>2018-10-29</td><td>KOR</td><td>282816</td><td>2</td><td>high</td><td>2018</td><td>2528</td><td>0.2</td></tr><tr><td>IZONE</td><td>Heart*Iz</td><td>2020-04-01</td><td>KOR</td><td>306812</td><td>1</td><td>high</td><td>2020</td><td>2008</td><td>0.4</td></tr><tr><td>IZONE</td><td>One-reeler/Act IV</td><td>2020-12-07</td><td>KOR</td><td>447749</td><td>1</td><td>high</td><td>2020</td><td>1758</td><td>0.6</td></tr><tr><td>IZONE</td><td>Bloom*iz</td><td>2020-02-17</td><td>KOR</td><td>492504</td><td>2</td><td>high</td><td>2020</td><td>2052</td><td>0.8</td></tr><tr><td>IZONE</td><td>Oneiric Diary</td><td>2020-06-15</td><td>KOR</td><td>559138</td><td>2</td><td>very high</td><td>2020</td><td>1933</td><td>1.0</td></tr><tr><td>Loona</td><td>Love & Evil</td><td>2017-04-27</td><td>KOR</td><td>5924</td><td>24</td><td>low</td><td>2017</td><td>3078</td><td>0.1111111111111111</td></tr><tr><td>Loona</td><td>Love & Live</td><td>2017-03-13</td><td>KOR</td><td>7130</td><td>10</td><td>low</td><td>2017</td><td>3123</td><td>0.2222222222222222</td></tr><tr><td>Loona</td><td>Mix & Match</td><td>2017-09-21</td><td>KOR</td><td>7869</td><td>16</td><td>low</td><td>2017</td><td>2931</td><td>0.3333333333333333</td></tr><tr><td>Loona</td><td>Max & Match </td><td>2017-10-31</td><td>KOR</td><td>11136</td><td>7</td><td>low</td><td>2017</td><td>2891</td><td>0.4444444444444444</td></tr><tr><td>Loona</td><td>beauty&thebeat</td><td>2018-05-30</td><td>KOR</td><td>18138</td><td>4</td><td>low</td><td>2018</td><td>2680</td><td>0.5555555555555556</td></tr><tr><td>Loona</td><td>[x x]</td><td>2019-02-19</td><td>KOR</td><td>45782</td><td>3</td><td>low</td><td>2019</td><td>2415</td><td>0.6666666666666666</td></tr><tr><td>Loona</td><td>[ + +]</td><td>2018-08-20</td><td>KOR</td><td>61466</td><td>2</td><td>moderate</td><td>2018</td><td>2598</td><td>0.7777777777777778</td></tr><tr><td>Loona</td><td>[#]</td><td>2020-02-05</td><td>KOR</td><td>83522</td><td>2</td><td>moderate</td><td>2020</td><td>2064</td><td>0.8888888888888888</td></tr><tr><td>Loona</td><td>[12:00]</td><td>2020-10-19</td><td>KOR</td><td>116614</td><td>4</td><td>high</td><td>2020</td><td>1807</td><td>1.0</td></tr><tr><td>Stray Kids</td><td>Mixtape</td><td>2018-01-08</td><td>JPN</td><td>1063</td><td>47</td><td>low</td><td>2018</td><td>2822</td><td>0.1111111111111111</td></tr><tr><td>Stray Kids</td><td>I Am Who</td><td>2018-08-06</td><td>JPN</td><td>1474</td><td>34</td><td>low</td><td>2018</td><td>2612</td><td>0.2222222222222222</td></tr><tr><td>Stray Kids</td><td>I Am Not</td><td>2018-03-26</td><td>JPN</td><td>2036</td><td>0</td><td>low</td><td>2018</td><td>2745</td><td>0.3333333333333333</td></tr><tr><td>Stray Kids</td><td>I Am You</td><td>2018-10-22</td><td>JPN</td><td>2234</td><td>34</td><td>low</td><td>2018</td><td>2535</td><td>0.4444444444444444</td></tr><tr><td>Stray Kids</td><td>Yellow Wood</td><td>2019-06-19</td><td>JPN</td><td>3379</td><td>17</td><td>low</td><td>2019</td><td>2295</td><td>0.5555555555555556</td></tr><tr><td>Stray Kids</td><td>Miroh</td><td>2019-03-25</td><td>JPN</td><td>5856</td><td>15</td><td>low</td><td>2019</td><td>2381</td><td>0.6666666666666666</td></tr><tr><td>Stray Kids</td><td>Levanter</td><td>2019-12-09</td><td>JPN</td><td>9116</td><td>17</td><td>low</td><td>2019</td><td>2122</td><td>0.7777777777777778</td></tr><tr><td>Stray Kids</td><td>In Life</td><td>2020-09-14</td><td>JPN</td><td>39911</td><td>11</td><td>low</td><td>2020</td><td>1842</td><td>0.8888888888888888</td></tr><tr><td>Stray Kids</td><td>All In</td><td>2020-11-04</td><td>JPN</td><td>59361</td><td>2</td><td>moderate</td><td>2020</td><td>1791</td><td>1.0</td></tr><tr><td>Stray Kids</td><td>Mixtape</td><td>2018-01-08</td><td>KOR</td><td>118921</td><td>2</td><td>high</td><td>2018</td><td>2822</td><td>0.125</td></tr><tr><td>Stray Kids</td><td>I Am Not</td><td>2018-03-26</td><td>KOR</td><td>159343</td><td>4</td><td>high</td><td>2018</td><td>2745</td><td>0.25</td></tr><tr><td>Stray Kids</td><td>I Am Who</td><td>2018-08-06</td><td>KOR</td><td>185273</td><td>3</td><td>high</td><td>2018</td><td>2612</td><td>0.375</td></tr><tr><td>Stray Kids</td><td>I Am You</td><td>2018-10-22</td><td>KOR</td><td>189129</td><td>2</td><td>high</td><td>2018</td><td>2535</td><td>0.5</td></tr><tr><td>Stray Kids</td><td>Yellow Wood</td><td>2019-06-19</td><td>KOR</td><td>192796</td><td>2</td><td>high</td><td>2019</td><td>2295</td><td>0.625</td></tr><tr><td>Stray Kids</td><td>Miroh</td><td>2019-03-25</td><td>KOR</td><td>226383</td><td>1</td><td>high</td><td>2019</td><td>2381</td><td>0.75</td></tr><tr><td>Stray Kids</td><td>Levanter</td><td>2019-12-09</td><td>KOR</td><td>247074</td><td>1</td><td>high</td><td>2019</td><td>2122</td><td>0.875</td></tr><tr><td>Stray Kids</td><td>In Life</td><td>2020-09-14</td><td>KOR</td><td>473616</td><td>1</td><td>high</td><td>2020</td><td>1842</td><td>1.0</td></tr><tr><td>TXT</td><td>Magic</td><td>2019-10-21</td><td>JPN</td><td>14296</td><td>11</td><td>low</td><td>2019</td><td>2171</td><td>0.2</td></tr><tr><td>TXT</td><td>Star</td><td>2019-03-04</td><td>JPN</td><td>26176</td><td>3</td><td>low</td><td>2019</td><td>2402</td><td>0.4</td></tr><tr><td>TXT</td><td>Eternity</td><td>2020-05-18</td><td>JPN</td><td>38814</td><td>1</td><td>low</td><td>2020</td><td>1961</td><td>0.6</td></tr><tr><td>TXT</td><td>Blue Hour</td><td>2020-10-26</td><td>JPN</td><td>43870</td><td>1</td><td>low</td><td>2020</td><td>1800</td><td>0.8</td></tr><tr><td>TXT</td><td>Still Dreaming</td><td>2021-01-20</td><td>JPN</td><td>102041</td><td>1</td><td>high</td><td>2021</td><td>1714</td><td>1.0</td></tr><tr><td>TXT</td><td>Star</td><td>2019-03-04</td><td>KOR</td><td>278846</td><td>1</td><td>high</td><td>2019</td><td>2402</td><td>0.25</td></tr><tr><td>TXT</td><td>Magic</td><td>2019-10-21</td><td>KOR</td><td>300910</td><td>1</td><td>high</td><td>2019</td><td>2171</td><td>0.5</td></tr><tr><td>TXT</td><td>Eternity</td><td>2020-05-18</td><td>KOR</td><td>379053</td><td>2</td><td>high</td><td>2020</td><td>1961</td><td>0.75</td></tr><tr><td>TXT</td><td>Blue Hour</td><td>2020-10-26</td><td>KOR</td><td>508626</td><td>1</td><td>very high</td><td>2020</td><td>1800</td><td>1.0</td></tr><tr><td>Treasure</td><td>Treasure Effect</td><td>2021-01-11</td><td>JPN</td><td>83755</td><td>1</td><td>moderate</td><td>2021</td><td>1723</td><td>1.0</td></tr><tr><td>Treasure</td><td>Chapter Three</td><td>2020-11-06</td><td>KOR</td><td>232134</td><td>1</td><td>high</td><td>2020</td><td>1789</td><td>0.25</td></tr><tr><td>Treasure</td><td>Chapter Two</td><td>2020-09-18</td><td>KOR</td><td>239326</td><td>2</td><td>high</td><td>2020</td><td>1838</td><td>0.5</td></tr><tr><td>Treasure</td><td>Chapter One</td><td>2020-08-07</td><td>KOR</td><td>250000</td><td>1</td><td>high</td><td>2020</td><td>1880</td><td>0.75</td></tr><tr><td>Treasure</td><td>Treasure Effect</td><td>2021-01-11</td><td>KOR</td><td>307457</td><td>1</td><td>high</td><td>2021</td><td>1723</td><td>1.0</td></tr><tr><td>Verivery</td><td>Veri-Chill</td><td>2019-07-31</td><td>KOR</td><td>16698</td><td>10</td><td>low</td><td>2019</td><td>2253</td><td>0.16666666666666666</td></tr><tr><td>Verivery</td><td>Veri-Able</td><td>2019-04-24</td><td>KOR</td><td>17630</td><td>6</td><td>low</td><td>2019</td><td>2351</td><td>0.3333333333333333</td></tr><tr><td>Verivery</td><td>Face Me</td><td>2020-01-07</td><td>KOR</td><td>28440</td><td>4</td><td>low</td><td>2020</td><td>2093</td><td>0.5</td></tr><tr><td>Verivery</td><td>Face You</td><td>2020-07-01</td><td>KOR</td><td>39626</td><td>8</td><td>low</td><td>2020</td><td>1917</td><td>0.6666666666666666</td></tr><tr><td>Verivery</td><td>Series 'O' Round 1: Hall</td><td>2021-03-02</td><td>KOR</td><td>49999</td><td>4</td><td>low</td><td>2021</td><td>1673</td><td>0.8333333333333334</td></tr><tr><td>Verivery</td><td>Face Us</td><td>2020-10-13</td><td>KOR</td><td>59704</td><td>7</td><td>moderate</td><td>2020</td><td>1813</td><td>1.0</td></tr></tbody></table></div>"
      ]
     },
     "metadata": {
      "application/vnd.databricks.v1+output": {
       "addedWidgets": {},
       "aggData": [],
       "aggError": "",
       "aggOverflow": false,
       "aggSchema": [],
       "aggSeriesLimitReached": false,
       "aggType": "",
       "arguments": {},
       "columnCustomDisplayInfos": {},
       "data": [
        [
         "(G)I-dle",
         "Dumdi Dumdi",
         "2020-08-03",
         "CHN",
         182749,
         0,
         "high",
         2020,
         1884,
         1.0
        ],
        [
         "(G)I-dle",
         "I Trust",
         "2020-04-06",
         "JPN",
         1380,
         48,
         "low",
         2020,
         2003,
         0.3333333333333333
        ],
        [
         "(G)I-dle",
         "Oh My God",
         "2020-08-26",
         "JPN",
         4229,
         23,
         "low",
         2020,
         1861,
         0.6666666666666666
        ],
        [
         "(G)I-dle",
         "Latata",
         "2019-07-29",
         "JPN",
         8229,
         5,
         "low",
         2019,
         2255,
         1.0
        ],
        [
         "(G)I-dle",
         "I Made",
         "2019-02-26",
         "KOR",
         51041,
         2,
         "moderate",
         2019,
         2408,
         0.2
        ],
        [
         "(G)I-dle",
         "I Am",
         "2018-05-02",
         "KOR",
         51831,
         6,
         "moderate",
         2018,
         2708,
         0.4
        ],
        [
         "(G)I-dle",
         "Dumdi Dumdi",
         "2020-08-03",
         "KOR",
         125801,
         2,
         "high",
         2020,
         1884,
         0.6
        ],
        [
         "(G)I-dle",
         "I Trust",
         "2020-04-06",
         "KOR",
         154499,
         1,
         "high",
         2020,
         2003,
         0.8
        ],
        [
         "(G)I-dle",
         "I Burn",
         "2021-01-11",
         "KOR",
         207927,
         3,
         "high",
         2021,
         1723,
         1.0
        ],
        [
         "Ateez",
         "Treasure Epilogue: Action to Answer",
         "2020-01-06",
         "JPN",
         1472,
         31,
         "low",
         2020,
         2094,
         0.14285714285714285
        ],
        [
         "Ateez",
         "Treasure EP.3: One to All",
         "2019-06-10",
         "JPN",
         2896,
         25,
         "low",
         2019,
         2304,
         0.2857142857142857
        ],
        [
         "Ateez",
         "Into the A to Z",
         "2021-03-24",
         "JPN",
         10813,
         6,
         "low",
         2021,
         1651,
         0.42857142857142855
        ],
        [
         "Ateez",
         "Zero: Fever Part.2",
         "2021-03-01",
         "JPN",
         11027,
         10,
         "low",
         2021,
         1674,
         0.5714285714285714
        ],
        [
         "Ateez",
         "Zero: Fever Part.1",
         "2020-07-29",
         "JPN",
         11324,
         35,
         "low",
         2020,
         1889,
         0.7142857142857143
        ],
        [
         "Ateez",
         "Treasure EP.Extra: Shift the Map",
         "2019-12-04",
         "JPN",
         13113,
         9,
         "low",
         2019,
         2127,
         0.8571428571428571
        ],
        [
         "Ateez",
         "Treasure EP. Map to Answer",
         "2020-02-12",
         "JPN",
         18720,
         3,
         "low",
         2020,
         2057,
         1.0
        ],
        [
         "Ateez",
         "Treasure EP.1: All to Zero",
         "2018-10-24",
         "KOR",
         85109,
         7,
         "moderate",
         2018,
         2533,
         0.14285714285714285
        ],
        [
         "Ateez",
         "Treasure EP.2: Zero to One",
         "2019-01-15",
         "KOR",
         100039,
         6,
         "high",
         2019,
         2450,
         0.2857142857142857
        ],
        [
         "Ateez",
         "Treasure EP.3: One to All",
         "2019-06-10",
         "KOR",
         180121,
         2,
         "high",
         2019,
         2304,
         0.42857142857142855
        ],
        [
         "Ateez",
         "Treasure Epilogue: Action to Answer",
         "2020-01-06",
         "KOR",
         184339,
         1,
         "high",
         2020,
         2094,
         0.5714285714285714
        ],
        [
         "Ateez",
         "Treasure EP.Fin: All to Action",
         "2019-10-08",
         "KOR",
         209316,
         1,
         "high",
         2019,
         2184,
         0.7142857142857143
        ],
        [
         "Ateez",
         "Zero: Fever Part.1",
         "2020-07-29",
         "KOR",
         379505,
         1,
         "high",
         2020,
         1889,
         0.8571428571428571
        ],
        [
         "Ateez",
         "Zero: Fever Part.2",
         "2021-03-01",
         "KOR",
         380711,
         1,
         "high",
         2021,
         1674,
         1.0
        ],
        [
         "Cravity",
         "Season 1. Hideout: Remember Who We Are",
         "2020-04-14",
         "JPN",
         7304,
         10,
         "low",
         2020,
         1995,
         1.0
        ],
        [
         "Cravity",
         "Season 1. Hideout: Remember Who We Are",
         "2020-04-14",
         "KOR",
         154360,
         1,
         "high",
         2020,
         1995,
         1.0
        ],
        [
         "Everglow",
         "Reminiscence",
         "2020-02-03",
         "JPN",
         1649,
         48,
         "low",
         2020,
         2066,
         1.0
        ],
        [
         "Everglow",
         "Arrival of Everglow",
         "2019-03-18",
         "KOR",
         28033,
         6,
         "low",
         2019,
         2388,
         0.25
        ],
        [
         "Everglow",
         "Hush",
         "2019-08-19",
         "KOR",
         28639,
         5,
         "low",
         2019,
         2234,
         0.5
        ],
        [
         "Everglow",
         "Reminiscence",
         "2020-02-03",
         "KOR",
         30912,
         4,
         "low",
         2020,
         2066,
         0.75
        ],
        [
         "Everglow",
         "-77.82X-78.29",
         "2020-09-21",
         "KOR",
         49388,
         4,
         "low",
         2020,
         1835,
         1.0
        ],
        [
         "ITZY",
         "It'z Me",
         "2020-03-09",
         "JPN",
         10882,
         13,
         "low",
         2020,
         2031,
         0.3333333333333333
        ],
        [
         "ITZY",
         "Not Shy",
         "2020-08-17",
         "JPN",
         14201,
         8,
         "low",
         2020,
         1870,
         0.6666666666666666
        ],
        [
         "ITZY",
         "It'z Icy",
         "2019-05-29",
         "JPN",
         15742,
         12,
         "low",
         2019,
         2316,
         1.0
        ],
        [
         "ITZY",
         "It'z Icy",
         "2019-05-29",
         "KOR",
         149349,
         3,
         "high",
         2019,
         2316,
         0.3333333333333333
        ],
        [
         "ITZY",
         "It'z Me",
         "2020-03-09",
         "KOR",
         150851,
         1,
         "high",
         2020,
         2031,
         0.6666666666666666
        ],
        [
         "ITZY",
         "Not Shy",
         "2020-08-17",
         "KOR",
         219048,
         1,
         "high",
         2020,
         1870,
         1.0
        ],
        [
         "IZONE",
         "Color*Iz",
         "2018-10-29",
         "JPN",
         null,
         1,
         "very high",
         2018,
         2528,
         0.2
        ],
        [
         "IZONE",
         "Oneiric Diary",
         "2020-06-15",
         "JPN",
         19928,
         8,
         "low",
         2020,
         1933,
         0.4
        ],
        [
         "IZONE",
         "Bloom*iz",
         "2020-02-17",
         "JPN",
         23960,
         3,
         "low",
         2020,
         2052,
         0.6
        ],
        [
         "IZONE",
         "Heart*Iz",
         "2020-04-01",
         "JPN",
         40065,
         4,
         "low",
         2020,
         2008,
         0.8
        ],
        [
         "IZONE",
         "TWELVE",
         "2020-10-21",
         "JPN",
         135113,
         1,
         "high",
         2020,
         1805,
         1.0
        ],
        [
         "IZONE",
         "Color*Iz",
         "2018-10-29",
         "KOR",
         282816,
         2,
         "high",
         2018,
         2528,
         0.2
        ],
        [
         "IZONE",
         "Heart*Iz",
         "2020-04-01",
         "KOR",
         306812,
         1,
         "high",
         2020,
         2008,
         0.4
        ],
        [
         "IZONE",
         "One-reeler/Act IV",
         "2020-12-07",
         "KOR",
         447749,
         1,
         "high",
         2020,
         1758,
         0.6
        ],
        [
         "IZONE",
         "Bloom*iz",
         "2020-02-17",
         "KOR",
         492504,
         2,
         "high",
         2020,
         2052,
         0.8
        ],
        [
         "IZONE",
         "Oneiric Diary",
         "2020-06-15",
         "KOR",
         559138,
         2,
         "very high",
         2020,
         1933,
         1.0
        ],
        [
         "Loona",
         "Love & Evil",
         "2017-04-27",
         "KOR",
         5924,
         24,
         "low",
         2017,
         3078,
         0.1111111111111111
        ],
        [
         "Loona",
         "Love & Live",
         "2017-03-13",
         "KOR",
         7130,
         10,
         "low",
         2017,
         3123,
         0.2222222222222222
        ],
        [
         "Loona",
         "Mix & Match",
         "2017-09-21",
         "KOR",
         7869,
         16,
         "low",
         2017,
         2931,
         0.3333333333333333
        ],
        [
         "Loona",
         "Max & Match ",
         "2017-10-31",
         "KOR",
         11136,
         7,
         "low",
         2017,
         2891,
         0.4444444444444444
        ],
        [
         "Loona",
         "beauty&thebeat",
         "2018-05-30",
         "KOR",
         18138,
         4,
         "low",
         2018,
         2680,
         0.5555555555555556
        ],
        [
         "Loona",
         "[x x]",
         "2019-02-19",
         "KOR",
         45782,
         3,
         "low",
         2019,
         2415,
         0.6666666666666666
        ],
        [
         "Loona",
         "[ + +]",
         "2018-08-20",
         "KOR",
         61466,
         2,
         "moderate",
         2018,
         2598,
         0.7777777777777778
        ],
        [
         "Loona",
         "[#]",
         "2020-02-05",
         "KOR",
         83522,
         2,
         "moderate",
         2020,
         2064,
         0.8888888888888888
        ],
        [
         "Loona",
         "[12:00]",
         "2020-10-19",
         "KOR",
         116614,
         4,
         "high",
         2020,
         1807,
         1.0
        ],
        [
         "Stray Kids",
         "Mixtape",
         "2018-01-08",
         "JPN",
         1063,
         47,
         "low",
         2018,
         2822,
         0.1111111111111111
        ],
        [
         "Stray Kids",
         "I Am Who",
         "2018-08-06",
         "JPN",
         1474,
         34,
         "low",
         2018,
         2612,
         0.2222222222222222
        ],
        [
         "Stray Kids",
         "I Am Not",
         "2018-03-26",
         "JPN",
         2036,
         0,
         "low",
         2018,
         2745,
         0.3333333333333333
        ],
        [
         "Stray Kids",
         "I Am You",
         "2018-10-22",
         "JPN",
         2234,
         34,
         "low",
         2018,
         2535,
         0.4444444444444444
        ],
        [
         "Stray Kids",
         "Yellow Wood",
         "2019-06-19",
         "JPN",
         3379,
         17,
         "low",
         2019,
         2295,
         0.5555555555555556
        ],
        [
         "Stray Kids",
         "Miroh",
         "2019-03-25",
         "JPN",
         5856,
         15,
         "low",
         2019,
         2381,
         0.6666666666666666
        ],
        [
         "Stray Kids",
         "Levanter",
         "2019-12-09",
         "JPN",
         9116,
         17,
         "low",
         2019,
         2122,
         0.7777777777777778
        ],
        [
         "Stray Kids",
         "In Life",
         "2020-09-14",
         "JPN",
         39911,
         11,
         "low",
         2020,
         1842,
         0.8888888888888888
        ],
        [
         "Stray Kids",
         "All In",
         "2020-11-04",
         "JPN",
         59361,
         2,
         "moderate",
         2020,
         1791,
         1.0
        ],
        [
         "Stray Kids",
         "Mixtape",
         "2018-01-08",
         "KOR",
         118921,
         2,
         "high",
         2018,
         2822,
         0.125
        ],
        [
         "Stray Kids",
         "I Am Not",
         "2018-03-26",
         "KOR",
         159343,
         4,
         "high",
         2018,
         2745,
         0.25
        ],
        [
         "Stray Kids",
         "I Am Who",
         "2018-08-06",
         "KOR",
         185273,
         3,
         "high",
         2018,
         2612,
         0.375
        ],
        [
         "Stray Kids",
         "I Am You",
         "2018-10-22",
         "KOR",
         189129,
         2,
         "high",
         2018,
         2535,
         0.5
        ],
        [
         "Stray Kids",
         "Yellow Wood",
         "2019-06-19",
         "KOR",
         192796,
         2,
         "high",
         2019,
         2295,
         0.625
        ],
        [
         "Stray Kids",
         "Miroh",
         "2019-03-25",
         "KOR",
         226383,
         1,
         "high",
         2019,
         2381,
         0.75
        ],
        [
         "Stray Kids",
         "Levanter",
         "2019-12-09",
         "KOR",
         247074,
         1,
         "high",
         2019,
         2122,
         0.875
        ],
        [
         "Stray Kids",
         "In Life",
         "2020-09-14",
         "KOR",
         473616,
         1,
         "high",
         2020,
         1842,
         1.0
        ],
        [
         "TXT",
         "Magic",
         "2019-10-21",
         "JPN",
         14296,
         11,
         "low",
         2019,
         2171,
         0.2
        ],
        [
         "TXT",
         "Star",
         "2019-03-04",
         "JPN",
         26176,
         3,
         "low",
         2019,
         2402,
         0.4
        ],
        [
         "TXT",
         "Eternity",
         "2020-05-18",
         "JPN",
         38814,
         1,
         "low",
         2020,
         1961,
         0.6
        ],
        [
         "TXT",
         "Blue Hour",
         "2020-10-26",
         "JPN",
         43870,
         1,
         "low",
         2020,
         1800,
         0.8
        ],
        [
         "TXT",
         "Still Dreaming",
         "2021-01-20",
         "JPN",
         102041,
         1,
         "high",
         2021,
         1714,
         1.0
        ],
        [
         "TXT",
         "Star",
         "2019-03-04",
         "KOR",
         278846,
         1,
         "high",
         2019,
         2402,
         0.25
        ],
        [
         "TXT",
         "Magic",
         "2019-10-21",
         "KOR",
         300910,
         1,
         "high",
         2019,
         2171,
         0.5
        ],
        [
         "TXT",
         "Eternity",
         "2020-05-18",
         "KOR",
         379053,
         2,
         "high",
         2020,
         1961,
         0.75
        ],
        [
         "TXT",
         "Blue Hour",
         "2020-10-26",
         "KOR",
         508626,
         1,
         "very high",
         2020,
         1800,
         1.0
        ],
        [
         "Treasure",
         "Treasure Effect",
         "2021-01-11",
         "JPN",
         83755,
         1,
         "moderate",
         2021,
         1723,
         1.0
        ],
        [
         "Treasure",
         "Chapter Three",
         "2020-11-06",
         "KOR",
         232134,
         1,
         "high",
         2020,
         1789,
         0.25
        ],
        [
         "Treasure",
         "Chapter Two",
         "2020-09-18",
         "KOR",
         239326,
         2,
         "high",
         2020,
         1838,
         0.5
        ],
        [
         "Treasure",
         "Chapter One",
         "2020-08-07",
         "KOR",
         250000,
         1,
         "high",
         2020,
         1880,
         0.75
        ],
        [
         "Treasure",
         "Treasure Effect",
         "2021-01-11",
         "KOR",
         307457,
         1,
         "high",
         2021,
         1723,
         1.0
        ],
        [
         "Verivery",
         "Veri-Chill",
         "2019-07-31",
         "KOR",
         16698,
         10,
         "low",
         2019,
         2253,
         0.16666666666666666
        ],
        [
         "Verivery",
         "Veri-Able",
         "2019-04-24",
         "KOR",
         17630,
         6,
         "low",
         2019,
         2351,
         0.3333333333333333
        ],
        [
         "Verivery",
         "Face Me",
         "2020-01-07",
         "KOR",
         28440,
         4,
         "low",
         2020,
         2093,
         0.5
        ],
        [
         "Verivery",
         "Face You",
         "2020-07-01",
         "KOR",
         39626,
         8,
         "low",
         2020,
         1917,
         0.6666666666666666
        ],
        [
         "Verivery",
         "Series 'O' Round 1: Hall",
         "2021-03-02",
         "KOR",
         49999,
         4,
         "low",
         2021,
         1673,
         0.8333333333333334
        ],
        [
         "Verivery",
         "Face Us",
         "2020-10-13",
         "KOR",
         59704,
         7,
         "moderate",
         2020,
         1813,
         1.0
        ]
       ],
       "datasetInfos": [],
       "dbfsResultPath": null,
       "isJsonSchema": true,
       "metadata": {},
       "overflow": false,
       "plotOptions": {
        "customPlotOptions": {},
        "displayType": "table",
        "pivotAggregation": null,
        "pivotColumns": null,
        "xColumns": null,
        "yColumns": null
       },
       "removedWidgets": [],
       "schema": [
        {
         "metadata": "{}",
         "name": "Artist",
         "type": "\"string\""
        },
        {
         "metadata": "{}",
         "name": "title",
         "type": "\"string\""
        },
        {
         "metadata": "{\"__detected_date_formats\":\"M/d/yyyy\"}",
         "name": "date",
         "type": "\"date\""
        },
        {
         "metadata": "{}",
         "name": "country",
         "type": "\"string\""
        },
        {
         "metadata": "{}",
         "name": "sales",
         "type": "\"integer\""
        },
        {
         "metadata": "{}",
         "name": "peak_chart",
         "type": "\"integer\""
        },
        {
         "metadata": "{}",
         "name": "sales_success",
         "type": "\"string\""
        },
        {
         "metadata": "{}",
         "name": "release_year",
         "type": "\"integer\""
        },
        {
         "metadata": "{}",
         "name": "days_since_release",
         "type": "\"integer\""
        },
        {
         "metadata": "{}",
         "name": "cumulative_sales_dist",
         "type": "\"double\""
        }
       ],
       "type": "table"
      }
     },
     "output_type": "display_data"
    }
   ],
   "source": [
    "from pyspark.sql.functions import cume_dist\n",
    "from pyspark.sql.window import Window\n",
    "# i created a windowspec which i partioned by artist and country and ordered by sales\n",
    "windowSpec = Window.partitionBy('Artist', 'country').orderBy('sales')\n",
    "#i then used the window spec to calculate the cumulative distribution of the artists\n",
    "df=df.withColumn('cumulative_sales_dist', cume_dist().over(windowSpec))\n",
    "display(df)"
   ]
  },
  {
   "cell_type": "code",
   "execution_count": 0,
   "metadata": {
    "application/vnd.databricks.v1+cell": {
     "cellMetadata": {
      "byteLimit": 2048000,
      "rowLimit": 10000
     },
     "inputWidgets": {},
     "nuid": "1cb690ce-a1af-4f32-965d-d7ccc3952f06",
     "showTitle": false,
     "tableResultSettingsMap": {},
     "title": ""
    }
   },
   "outputs": [
    {
     "output_type": "display_data",
     "data": {
      "text/html": [
       "<style scoped>\n",
       "  .table-result-container {\n",
       "    max-height: 300px;\n",
       "    overflow: auto;\n",
       "  }\n",
       "  table, th, td {\n",
       "    border: 1px solid black;\n",
       "    border-collapse: collapse;\n",
       "  }\n",
       "  th, td {\n",
       "    padding: 5px;\n",
       "  }\n",
       "  th {\n",
       "    text-align: left;\n",
       "  }\n",
       "</style><div class='table-result-container'><table class='table-result'><thead style='background-color: white'><tr><th>Artist</th><th>title</th><th>date</th><th>country</th><th>sales</th><th>peak_chart</th><th>sales_success</th><th>release_year</th><th>days_since_release</th><th>cumulative_sales_dist</th><th>running_total_sales</th></tr></thead><tbody><tr><td>(G)I-dle</td><td>I Am</td><td>2018-05-02</td><td>KOR</td><td>51831</td><td>6</td><td>moderate</td><td>2018</td><td>2708</td><td>0.4</td><td>51831</td></tr><tr><td>(G)I-dle</td><td>I Made</td><td>2019-02-26</td><td>KOR</td><td>51041</td><td>2</td><td>moderate</td><td>2019</td><td>2408</td><td>0.2</td><td>102872</td></tr><tr><td>(G)I-dle</td><td>Latata</td><td>2019-07-29</td><td>JPN</td><td>8229</td><td>5</td><td>low</td><td>2019</td><td>2255</td><td>1.0</td><td>111101</td></tr><tr><td>(G)I-dle</td><td>I Trust</td><td>2020-04-06</td><td>JPN</td><td>1380</td><td>48</td><td>low</td><td>2020</td><td>2003</td><td>0.3333333333333333</td><td>112481</td></tr><tr><td>(G)I-dle</td><td>I Trust</td><td>2020-04-06</td><td>KOR</td><td>154499</td><td>1</td><td>high</td><td>2020</td><td>2003</td><td>0.8</td><td>266980</td></tr><tr><td>(G)I-dle</td><td>Dumdi Dumdi</td><td>2020-08-03</td><td>CHN</td><td>182749</td><td>0</td><td>high</td><td>2020</td><td>1884</td><td>1.0</td><td>449729</td></tr><tr><td>(G)I-dle</td><td>Dumdi Dumdi</td><td>2020-08-03</td><td>KOR</td><td>125801</td><td>2</td><td>high</td><td>2020</td><td>1884</td><td>0.6</td><td>575530</td></tr><tr><td>(G)I-dle</td><td>Oh My God</td><td>2020-08-26</td><td>JPN</td><td>4229</td><td>23</td><td>low</td><td>2020</td><td>1861</td><td>0.6666666666666666</td><td>579759</td></tr><tr><td>(G)I-dle</td><td>I Burn</td><td>2021-01-11</td><td>KOR</td><td>207927</td><td>3</td><td>high</td><td>2021</td><td>1723</td><td>1.0</td><td>787686</td></tr><tr><td>Ateez</td><td>Treasure EP.1: All to Zero</td><td>2018-10-24</td><td>KOR</td><td>85109</td><td>7</td><td>moderate</td><td>2018</td><td>2533</td><td>0.14285714285714285</td><td>85109</td></tr><tr><td>Ateez</td><td>Treasure EP.2: Zero to One</td><td>2019-01-15</td><td>KOR</td><td>100039</td><td>6</td><td>high</td><td>2019</td><td>2450</td><td>0.2857142857142857</td><td>185148</td></tr><tr><td>Ateez</td><td>Treasure EP.3: One to All</td><td>2019-06-10</td><td>JPN</td><td>2896</td><td>25</td><td>low</td><td>2019</td><td>2304</td><td>0.2857142857142857</td><td>188044</td></tr><tr><td>Ateez</td><td>Treasure EP.3: One to All</td><td>2019-06-10</td><td>KOR</td><td>180121</td><td>2</td><td>high</td><td>2019</td><td>2304</td><td>0.42857142857142855</td><td>368165</td></tr><tr><td>Ateez</td><td>Treasure EP.Fin: All to Action</td><td>2019-10-08</td><td>KOR</td><td>209316</td><td>1</td><td>high</td><td>2019</td><td>2184</td><td>0.7142857142857143</td><td>577481</td></tr><tr><td>Ateez</td><td>Treasure EP.Extra: Shift the Map</td><td>2019-12-04</td><td>JPN</td><td>13113</td><td>9</td><td>low</td><td>2019</td><td>2127</td><td>0.8571428571428571</td><td>590594</td></tr><tr><td>Ateez</td><td>Treasure Epilogue: Action to Answer</td><td>2020-01-06</td><td>JPN</td><td>1472</td><td>31</td><td>low</td><td>2020</td><td>2094</td><td>0.14285714285714285</td><td>592066</td></tr><tr><td>Ateez</td><td>Treasure Epilogue: Action to Answer</td><td>2020-01-06</td><td>KOR</td><td>184339</td><td>1</td><td>high</td><td>2020</td><td>2094</td><td>0.5714285714285714</td><td>776405</td></tr><tr><td>Ateez</td><td>Treasure EP. Map to Answer</td><td>2020-02-12</td><td>JPN</td><td>18720</td><td>3</td><td>low</td><td>2020</td><td>2057</td><td>1.0</td><td>795125</td></tr><tr><td>Ateez</td><td>Zero: Fever Part.1</td><td>2020-07-29</td><td>JPN</td><td>11324</td><td>35</td><td>low</td><td>2020</td><td>1889</td><td>0.7142857142857143</td><td>806449</td></tr><tr><td>Ateez</td><td>Zero: Fever Part.1</td><td>2020-07-29</td><td>KOR</td><td>379505</td><td>1</td><td>high</td><td>2020</td><td>1889</td><td>0.8571428571428571</td><td>1185954</td></tr><tr><td>Ateez</td><td>Zero: Fever Part.2</td><td>2021-03-01</td><td>JPN</td><td>11027</td><td>10</td><td>low</td><td>2021</td><td>1674</td><td>0.5714285714285714</td><td>1196981</td></tr><tr><td>Ateez</td><td>Zero: Fever Part.2</td><td>2021-03-01</td><td>KOR</td><td>380711</td><td>1</td><td>high</td><td>2021</td><td>1674</td><td>1.0</td><td>1577692</td></tr><tr><td>Ateez</td><td>Into the A to Z</td><td>2021-03-24</td><td>JPN</td><td>10813</td><td>6</td><td>low</td><td>2021</td><td>1651</td><td>0.42857142857142855</td><td>1588505</td></tr><tr><td>Cravity</td><td>Season 1. Hideout: Remember Who We Are</td><td>2020-04-14</td><td>JPN</td><td>7304</td><td>10</td><td>low</td><td>2020</td><td>1995</td><td>1.0</td><td>7304</td></tr><tr><td>Cravity</td><td>Season 1. Hideout: Remember Who We Are</td><td>2020-04-14</td><td>KOR</td><td>154360</td><td>1</td><td>high</td><td>2020</td><td>1995</td><td>1.0</td><td>161664</td></tr><tr><td>Everglow</td><td>Arrival of Everglow</td><td>2019-03-18</td><td>KOR</td><td>28033</td><td>6</td><td>low</td><td>2019</td><td>2388</td><td>0.25</td><td>28033</td></tr><tr><td>Everglow</td><td>Hush</td><td>2019-08-19</td><td>KOR</td><td>28639</td><td>5</td><td>low</td><td>2019</td><td>2234</td><td>0.5</td><td>56672</td></tr><tr><td>Everglow</td><td>Reminiscence</td><td>2020-02-03</td><td>JPN</td><td>1649</td><td>48</td><td>low</td><td>2020</td><td>2066</td><td>1.0</td><td>58321</td></tr><tr><td>Everglow</td><td>Reminiscence</td><td>2020-02-03</td><td>KOR</td><td>30912</td><td>4</td><td>low</td><td>2020</td><td>2066</td><td>0.75</td><td>89233</td></tr><tr><td>Everglow</td><td>-77.82X-78.29</td><td>2020-09-21</td><td>KOR</td><td>49388</td><td>4</td><td>low</td><td>2020</td><td>1835</td><td>1.0</td><td>138621</td></tr><tr><td>ITZY</td><td>It'z Icy</td><td>2019-05-29</td><td>JPN</td><td>15742</td><td>12</td><td>low</td><td>2019</td><td>2316</td><td>1.0</td><td>15742</td></tr><tr><td>ITZY</td><td>It'z Icy</td><td>2019-05-29</td><td>KOR</td><td>149349</td><td>3</td><td>high</td><td>2019</td><td>2316</td><td>0.3333333333333333</td><td>165091</td></tr><tr><td>ITZY</td><td>It'z Me</td><td>2020-03-09</td><td>JPN</td><td>10882</td><td>13</td><td>low</td><td>2020</td><td>2031</td><td>0.3333333333333333</td><td>175973</td></tr><tr><td>ITZY</td><td>It'z Me</td><td>2020-03-09</td><td>KOR</td><td>150851</td><td>1</td><td>high</td><td>2020</td><td>2031</td><td>0.6666666666666666</td><td>326824</td></tr><tr><td>ITZY</td><td>Not Shy</td><td>2020-08-17</td><td>JPN</td><td>14201</td><td>8</td><td>low</td><td>2020</td><td>1870</td><td>0.6666666666666666</td><td>341025</td></tr><tr><td>ITZY</td><td>Not Shy</td><td>2020-08-17</td><td>KOR</td><td>219048</td><td>1</td><td>high</td><td>2020</td><td>1870</td><td>1.0</td><td>560073</td></tr><tr><td>IZONE</td><td>Color*Iz</td><td>2018-10-29</td><td>JPN</td><td>null</td><td>1</td><td>very high</td><td>2018</td><td>2528</td><td>0.2</td><td>null</td></tr><tr><td>IZONE</td><td>Color*Iz</td><td>2018-10-29</td><td>KOR</td><td>282816</td><td>2</td><td>high</td><td>2018</td><td>2528</td><td>0.2</td><td>282816</td></tr><tr><td>IZONE</td><td>Bloom*iz</td><td>2020-02-17</td><td>JPN</td><td>23960</td><td>3</td><td>low</td><td>2020</td><td>2052</td><td>0.6</td><td>306776</td></tr><tr><td>IZONE</td><td>Bloom*iz</td><td>2020-02-17</td><td>KOR</td><td>492504</td><td>2</td><td>high</td><td>2020</td><td>2052</td><td>0.8</td><td>799280</td></tr><tr><td>IZONE</td><td>Heart*Iz</td><td>2020-04-01</td><td>JPN</td><td>40065</td><td>4</td><td>low</td><td>2020</td><td>2008</td><td>0.8</td><td>839345</td></tr><tr><td>IZONE</td><td>Heart*Iz</td><td>2020-04-01</td><td>KOR</td><td>306812</td><td>1</td><td>high</td><td>2020</td><td>2008</td><td>0.4</td><td>1146157</td></tr><tr><td>IZONE</td><td>Oneiric Diary</td><td>2020-06-15</td><td>JPN</td><td>19928</td><td>8</td><td>low</td><td>2020</td><td>1933</td><td>0.4</td><td>1166085</td></tr><tr><td>IZONE</td><td>Oneiric Diary</td><td>2020-06-15</td><td>KOR</td><td>559138</td><td>2</td><td>very high</td><td>2020</td><td>1933</td><td>1.0</td><td>1725223</td></tr><tr><td>IZONE</td><td>TWELVE</td><td>2020-10-21</td><td>JPN</td><td>135113</td><td>1</td><td>high</td><td>2020</td><td>1805</td><td>1.0</td><td>1860336</td></tr><tr><td>IZONE</td><td>One-reeler/Act IV</td><td>2020-12-07</td><td>KOR</td><td>447749</td><td>1</td><td>high</td><td>2020</td><td>1758</td><td>0.6</td><td>2308085</td></tr><tr><td>Loona</td><td>Love & Live</td><td>2017-03-13</td><td>KOR</td><td>7130</td><td>10</td><td>low</td><td>2017</td><td>3123</td><td>0.2222222222222222</td><td>7130</td></tr><tr><td>Loona</td><td>Love & Evil</td><td>2017-04-27</td><td>KOR</td><td>5924</td><td>24</td><td>low</td><td>2017</td><td>3078</td><td>0.1111111111111111</td><td>13054</td></tr><tr><td>Loona</td><td>Mix & Match</td><td>2017-09-21</td><td>KOR</td><td>7869</td><td>16</td><td>low</td><td>2017</td><td>2931</td><td>0.3333333333333333</td><td>20923</td></tr><tr><td>Loona</td><td>Max & Match </td><td>2017-10-31</td><td>KOR</td><td>11136</td><td>7</td><td>low</td><td>2017</td><td>2891</td><td>0.4444444444444444</td><td>32059</td></tr><tr><td>Loona</td><td>beauty&thebeat</td><td>2018-05-30</td><td>KOR</td><td>18138</td><td>4</td><td>low</td><td>2018</td><td>2680</td><td>0.5555555555555556</td><td>50197</td></tr><tr><td>Loona</td><td>[ + +]</td><td>2018-08-20</td><td>KOR</td><td>61466</td><td>2</td><td>moderate</td><td>2018</td><td>2598</td><td>0.7777777777777778</td><td>111663</td></tr><tr><td>Loona</td><td>[x x]</td><td>2019-02-19</td><td>KOR</td><td>45782</td><td>3</td><td>low</td><td>2019</td><td>2415</td><td>0.6666666666666666</td><td>157445</td></tr><tr><td>Loona</td><td>[#]</td><td>2020-02-05</td><td>KOR</td><td>83522</td><td>2</td><td>moderate</td><td>2020</td><td>2064</td><td>0.8888888888888888</td><td>240967</td></tr><tr><td>Loona</td><td>[12:00]</td><td>2020-10-19</td><td>KOR</td><td>116614</td><td>4</td><td>high</td><td>2020</td><td>1807</td><td>1.0</td><td>357581</td></tr><tr><td>Stray Kids</td><td>Mixtape</td><td>2018-01-08</td><td>JPN</td><td>1063</td><td>47</td><td>low</td><td>2018</td><td>2822</td><td>0.1111111111111111</td><td>1063</td></tr><tr><td>Stray Kids</td><td>Mixtape</td><td>2018-01-08</td><td>KOR</td><td>118921</td><td>2</td><td>high</td><td>2018</td><td>2822</td><td>0.125</td><td>119984</td></tr><tr><td>Stray Kids</td><td>I Am Not</td><td>2018-03-26</td><td>JPN</td><td>2036</td><td>0</td><td>low</td><td>2018</td><td>2745</td><td>0.3333333333333333</td><td>122020</td></tr><tr><td>Stray Kids</td><td>I Am Not</td><td>2018-03-26</td><td>KOR</td><td>159343</td><td>4</td><td>high</td><td>2018</td><td>2745</td><td>0.25</td><td>281363</td></tr><tr><td>Stray Kids</td><td>I Am Who</td><td>2018-08-06</td><td>JPN</td><td>1474</td><td>34</td><td>low</td><td>2018</td><td>2612</td><td>0.2222222222222222</td><td>282837</td></tr><tr><td>Stray Kids</td><td>I Am Who</td><td>2018-08-06</td><td>KOR</td><td>185273</td><td>3</td><td>high</td><td>2018</td><td>2612</td><td>0.375</td><td>468110</td></tr><tr><td>Stray Kids</td><td>I Am You</td><td>2018-10-22</td><td>JPN</td><td>2234</td><td>34</td><td>low</td><td>2018</td><td>2535</td><td>0.4444444444444444</td><td>470344</td></tr><tr><td>Stray Kids</td><td>I Am You</td><td>2018-10-22</td><td>KOR</td><td>189129</td><td>2</td><td>high</td><td>2018</td><td>2535</td><td>0.5</td><td>659473</td></tr><tr><td>Stray Kids</td><td>Miroh</td><td>2019-03-25</td><td>JPN</td><td>5856</td><td>15</td><td>low</td><td>2019</td><td>2381</td><td>0.6666666666666666</td><td>665329</td></tr><tr><td>Stray Kids</td><td>Miroh</td><td>2019-03-25</td><td>KOR</td><td>226383</td><td>1</td><td>high</td><td>2019</td><td>2381</td><td>0.75</td><td>891712</td></tr><tr><td>Stray Kids</td><td>Yellow Wood</td><td>2019-06-19</td><td>JPN</td><td>3379</td><td>17</td><td>low</td><td>2019</td><td>2295</td><td>0.5555555555555556</td><td>895091</td></tr><tr><td>Stray Kids</td><td>Yellow Wood</td><td>2019-06-19</td><td>KOR</td><td>192796</td><td>2</td><td>high</td><td>2019</td><td>2295</td><td>0.625</td><td>1087887</td></tr><tr><td>Stray Kids</td><td>Levanter</td><td>2019-12-09</td><td>JPN</td><td>9116</td><td>17</td><td>low</td><td>2019</td><td>2122</td><td>0.7777777777777778</td><td>1097003</td></tr><tr><td>Stray Kids</td><td>Levanter</td><td>2019-12-09</td><td>KOR</td><td>247074</td><td>1</td><td>high</td><td>2019</td><td>2122</td><td>0.875</td><td>1344077</td></tr><tr><td>Stray Kids</td><td>In Life</td><td>2020-09-14</td><td>JPN</td><td>39911</td><td>11</td><td>low</td><td>2020</td><td>1842</td><td>0.8888888888888888</td><td>1383988</td></tr><tr><td>Stray Kids</td><td>In Life</td><td>2020-09-14</td><td>KOR</td><td>473616</td><td>1</td><td>high</td><td>2020</td><td>1842</td><td>1.0</td><td>1857604</td></tr><tr><td>Stray Kids</td><td>All In</td><td>2020-11-04</td><td>JPN</td><td>59361</td><td>2</td><td>moderate</td><td>2020</td><td>1791</td><td>1.0</td><td>1916965</td></tr><tr><td>TXT</td><td>Star</td><td>2019-03-04</td><td>JPN</td><td>26176</td><td>3</td><td>low</td><td>2019</td><td>2402</td><td>0.4</td><td>26176</td></tr><tr><td>TXT</td><td>Star</td><td>2019-03-04</td><td>KOR</td><td>278846</td><td>1</td><td>high</td><td>2019</td><td>2402</td><td>0.25</td><td>305022</td></tr><tr><td>TXT</td><td>Magic</td><td>2019-10-21</td><td>JPN</td><td>14296</td><td>11</td><td>low</td><td>2019</td><td>2171</td><td>0.2</td><td>319318</td></tr><tr><td>TXT</td><td>Magic</td><td>2019-10-21</td><td>KOR</td><td>300910</td><td>1</td><td>high</td><td>2019</td><td>2171</td><td>0.5</td><td>620228</td></tr><tr><td>TXT</td><td>Eternity</td><td>2020-05-18</td><td>JPN</td><td>38814</td><td>1</td><td>low</td><td>2020</td><td>1961</td><td>0.6</td><td>659042</td></tr><tr><td>TXT</td><td>Eternity</td><td>2020-05-18</td><td>KOR</td><td>379053</td><td>2</td><td>high</td><td>2020</td><td>1961</td><td>0.75</td><td>1038095</td></tr><tr><td>TXT</td><td>Blue Hour</td><td>2020-10-26</td><td>JPN</td><td>43870</td><td>1</td><td>low</td><td>2020</td><td>1800</td><td>0.8</td><td>1081965</td></tr><tr><td>TXT</td><td>Blue Hour</td><td>2020-10-26</td><td>KOR</td><td>508626</td><td>1</td><td>very high</td><td>2020</td><td>1800</td><td>1.0</td><td>1590591</td></tr><tr><td>TXT</td><td>Still Dreaming</td><td>2021-01-20</td><td>JPN</td><td>102041</td><td>1</td><td>high</td><td>2021</td><td>1714</td><td>1.0</td><td>1692632</td></tr><tr><td>Treasure</td><td>Chapter One</td><td>2020-08-07</td><td>KOR</td><td>250000</td><td>1</td><td>high</td><td>2020</td><td>1880</td><td>0.75</td><td>250000</td></tr><tr><td>Treasure</td><td>Chapter Two</td><td>2020-09-18</td><td>KOR</td><td>239326</td><td>2</td><td>high</td><td>2020</td><td>1838</td><td>0.5</td><td>489326</td></tr><tr><td>Treasure</td><td>Chapter Three</td><td>2020-11-06</td><td>KOR</td><td>232134</td><td>1</td><td>high</td><td>2020</td><td>1789</td><td>0.25</td><td>721460</td></tr><tr><td>Treasure</td><td>Treasure Effect</td><td>2021-01-11</td><td>JPN</td><td>83755</td><td>1</td><td>moderate</td><td>2021</td><td>1723</td><td>1.0</td><td>805215</td></tr><tr><td>Treasure</td><td>Treasure Effect</td><td>2021-01-11</td><td>KOR</td><td>307457</td><td>1</td><td>high</td><td>2021</td><td>1723</td><td>1.0</td><td>1112672</td></tr><tr><td>Verivery</td><td>Veri-Able</td><td>2019-04-24</td><td>KOR</td><td>17630</td><td>6</td><td>low</td><td>2019</td><td>2351</td><td>0.3333333333333333</td><td>17630</td></tr><tr><td>Verivery</td><td>Veri-Chill</td><td>2019-07-31</td><td>KOR</td><td>16698</td><td>10</td><td>low</td><td>2019</td><td>2253</td><td>0.16666666666666666</td><td>34328</td></tr><tr><td>Verivery</td><td>Face Me</td><td>2020-01-07</td><td>KOR</td><td>28440</td><td>4</td><td>low</td><td>2020</td><td>2093</td><td>0.5</td><td>62768</td></tr><tr><td>Verivery</td><td>Face You</td><td>2020-07-01</td><td>KOR</td><td>39626</td><td>8</td><td>low</td><td>2020</td><td>1917</td><td>0.6666666666666666</td><td>102394</td></tr><tr><td>Verivery</td><td>Face Us</td><td>2020-10-13</td><td>KOR</td><td>59704</td><td>7</td><td>moderate</td><td>2020</td><td>1813</td><td>1.0</td><td>162098</td></tr><tr><td>Verivery</td><td>Series 'O' Round 1: Hall</td><td>2021-03-02</td><td>KOR</td><td>49999</td><td>4</td><td>low</td><td>2021</td><td>1673</td><td>0.8333333333333334</td><td>212097</td></tr></tbody></table></div>"
      ]
     },
     "metadata": {
      "application/vnd.databricks.v1+output": {
       "addedWidgets": {},
       "aggData": [],
       "aggError": "",
       "aggOverflow": false,
       "aggSchema": [],
       "aggSeriesLimitReached": false,
       "aggType": "",
       "arguments": {},
       "columnCustomDisplayInfos": {},
       "data": [
        [
         "(G)I-dle",
         "I Am",
         "2018-05-02",
         "KOR",
         51831,
         6,
         "moderate",
         2018,
         2708,
         0.4,
         51831
        ],
        [
         "(G)I-dle",
         "I Made",
         "2019-02-26",
         "KOR",
         51041,
         2,
         "moderate",
         2019,
         2408,
         0.2,
         102872
        ],
        [
         "(G)I-dle",
         "Latata",
         "2019-07-29",
         "JPN",
         8229,
         5,
         "low",
         2019,
         2255,
         1.0,
         111101
        ],
        [
         "(G)I-dle",
         "I Trust",
         "2020-04-06",
         "JPN",
         1380,
         48,
         "low",
         2020,
         2003,
         0.3333333333333333,
         112481
        ],
        [
         "(G)I-dle",
         "I Trust",
         "2020-04-06",
         "KOR",
         154499,
         1,
         "high",
         2020,
         2003,
         0.8,
         266980
        ],
        [
         "(G)I-dle",
         "Dumdi Dumdi",
         "2020-08-03",
         "CHN",
         182749,
         0,
         "high",
         2020,
         1884,
         1.0,
         449729
        ],
        [
         "(G)I-dle",
         "Dumdi Dumdi",
         "2020-08-03",
         "KOR",
         125801,
         2,
         "high",
         2020,
         1884,
         0.6,
         575530
        ],
        [
         "(G)I-dle",
         "Oh My God",
         "2020-08-26",
         "JPN",
         4229,
         23,
         "low",
         2020,
         1861,
         0.6666666666666666,
         579759
        ],
        [
         "(G)I-dle",
         "I Burn",
         "2021-01-11",
         "KOR",
         207927,
         3,
         "high",
         2021,
         1723,
         1.0,
         787686
        ],
        [
         "Ateez",
         "Treasure EP.1: All to Zero",
         "2018-10-24",
         "KOR",
         85109,
         7,
         "moderate",
         2018,
         2533,
         0.14285714285714285,
         85109
        ],
        [
         "Ateez",
         "Treasure EP.2: Zero to One",
         "2019-01-15",
         "KOR",
         100039,
         6,
         "high",
         2019,
         2450,
         0.2857142857142857,
         185148
        ],
        [
         "Ateez",
         "Treasure EP.3: One to All",
         "2019-06-10",
         "JPN",
         2896,
         25,
         "low",
         2019,
         2304,
         0.2857142857142857,
         188044
        ],
        [
         "Ateez",
         "Treasure EP.3: One to All",
         "2019-06-10",
         "KOR",
         180121,
         2,
         "high",
         2019,
         2304,
         0.42857142857142855,
         368165
        ],
        [
         "Ateez",
         "Treasure EP.Fin: All to Action",
         "2019-10-08",
         "KOR",
         209316,
         1,
         "high",
         2019,
         2184,
         0.7142857142857143,
         577481
        ],
        [
         "Ateez",
         "Treasure EP.Extra: Shift the Map",
         "2019-12-04",
         "JPN",
         13113,
         9,
         "low",
         2019,
         2127,
         0.8571428571428571,
         590594
        ],
        [
         "Ateez",
         "Treasure Epilogue: Action to Answer",
         "2020-01-06",
         "JPN",
         1472,
         31,
         "low",
         2020,
         2094,
         0.14285714285714285,
         592066
        ],
        [
         "Ateez",
         "Treasure Epilogue: Action to Answer",
         "2020-01-06",
         "KOR",
         184339,
         1,
         "high",
         2020,
         2094,
         0.5714285714285714,
         776405
        ],
        [
         "Ateez",
         "Treasure EP. Map to Answer",
         "2020-02-12",
         "JPN",
         18720,
         3,
         "low",
         2020,
         2057,
         1.0,
         795125
        ],
        [
         "Ateez",
         "Zero: Fever Part.1",
         "2020-07-29",
         "JPN",
         11324,
         35,
         "low",
         2020,
         1889,
         0.7142857142857143,
         806449
        ],
        [
         "Ateez",
         "Zero: Fever Part.1",
         "2020-07-29",
         "KOR",
         379505,
         1,
         "high",
         2020,
         1889,
         0.8571428571428571,
         1185954
        ],
        [
         "Ateez",
         "Zero: Fever Part.2",
         "2021-03-01",
         "JPN",
         11027,
         10,
         "low",
         2021,
         1674,
         0.5714285714285714,
         1196981
        ],
        [
         "Ateez",
         "Zero: Fever Part.2",
         "2021-03-01",
         "KOR",
         380711,
         1,
         "high",
         2021,
         1674,
         1.0,
         1577692
        ],
        [
         "Ateez",
         "Into the A to Z",
         "2021-03-24",
         "JPN",
         10813,
         6,
         "low",
         2021,
         1651,
         0.42857142857142855,
         1588505
        ],
        [
         "Cravity",
         "Season 1. Hideout: Remember Who We Are",
         "2020-04-14",
         "JPN",
         7304,
         10,
         "low",
         2020,
         1995,
         1.0,
         7304
        ],
        [
         "Cravity",
         "Season 1. Hideout: Remember Who We Are",
         "2020-04-14",
         "KOR",
         154360,
         1,
         "high",
         2020,
         1995,
         1.0,
         161664
        ],
        [
         "Everglow",
         "Arrival of Everglow",
         "2019-03-18",
         "KOR",
         28033,
         6,
         "low",
         2019,
         2388,
         0.25,
         28033
        ],
        [
         "Everglow",
         "Hush",
         "2019-08-19",
         "KOR",
         28639,
         5,
         "low",
         2019,
         2234,
         0.5,
         56672
        ],
        [
         "Everglow",
         "Reminiscence",
         "2020-02-03",
         "JPN",
         1649,
         48,
         "low",
         2020,
         2066,
         1.0,
         58321
        ],
        [
         "Everglow",
         "Reminiscence",
         "2020-02-03",
         "KOR",
         30912,
         4,
         "low",
         2020,
         2066,
         0.75,
         89233
        ],
        [
         "Everglow",
         "-77.82X-78.29",
         "2020-09-21",
         "KOR",
         49388,
         4,
         "low",
         2020,
         1835,
         1.0,
         138621
        ],
        [
         "ITZY",
         "It'z Icy",
         "2019-05-29",
         "JPN",
         15742,
         12,
         "low",
         2019,
         2316,
         1.0,
         15742
        ],
        [
         "ITZY",
         "It'z Icy",
         "2019-05-29",
         "KOR",
         149349,
         3,
         "high",
         2019,
         2316,
         0.3333333333333333,
         165091
        ],
        [
         "ITZY",
         "It'z Me",
         "2020-03-09",
         "JPN",
         10882,
         13,
         "low",
         2020,
         2031,
         0.3333333333333333,
         175973
        ],
        [
         "ITZY",
         "It'z Me",
         "2020-03-09",
         "KOR",
         150851,
         1,
         "high",
         2020,
         2031,
         0.6666666666666666,
         326824
        ],
        [
         "ITZY",
         "Not Shy",
         "2020-08-17",
         "JPN",
         14201,
         8,
         "low",
         2020,
         1870,
         0.6666666666666666,
         341025
        ],
        [
         "ITZY",
         "Not Shy",
         "2020-08-17",
         "KOR",
         219048,
         1,
         "high",
         2020,
         1870,
         1.0,
         560073
        ],
        [
         "IZONE",
         "Color*Iz",
         "2018-10-29",
         "JPN",
         null,
         1,
         "very high",
         2018,
         2528,
         0.2,
         null
        ],
        [
         "IZONE",
         "Color*Iz",
         "2018-10-29",
         "KOR",
         282816,
         2,
         "high",
         2018,
         2528,
         0.2,
         282816
        ],
        [
         "IZONE",
         "Bloom*iz",
         "2020-02-17",
         "JPN",
         23960,
         3,
         "low",
         2020,
         2052,
         0.6,
         306776
        ],
        [
         "IZONE",
         "Bloom*iz",
         "2020-02-17",
         "KOR",
         492504,
         2,
         "high",
         2020,
         2052,
         0.8,
         799280
        ],
        [
         "IZONE",
         "Heart*Iz",
         "2020-04-01",
         "JPN",
         40065,
         4,
         "low",
         2020,
         2008,
         0.8,
         839345
        ],
        [
         "IZONE",
         "Heart*Iz",
         "2020-04-01",
         "KOR",
         306812,
         1,
         "high",
         2020,
         2008,
         0.4,
         1146157
        ],
        [
         "IZONE",
         "Oneiric Diary",
         "2020-06-15",
         "JPN",
         19928,
         8,
         "low",
         2020,
         1933,
         0.4,
         1166085
        ],
        [
         "IZONE",
         "Oneiric Diary",
         "2020-06-15",
         "KOR",
         559138,
         2,
         "very high",
         2020,
         1933,
         1.0,
         1725223
        ],
        [
         "IZONE",
         "TWELVE",
         "2020-10-21",
         "JPN",
         135113,
         1,
         "high",
         2020,
         1805,
         1.0,
         1860336
        ],
        [
         "IZONE",
         "One-reeler/Act IV",
         "2020-12-07",
         "KOR",
         447749,
         1,
         "high",
         2020,
         1758,
         0.6,
         2308085
        ],
        [
         "Loona",
         "Love & Live",
         "2017-03-13",
         "KOR",
         7130,
         10,
         "low",
         2017,
         3123,
         0.2222222222222222,
         7130
        ],
        [
         "Loona",
         "Love & Evil",
         "2017-04-27",
         "KOR",
         5924,
         24,
         "low",
         2017,
         3078,
         0.1111111111111111,
         13054
        ],
        [
         "Loona",
         "Mix & Match",
         "2017-09-21",
         "KOR",
         7869,
         16,
         "low",
         2017,
         2931,
         0.3333333333333333,
         20923
        ],
        [
         "Loona",
         "Max & Match ",
         "2017-10-31",
         "KOR",
         11136,
         7,
         "low",
         2017,
         2891,
         0.4444444444444444,
         32059
        ],
        [
         "Loona",
         "beauty&thebeat",
         "2018-05-30",
         "KOR",
         18138,
         4,
         "low",
         2018,
         2680,
         0.5555555555555556,
         50197
        ],
        [
         "Loona",
         "[ + +]",
         "2018-08-20",
         "KOR",
         61466,
         2,
         "moderate",
         2018,
         2598,
         0.7777777777777778,
         111663
        ],
        [
         "Loona",
         "[x x]",
         "2019-02-19",
         "KOR",
         45782,
         3,
         "low",
         2019,
         2415,
         0.6666666666666666,
         157445
        ],
        [
         "Loona",
         "[#]",
         "2020-02-05",
         "KOR",
         83522,
         2,
         "moderate",
         2020,
         2064,
         0.8888888888888888,
         240967
        ],
        [
         "Loona",
         "[12:00]",
         "2020-10-19",
         "KOR",
         116614,
         4,
         "high",
         2020,
         1807,
         1.0,
         357581
        ],
        [
         "Stray Kids",
         "Mixtape",
         "2018-01-08",
         "JPN",
         1063,
         47,
         "low",
         2018,
         2822,
         0.1111111111111111,
         1063
        ],
        [
         "Stray Kids",
         "Mixtape",
         "2018-01-08",
         "KOR",
         118921,
         2,
         "high",
         2018,
         2822,
         0.125,
         119984
        ],
        [
         "Stray Kids",
         "I Am Not",
         "2018-03-26",
         "JPN",
         2036,
         0,
         "low",
         2018,
         2745,
         0.3333333333333333,
         122020
        ],
        [
         "Stray Kids",
         "I Am Not",
         "2018-03-26",
         "KOR",
         159343,
         4,
         "high",
         2018,
         2745,
         0.25,
         281363
        ],
        [
         "Stray Kids",
         "I Am Who",
         "2018-08-06",
         "JPN",
         1474,
         34,
         "low",
         2018,
         2612,
         0.2222222222222222,
         282837
        ],
        [
         "Stray Kids",
         "I Am Who",
         "2018-08-06",
         "KOR",
         185273,
         3,
         "high",
         2018,
         2612,
         0.375,
         468110
        ],
        [
         "Stray Kids",
         "I Am You",
         "2018-10-22",
         "JPN",
         2234,
         34,
         "low",
         2018,
         2535,
         0.4444444444444444,
         470344
        ],
        [
         "Stray Kids",
         "I Am You",
         "2018-10-22",
         "KOR",
         189129,
         2,
         "high",
         2018,
         2535,
         0.5,
         659473
        ],
        [
         "Stray Kids",
         "Miroh",
         "2019-03-25",
         "JPN",
         5856,
         15,
         "low",
         2019,
         2381,
         0.6666666666666666,
         665329
        ],
        [
         "Stray Kids",
         "Miroh",
         "2019-03-25",
         "KOR",
         226383,
         1,
         "high",
         2019,
         2381,
         0.75,
         891712
        ],
        [
         "Stray Kids",
         "Yellow Wood",
         "2019-06-19",
         "JPN",
         3379,
         17,
         "low",
         2019,
         2295,
         0.5555555555555556,
         895091
        ],
        [
         "Stray Kids",
         "Yellow Wood",
         "2019-06-19",
         "KOR",
         192796,
         2,
         "high",
         2019,
         2295,
         0.625,
         1087887
        ],
        [
         "Stray Kids",
         "Levanter",
         "2019-12-09",
         "JPN",
         9116,
         17,
         "low",
         2019,
         2122,
         0.7777777777777778,
         1097003
        ],
        [
         "Stray Kids",
         "Levanter",
         "2019-12-09",
         "KOR",
         247074,
         1,
         "high",
         2019,
         2122,
         0.875,
         1344077
        ],
        [
         "Stray Kids",
         "In Life",
         "2020-09-14",
         "JPN",
         39911,
         11,
         "low",
         2020,
         1842,
         0.8888888888888888,
         1383988
        ],
        [
         "Stray Kids",
         "In Life",
         "2020-09-14",
         "KOR",
         473616,
         1,
         "high",
         2020,
         1842,
         1.0,
         1857604
        ],
        [
         "Stray Kids",
         "All In",
         "2020-11-04",
         "JPN",
         59361,
         2,
         "moderate",
         2020,
         1791,
         1.0,
         1916965
        ],
        [
         "TXT",
         "Star",
         "2019-03-04",
         "JPN",
         26176,
         3,
         "low",
         2019,
         2402,
         0.4,
         26176
        ],
        [
         "TXT",
         "Star",
         "2019-03-04",
         "KOR",
         278846,
         1,
         "high",
         2019,
         2402,
         0.25,
         305022
        ],
        [
         "TXT",
         "Magic",
         "2019-10-21",
         "JPN",
         14296,
         11,
         "low",
         2019,
         2171,
         0.2,
         319318
        ],
        [
         "TXT",
         "Magic",
         "2019-10-21",
         "KOR",
         300910,
         1,
         "high",
         2019,
         2171,
         0.5,
         620228
        ],
        [
         "TXT",
         "Eternity",
         "2020-05-18",
         "JPN",
         38814,
         1,
         "low",
         2020,
         1961,
         0.6,
         659042
        ],
        [
         "TXT",
         "Eternity",
         "2020-05-18",
         "KOR",
         379053,
         2,
         "high",
         2020,
         1961,
         0.75,
         1038095
        ],
        [
         "TXT",
         "Blue Hour",
         "2020-10-26",
         "JPN",
         43870,
         1,
         "low",
         2020,
         1800,
         0.8,
         1081965
        ],
        [
         "TXT",
         "Blue Hour",
         "2020-10-26",
         "KOR",
         508626,
         1,
         "very high",
         2020,
         1800,
         1.0,
         1590591
        ],
        [
         "TXT",
         "Still Dreaming",
         "2021-01-20",
         "JPN",
         102041,
         1,
         "high",
         2021,
         1714,
         1.0,
         1692632
        ],
        [
         "Treasure",
         "Chapter One",
         "2020-08-07",
         "KOR",
         250000,
         1,
         "high",
         2020,
         1880,
         0.75,
         250000
        ],
        [
         "Treasure",
         "Chapter Two",
         "2020-09-18",
         "KOR",
         239326,
         2,
         "high",
         2020,
         1838,
         0.5,
         489326
        ],
        [
         "Treasure",
         "Chapter Three",
         "2020-11-06",
         "KOR",
         232134,
         1,
         "high",
         2020,
         1789,
         0.25,
         721460
        ],
        [
         "Treasure",
         "Treasure Effect",
         "2021-01-11",
         "JPN",
         83755,
         1,
         "moderate",
         2021,
         1723,
         1.0,
         805215
        ],
        [
         "Treasure",
         "Treasure Effect",
         "2021-01-11",
         "KOR",
         307457,
         1,
         "high",
         2021,
         1723,
         1.0,
         1112672
        ],
        [
         "Verivery",
         "Veri-Able",
         "2019-04-24",
         "KOR",
         17630,
         6,
         "low",
         2019,
         2351,
         0.3333333333333333,
         17630
        ],
        [
         "Verivery",
         "Veri-Chill",
         "2019-07-31",
         "KOR",
         16698,
         10,
         "low",
         2019,
         2253,
         0.16666666666666666,
         34328
        ],
        [
         "Verivery",
         "Face Me",
         "2020-01-07",
         "KOR",
         28440,
         4,
         "low",
         2020,
         2093,
         0.5,
         62768
        ],
        [
         "Verivery",
         "Face You",
         "2020-07-01",
         "KOR",
         39626,
         8,
         "low",
         2020,
         1917,
         0.6666666666666666,
         102394
        ],
        [
         "Verivery",
         "Face Us",
         "2020-10-13",
         "KOR",
         59704,
         7,
         "moderate",
         2020,
         1813,
         1.0,
         162098
        ],
        [
         "Verivery",
         "Series 'O' Round 1: Hall",
         "2021-03-02",
         "KOR",
         49999,
         4,
         "low",
         2021,
         1673,
         0.8333333333333334,
         212097
        ]
       ],
       "datasetInfos": [],
       "dbfsResultPath": null,
       "isJsonSchema": true,
       "metadata": {},
       "overflow": false,
       "plotOptions": {
        "customPlotOptions": {},
        "displayType": "table",
        "pivotAggregation": null,
        "pivotColumns": null,
        "xColumns": null,
        "yColumns": null
       },
       "removedWidgets": [],
       "schema": [
        {
         "metadata": "{}",
         "name": "Artist",
         "type": "\"string\""
        },
        {
         "metadata": "{}",
         "name": "title",
         "type": "\"string\""
        },
        {
         "metadata": "{\"__detected_date_formats\":\"M/d/yyyy\"}",
         "name": "date",
         "type": "\"date\""
        },
        {
         "metadata": "{}",
         "name": "country",
         "type": "\"string\""
        },
        {
         "metadata": "{}",
         "name": "sales",
         "type": "\"integer\""
        },
        {
         "metadata": "{}",
         "name": "peak_chart",
         "type": "\"integer\""
        },
        {
         "metadata": "{}",
         "name": "sales_success",
         "type": "\"string\""
        },
        {
         "metadata": "{}",
         "name": "release_year",
         "type": "\"integer\""
        },
        {
         "metadata": "{}",
         "name": "days_since_release",
         "type": "\"integer\""
        },
        {
         "metadata": "{}",
         "name": "cumulative_sales_dist",
         "type": "\"double\""
        },
        {
         "metadata": "{}",
         "name": "running_total_sales",
         "type": "\"long\""
        }
       ],
       "type": "table"
      }
     },
     "output_type": "display_data"
    }
   ],
   "source": [
    "windowSpec = Window.partitionBy(\"artist\").orderBy(\"date\").rowsBetween(Window.unboundedPreceding, 0)\n",
    "\n",
    "# Calculate the running total of sales for each artist over time\n",
    "df = df.withColumn(\"running_total_sales\", sum(\"sales\").over(windowSpec))\n",
    "display(df)"
   ]
  },
  {
   "cell_type": "code",
   "execution_count": 0,
   "metadata": {
    "application/vnd.databricks.v1+cell": {
     "cellMetadata": {
      "byteLimit": 2048000,
      "rowLimit": 10000
     },
     "inputWidgets": {},
     "nuid": "c1e5ae47-2af3-4e10-bf1f-e447da752a7f",
     "showTitle": false,
     "tableResultSettingsMap": {},
     "title": ""
    }
   },
   "outputs": [
    {
     "output_type": "display_data",
     "data": {
      "text/html": [
       "<style scoped>\n",
       "  .table-result-container {\n",
       "    max-height: 300px;\n",
       "    overflow: auto;\n",
       "  }\n",
       "  table, th, td {\n",
       "    border: 1px solid black;\n",
       "    border-collapse: collapse;\n",
       "  }\n",
       "  th, td {\n",
       "    padding: 5px;\n",
       "  }\n",
       "  th {\n",
       "    text-align: left;\n",
       "  }\n",
       "</style><div class='table-result-container'><table class='table-result'><thead style='background-color: white'><tr><th>Artist</th><th>title</th><th>date</th><th>country</th><th>sales</th><th>peak_chart</th><th>sales_success</th><th>release_year</th><th>days_since_release</th><th>cumulative_sales_dist</th><th>running_total_sales</th><th>sales_per_day</th></tr></thead><tbody><tr><td>(G)I-dle</td><td>I Am</td><td>2018-05-02</td><td>KOR</td><td>51831</td><td>6</td><td>moderate</td><td>2018</td><td>2708</td><td>0.4</td><td>51831</td><td>19.0</td></tr><tr><td>(G)I-dle</td><td>I Made</td><td>2019-02-26</td><td>KOR</td><td>51041</td><td>2</td><td>moderate</td><td>2019</td><td>2408</td><td>0.2</td><td>102872</td><td>21.0</td></tr><tr><td>(G)I-dle</td><td>Latata</td><td>2019-07-29</td><td>JPN</td><td>8229</td><td>5</td><td>low</td><td>2019</td><td>2255</td><td>1.0</td><td>111101</td><td>4.0</td></tr><tr><td>(G)I-dle</td><td>I Trust</td><td>2020-04-06</td><td>JPN</td><td>1380</td><td>48</td><td>low</td><td>2020</td><td>2003</td><td>0.3333333333333333</td><td>112481</td><td>1.0</td></tr><tr><td>(G)I-dle</td><td>I Trust</td><td>2020-04-06</td><td>KOR</td><td>154499</td><td>1</td><td>high</td><td>2020</td><td>2003</td><td>0.8</td><td>266980</td><td>77.0</td></tr><tr><td>(G)I-dle</td><td>Dumdi Dumdi</td><td>2020-08-03</td><td>CHN</td><td>182749</td><td>0</td><td>high</td><td>2020</td><td>1884</td><td>1.0</td><td>449729</td><td>97.0</td></tr><tr><td>(G)I-dle</td><td>Dumdi Dumdi</td><td>2020-08-03</td><td>KOR</td><td>125801</td><td>2</td><td>high</td><td>2020</td><td>1884</td><td>0.6</td><td>575530</td><td>67.0</td></tr><tr><td>(G)I-dle</td><td>Oh My God</td><td>2020-08-26</td><td>JPN</td><td>4229</td><td>23</td><td>low</td><td>2020</td><td>1861</td><td>0.6666666666666666</td><td>579759</td><td>2.0</td></tr><tr><td>(G)I-dle</td><td>I Burn</td><td>2021-01-11</td><td>KOR</td><td>207927</td><td>3</td><td>high</td><td>2021</td><td>1723</td><td>1.0</td><td>787686</td><td>121.0</td></tr><tr><td>Ateez</td><td>Treasure EP.1: All to Zero</td><td>2018-10-24</td><td>KOR</td><td>85109</td><td>7</td><td>moderate</td><td>2018</td><td>2533</td><td>0.14285714285714285</td><td>85109</td><td>34.0</td></tr><tr><td>Ateez</td><td>Treasure EP.2: Zero to One</td><td>2019-01-15</td><td>KOR</td><td>100039</td><td>6</td><td>high</td><td>2019</td><td>2450</td><td>0.2857142857142857</td><td>185148</td><td>41.0</td></tr><tr><td>Ateez</td><td>Treasure EP.3: One to All</td><td>2019-06-10</td><td>JPN</td><td>2896</td><td>25</td><td>low</td><td>2019</td><td>2304</td><td>0.2857142857142857</td><td>188044</td><td>1.0</td></tr><tr><td>Ateez</td><td>Treasure EP.3: One to All</td><td>2019-06-10</td><td>KOR</td><td>180121</td><td>2</td><td>high</td><td>2019</td><td>2304</td><td>0.42857142857142855</td><td>368165</td><td>78.0</td></tr><tr><td>Ateez</td><td>Treasure EP.Fin: All to Action</td><td>2019-10-08</td><td>KOR</td><td>209316</td><td>1</td><td>high</td><td>2019</td><td>2184</td><td>0.7142857142857143</td><td>577481</td><td>96.0</td></tr><tr><td>Ateez</td><td>Treasure EP.Extra: Shift the Map</td><td>2019-12-04</td><td>JPN</td><td>13113</td><td>9</td><td>low</td><td>2019</td><td>2127</td><td>0.8571428571428571</td><td>590594</td><td>6.0</td></tr><tr><td>Ateez</td><td>Treasure Epilogue: Action to Answer</td><td>2020-01-06</td><td>JPN</td><td>1472</td><td>31</td><td>low</td><td>2020</td><td>2094</td><td>0.14285714285714285</td><td>592066</td><td>1.0</td></tr><tr><td>Ateez</td><td>Treasure Epilogue: Action to Answer</td><td>2020-01-06</td><td>KOR</td><td>184339</td><td>1</td><td>high</td><td>2020</td><td>2094</td><td>0.5714285714285714</td><td>776405</td><td>88.0</td></tr><tr><td>Ateez</td><td>Treasure EP. Map to Answer</td><td>2020-02-12</td><td>JPN</td><td>18720</td><td>3</td><td>low</td><td>2020</td><td>2057</td><td>1.0</td><td>795125</td><td>9.0</td></tr><tr><td>Ateez</td><td>Zero: Fever Part.1</td><td>2020-07-29</td><td>JPN</td><td>11324</td><td>35</td><td>low</td><td>2020</td><td>1889</td><td>0.7142857142857143</td><td>806449</td><td>6.0</td></tr><tr><td>Ateez</td><td>Zero: Fever Part.1</td><td>2020-07-29</td><td>KOR</td><td>379505</td><td>1</td><td>high</td><td>2020</td><td>1889</td><td>0.8571428571428571</td><td>1185954</td><td>201.0</td></tr><tr><td>Ateez</td><td>Zero: Fever Part.2</td><td>2021-03-01</td><td>JPN</td><td>11027</td><td>10</td><td>low</td><td>2021</td><td>1674</td><td>0.5714285714285714</td><td>1196981</td><td>7.0</td></tr><tr><td>Ateez</td><td>Zero: Fever Part.2</td><td>2021-03-01</td><td>KOR</td><td>380711</td><td>1</td><td>high</td><td>2021</td><td>1674</td><td>1.0</td><td>1577692</td><td>227.0</td></tr><tr><td>Ateez</td><td>Into the A to Z</td><td>2021-03-24</td><td>JPN</td><td>10813</td><td>6</td><td>low</td><td>2021</td><td>1651</td><td>0.42857142857142855</td><td>1588505</td><td>7.0</td></tr><tr><td>Cravity</td><td>Season 1. Hideout: Remember Who We Are</td><td>2020-04-14</td><td>JPN</td><td>7304</td><td>10</td><td>low</td><td>2020</td><td>1995</td><td>1.0</td><td>7304</td><td>4.0</td></tr><tr><td>Cravity</td><td>Season 1. Hideout: Remember Who We Are</td><td>2020-04-14</td><td>KOR</td><td>154360</td><td>1</td><td>high</td><td>2020</td><td>1995</td><td>1.0</td><td>161664</td><td>77.0</td></tr><tr><td>Everglow</td><td>Arrival of Everglow</td><td>2019-03-18</td><td>KOR</td><td>28033</td><td>6</td><td>low</td><td>2019</td><td>2388</td><td>0.25</td><td>28033</td><td>12.0</td></tr><tr><td>Everglow</td><td>Hush</td><td>2019-08-19</td><td>KOR</td><td>28639</td><td>5</td><td>low</td><td>2019</td><td>2234</td><td>0.5</td><td>56672</td><td>13.0</td></tr><tr><td>Everglow</td><td>Reminiscence</td><td>2020-02-03</td><td>JPN</td><td>1649</td><td>48</td><td>low</td><td>2020</td><td>2066</td><td>1.0</td><td>58321</td><td>1.0</td></tr><tr><td>Everglow</td><td>Reminiscence</td><td>2020-02-03</td><td>KOR</td><td>30912</td><td>4</td><td>low</td><td>2020</td><td>2066</td><td>0.75</td><td>89233</td><td>15.0</td></tr><tr><td>Everglow</td><td>-77.82X-78.29</td><td>2020-09-21</td><td>KOR</td><td>49388</td><td>4</td><td>low</td><td>2020</td><td>1835</td><td>1.0</td><td>138621</td><td>27.0</td></tr><tr><td>ITZY</td><td>It'z Icy</td><td>2019-05-29</td><td>JPN</td><td>15742</td><td>12</td><td>low</td><td>2019</td><td>2316</td><td>1.0</td><td>15742</td><td>7.0</td></tr><tr><td>ITZY</td><td>It'z Icy</td><td>2019-05-29</td><td>KOR</td><td>149349</td><td>3</td><td>high</td><td>2019</td><td>2316</td><td>0.3333333333333333</td><td>165091</td><td>64.0</td></tr><tr><td>ITZY</td><td>It'z Me</td><td>2020-03-09</td><td>JPN</td><td>10882</td><td>13</td><td>low</td><td>2020</td><td>2031</td><td>0.3333333333333333</td><td>175973</td><td>5.0</td></tr><tr><td>ITZY</td><td>It'z Me</td><td>2020-03-09</td><td>KOR</td><td>150851</td><td>1</td><td>high</td><td>2020</td><td>2031</td><td>0.6666666666666666</td><td>326824</td><td>74.0</td></tr><tr><td>ITZY</td><td>Not Shy</td><td>2020-08-17</td><td>JPN</td><td>14201</td><td>8</td><td>low</td><td>2020</td><td>1870</td><td>0.6666666666666666</td><td>341025</td><td>8.0</td></tr><tr><td>ITZY</td><td>Not Shy</td><td>2020-08-17</td><td>KOR</td><td>219048</td><td>1</td><td>high</td><td>2020</td><td>1870</td><td>1.0</td><td>560073</td><td>117.0</td></tr><tr><td>IZONE</td><td>Color*Iz</td><td>2018-10-29</td><td>JPN</td><td>null</td><td>1</td><td>very high</td><td>2018</td><td>2528</td><td>0.2</td><td>null</td><td>null</td></tr><tr><td>IZONE</td><td>Color*Iz</td><td>2018-10-29</td><td>KOR</td><td>282816</td><td>2</td><td>high</td><td>2018</td><td>2528</td><td>0.2</td><td>282816</td><td>112.0</td></tr><tr><td>IZONE</td><td>Bloom*iz</td><td>2020-02-17</td><td>JPN</td><td>23960</td><td>3</td><td>low</td><td>2020</td><td>2052</td><td>0.6</td><td>306776</td><td>12.0</td></tr><tr><td>IZONE</td><td>Bloom*iz</td><td>2020-02-17</td><td>KOR</td><td>492504</td><td>2</td><td>high</td><td>2020</td><td>2052</td><td>0.8</td><td>799280</td><td>240.0</td></tr><tr><td>IZONE</td><td>Heart*Iz</td><td>2020-04-01</td><td>JPN</td><td>40065</td><td>4</td><td>low</td><td>2020</td><td>2008</td><td>0.8</td><td>839345</td><td>20.0</td></tr><tr><td>IZONE</td><td>Heart*Iz</td><td>2020-04-01</td><td>KOR</td><td>306812</td><td>1</td><td>high</td><td>2020</td><td>2008</td><td>0.4</td><td>1146157</td><td>153.0</td></tr><tr><td>IZONE</td><td>Oneiric Diary</td><td>2020-06-15</td><td>JPN</td><td>19928</td><td>8</td><td>low</td><td>2020</td><td>1933</td><td>0.4</td><td>1166085</td><td>10.0</td></tr><tr><td>IZONE</td><td>Oneiric Diary</td><td>2020-06-15</td><td>KOR</td><td>559138</td><td>2</td><td>very high</td><td>2020</td><td>1933</td><td>1.0</td><td>1725223</td><td>289.0</td></tr><tr><td>IZONE</td><td>TWELVE</td><td>2020-10-21</td><td>JPN</td><td>135113</td><td>1</td><td>high</td><td>2020</td><td>1805</td><td>1.0</td><td>1860336</td><td>75.0</td></tr><tr><td>IZONE</td><td>One-reeler/Act IV</td><td>2020-12-07</td><td>KOR</td><td>447749</td><td>1</td><td>high</td><td>2020</td><td>1758</td><td>0.6</td><td>2308085</td><td>255.0</td></tr><tr><td>Loona</td><td>Love & Live</td><td>2017-03-13</td><td>KOR</td><td>7130</td><td>10</td><td>low</td><td>2017</td><td>3123</td><td>0.2222222222222222</td><td>7130</td><td>2.0</td></tr><tr><td>Loona</td><td>Love & Evil</td><td>2017-04-27</td><td>KOR</td><td>5924</td><td>24</td><td>low</td><td>2017</td><td>3078</td><td>0.1111111111111111</td><td>13054</td><td>2.0</td></tr><tr><td>Loona</td><td>Mix & Match</td><td>2017-09-21</td><td>KOR</td><td>7869</td><td>16</td><td>low</td><td>2017</td><td>2931</td><td>0.3333333333333333</td><td>20923</td><td>3.0</td></tr><tr><td>Loona</td><td>Max & Match </td><td>2017-10-31</td><td>KOR</td><td>11136</td><td>7</td><td>low</td><td>2017</td><td>2891</td><td>0.4444444444444444</td><td>32059</td><td>4.0</td></tr><tr><td>Loona</td><td>beauty&thebeat</td><td>2018-05-30</td><td>KOR</td><td>18138</td><td>4</td><td>low</td><td>2018</td><td>2680</td><td>0.5555555555555556</td><td>50197</td><td>7.0</td></tr><tr><td>Loona</td><td>[ + +]</td><td>2018-08-20</td><td>KOR</td><td>61466</td><td>2</td><td>moderate</td><td>2018</td><td>2598</td><td>0.7777777777777778</td><td>111663</td><td>24.0</td></tr><tr><td>Loona</td><td>[x x]</td><td>2019-02-19</td><td>KOR</td><td>45782</td><td>3</td><td>low</td><td>2019</td><td>2415</td><td>0.6666666666666666</td><td>157445</td><td>19.0</td></tr><tr><td>Loona</td><td>[#]</td><td>2020-02-05</td><td>KOR</td><td>83522</td><td>2</td><td>moderate</td><td>2020</td><td>2064</td><td>0.8888888888888888</td><td>240967</td><td>40.0</td></tr><tr><td>Loona</td><td>[12:00]</td><td>2020-10-19</td><td>KOR</td><td>116614</td><td>4</td><td>high</td><td>2020</td><td>1807</td><td>1.0</td><td>357581</td><td>65.0</td></tr><tr><td>Stray Kids</td><td>Mixtape</td><td>2018-01-08</td><td>JPN</td><td>1063</td><td>47</td><td>low</td><td>2018</td><td>2822</td><td>0.1111111111111111</td><td>1063</td><td>0.0</td></tr><tr><td>Stray Kids</td><td>Mixtape</td><td>2018-01-08</td><td>KOR</td><td>118921</td><td>2</td><td>high</td><td>2018</td><td>2822</td><td>0.125</td><td>119984</td><td>42.0</td></tr><tr><td>Stray Kids</td><td>I Am Not</td><td>2018-03-26</td><td>JPN</td><td>2036</td><td>0</td><td>low</td><td>2018</td><td>2745</td><td>0.3333333333333333</td><td>122020</td><td>1.0</td></tr><tr><td>Stray Kids</td><td>I Am Not</td><td>2018-03-26</td><td>KOR</td><td>159343</td><td>4</td><td>high</td><td>2018</td><td>2745</td><td>0.25</td><td>281363</td><td>58.0</td></tr><tr><td>Stray Kids</td><td>I Am Who</td><td>2018-08-06</td><td>JPN</td><td>1474</td><td>34</td><td>low</td><td>2018</td><td>2612</td><td>0.2222222222222222</td><td>282837</td><td>1.0</td></tr><tr><td>Stray Kids</td><td>I Am Who</td><td>2018-08-06</td><td>KOR</td><td>185273</td><td>3</td><td>high</td><td>2018</td><td>2612</td><td>0.375</td><td>468110</td><td>71.0</td></tr><tr><td>Stray Kids</td><td>I Am You</td><td>2018-10-22</td><td>JPN</td><td>2234</td><td>34</td><td>low</td><td>2018</td><td>2535</td><td>0.4444444444444444</td><td>470344</td><td>1.0</td></tr><tr><td>Stray Kids</td><td>I Am You</td><td>2018-10-22</td><td>KOR</td><td>189129</td><td>2</td><td>high</td><td>2018</td><td>2535</td><td>0.5</td><td>659473</td><td>75.0</td></tr><tr><td>Stray Kids</td><td>Miroh</td><td>2019-03-25</td><td>JPN</td><td>5856</td><td>15</td><td>low</td><td>2019</td><td>2381</td><td>0.6666666666666666</td><td>665329</td><td>2.0</td></tr><tr><td>Stray Kids</td><td>Miroh</td><td>2019-03-25</td><td>KOR</td><td>226383</td><td>1</td><td>high</td><td>2019</td><td>2381</td><td>0.75</td><td>891712</td><td>95.0</td></tr><tr><td>Stray Kids</td><td>Yellow Wood</td><td>2019-06-19</td><td>JPN</td><td>3379</td><td>17</td><td>low</td><td>2019</td><td>2295</td><td>0.5555555555555556</td><td>895091</td><td>1.0</td></tr><tr><td>Stray Kids</td><td>Yellow Wood</td><td>2019-06-19</td><td>KOR</td><td>192796</td><td>2</td><td>high</td><td>2019</td><td>2295</td><td>0.625</td><td>1087887</td><td>84.0</td></tr><tr><td>Stray Kids</td><td>Levanter</td><td>2019-12-09</td><td>JPN</td><td>9116</td><td>17</td><td>low</td><td>2019</td><td>2122</td><td>0.7777777777777778</td><td>1097003</td><td>4.0</td></tr><tr><td>Stray Kids</td><td>Levanter</td><td>2019-12-09</td><td>KOR</td><td>247074</td><td>1</td><td>high</td><td>2019</td><td>2122</td><td>0.875</td><td>1344077</td><td>116.0</td></tr><tr><td>Stray Kids</td><td>In Life</td><td>2020-09-14</td><td>JPN</td><td>39911</td><td>11</td><td>low</td><td>2020</td><td>1842</td><td>0.8888888888888888</td><td>1383988</td><td>22.0</td></tr><tr><td>Stray Kids</td><td>In Life</td><td>2020-09-14</td><td>KOR</td><td>473616</td><td>1</td><td>high</td><td>2020</td><td>1842</td><td>1.0</td><td>1857604</td><td>257.0</td></tr><tr><td>Stray Kids</td><td>All In</td><td>2020-11-04</td><td>JPN</td><td>59361</td><td>2</td><td>moderate</td><td>2020</td><td>1791</td><td>1.0</td><td>1916965</td><td>33.0</td></tr><tr><td>TXT</td><td>Star</td><td>2019-03-04</td><td>JPN</td><td>26176</td><td>3</td><td>low</td><td>2019</td><td>2402</td><td>0.4</td><td>26176</td><td>11.0</td></tr><tr><td>TXT</td><td>Star</td><td>2019-03-04</td><td>KOR</td><td>278846</td><td>1</td><td>high</td><td>2019</td><td>2402</td><td>0.25</td><td>305022</td><td>116.0</td></tr><tr><td>TXT</td><td>Magic</td><td>2019-10-21</td><td>JPN</td><td>14296</td><td>11</td><td>low</td><td>2019</td><td>2171</td><td>0.2</td><td>319318</td><td>7.0</td></tr><tr><td>TXT</td><td>Magic</td><td>2019-10-21</td><td>KOR</td><td>300910</td><td>1</td><td>high</td><td>2019</td><td>2171</td><td>0.5</td><td>620228</td><td>139.0</td></tr><tr><td>TXT</td><td>Eternity</td><td>2020-05-18</td><td>JPN</td><td>38814</td><td>1</td><td>low</td><td>2020</td><td>1961</td><td>0.6</td><td>659042</td><td>20.0</td></tr><tr><td>TXT</td><td>Eternity</td><td>2020-05-18</td><td>KOR</td><td>379053</td><td>2</td><td>high</td><td>2020</td><td>1961</td><td>0.75</td><td>1038095</td><td>193.0</td></tr><tr><td>TXT</td><td>Blue Hour</td><td>2020-10-26</td><td>JPN</td><td>43870</td><td>1</td><td>low</td><td>2020</td><td>1800</td><td>0.8</td><td>1081965</td><td>24.0</td></tr><tr><td>TXT</td><td>Blue Hour</td><td>2020-10-26</td><td>KOR</td><td>508626</td><td>1</td><td>very high</td><td>2020</td><td>1800</td><td>1.0</td><td>1590591</td><td>283.0</td></tr><tr><td>TXT</td><td>Still Dreaming</td><td>2021-01-20</td><td>JPN</td><td>102041</td><td>1</td><td>high</td><td>2021</td><td>1714</td><td>1.0</td><td>1692632</td><td>60.0</td></tr><tr><td>Treasure</td><td>Chapter One</td><td>2020-08-07</td><td>KOR</td><td>250000</td><td>1</td><td>high</td><td>2020</td><td>1880</td><td>0.75</td><td>250000</td><td>133.0</td></tr><tr><td>Treasure</td><td>Chapter Two</td><td>2020-09-18</td><td>KOR</td><td>239326</td><td>2</td><td>high</td><td>2020</td><td>1838</td><td>0.5</td><td>489326</td><td>130.0</td></tr><tr><td>Treasure</td><td>Chapter Three</td><td>2020-11-06</td><td>KOR</td><td>232134</td><td>1</td><td>high</td><td>2020</td><td>1789</td><td>0.25</td><td>721460</td><td>130.0</td></tr><tr><td>Treasure</td><td>Treasure Effect</td><td>2021-01-11</td><td>JPN</td><td>83755</td><td>1</td><td>moderate</td><td>2021</td><td>1723</td><td>1.0</td><td>805215</td><td>49.0</td></tr><tr><td>Treasure</td><td>Treasure Effect</td><td>2021-01-11</td><td>KOR</td><td>307457</td><td>1</td><td>high</td><td>2021</td><td>1723</td><td>1.0</td><td>1112672</td><td>178.0</td></tr><tr><td>Verivery</td><td>Veri-Able</td><td>2019-04-24</td><td>KOR</td><td>17630</td><td>6</td><td>low</td><td>2019</td><td>2351</td><td>0.3333333333333333</td><td>17630</td><td>7.0</td></tr><tr><td>Verivery</td><td>Veri-Chill</td><td>2019-07-31</td><td>KOR</td><td>16698</td><td>10</td><td>low</td><td>2019</td><td>2253</td><td>0.16666666666666666</td><td>34328</td><td>7.0</td></tr><tr><td>Verivery</td><td>Face Me</td><td>2020-01-07</td><td>KOR</td><td>28440</td><td>4</td><td>low</td><td>2020</td><td>2093</td><td>0.5</td><td>62768</td><td>14.0</td></tr><tr><td>Verivery</td><td>Face You</td><td>2020-07-01</td><td>KOR</td><td>39626</td><td>8</td><td>low</td><td>2020</td><td>1917</td><td>0.6666666666666666</td><td>102394</td><td>21.0</td></tr><tr><td>Verivery</td><td>Face Us</td><td>2020-10-13</td><td>KOR</td><td>59704</td><td>7</td><td>moderate</td><td>2020</td><td>1813</td><td>1.0</td><td>162098</td><td>33.0</td></tr><tr><td>Verivery</td><td>Series 'O' Round 1: Hall</td><td>2021-03-02</td><td>KOR</td><td>49999</td><td>4</td><td>low</td><td>2021</td><td>1673</td><td>0.8333333333333334</td><td>212097</td><td>30.0</td></tr></tbody></table></div>"
      ]
     },
     "metadata": {
      "application/vnd.databricks.v1+output": {
       "addedWidgets": {},
       "aggData": [],
       "aggError": "",
       "aggOverflow": false,
       "aggSchema": [],
       "aggSeriesLimitReached": false,
       "aggType": "",
       "arguments": {},
       "columnCustomDisplayInfos": {},
       "data": [
        [
         "(G)I-dle",
         "I Am",
         "2018-05-02",
         "KOR",
         51831,
         6,
         "moderate",
         2018,
         2708,
         0.4,
         51831,
         19.0
        ],
        [
         "(G)I-dle",
         "I Made",
         "2019-02-26",
         "KOR",
         51041,
         2,
         "moderate",
         2019,
         2408,
         0.2,
         102872,
         21.0
        ],
        [
         "(G)I-dle",
         "Latata",
         "2019-07-29",
         "JPN",
         8229,
         5,
         "low",
         2019,
         2255,
         1.0,
         111101,
         4.0
        ],
        [
         "(G)I-dle",
         "I Trust",
         "2020-04-06",
         "JPN",
         1380,
         48,
         "low",
         2020,
         2003,
         0.3333333333333333,
         112481,
         1.0
        ],
        [
         "(G)I-dle",
         "I Trust",
         "2020-04-06",
         "KOR",
         154499,
         1,
         "high",
         2020,
         2003,
         0.8,
         266980,
         77.0
        ],
        [
         "(G)I-dle",
         "Dumdi Dumdi",
         "2020-08-03",
         "CHN",
         182749,
         0,
         "high",
         2020,
         1884,
         1.0,
         449729,
         97.0
        ],
        [
         "(G)I-dle",
         "Dumdi Dumdi",
         "2020-08-03",
         "KOR",
         125801,
         2,
         "high",
         2020,
         1884,
         0.6,
         575530,
         67.0
        ],
        [
         "(G)I-dle",
         "Oh My God",
         "2020-08-26",
         "JPN",
         4229,
         23,
         "low",
         2020,
         1861,
         0.6666666666666666,
         579759,
         2.0
        ],
        [
         "(G)I-dle",
         "I Burn",
         "2021-01-11",
         "KOR",
         207927,
         3,
         "high",
         2021,
         1723,
         1.0,
         787686,
         121.0
        ],
        [
         "Ateez",
         "Treasure EP.1: All to Zero",
         "2018-10-24",
         "KOR",
         85109,
         7,
         "moderate",
         2018,
         2533,
         0.14285714285714285,
         85109,
         34.0
        ],
        [
         "Ateez",
         "Treasure EP.2: Zero to One",
         "2019-01-15",
         "KOR",
         100039,
         6,
         "high",
         2019,
         2450,
         0.2857142857142857,
         185148,
         41.0
        ],
        [
         "Ateez",
         "Treasure EP.3: One to All",
         "2019-06-10",
         "JPN",
         2896,
         25,
         "low",
         2019,
         2304,
         0.2857142857142857,
         188044,
         1.0
        ],
        [
         "Ateez",
         "Treasure EP.3: One to All",
         "2019-06-10",
         "KOR",
         180121,
         2,
         "high",
         2019,
         2304,
         0.42857142857142855,
         368165,
         78.0
        ],
        [
         "Ateez",
         "Treasure EP.Fin: All to Action",
         "2019-10-08",
         "KOR",
         209316,
         1,
         "high",
         2019,
         2184,
         0.7142857142857143,
         577481,
         96.0
        ],
        [
         "Ateez",
         "Treasure EP.Extra: Shift the Map",
         "2019-12-04",
         "JPN",
         13113,
         9,
         "low",
         2019,
         2127,
         0.8571428571428571,
         590594,
         6.0
        ],
        [
         "Ateez",
         "Treasure Epilogue: Action to Answer",
         "2020-01-06",
         "JPN",
         1472,
         31,
         "low",
         2020,
         2094,
         0.14285714285714285,
         592066,
         1.0
        ],
        [
         "Ateez",
         "Treasure Epilogue: Action to Answer",
         "2020-01-06",
         "KOR",
         184339,
         1,
         "high",
         2020,
         2094,
         0.5714285714285714,
         776405,
         88.0
        ],
        [
         "Ateez",
         "Treasure EP. Map to Answer",
         "2020-02-12",
         "JPN",
         18720,
         3,
         "low",
         2020,
         2057,
         1.0,
         795125,
         9.0
        ],
        [
         "Ateez",
         "Zero: Fever Part.1",
         "2020-07-29",
         "JPN",
         11324,
         35,
         "low",
         2020,
         1889,
         0.7142857142857143,
         806449,
         6.0
        ],
        [
         "Ateez",
         "Zero: Fever Part.1",
         "2020-07-29",
         "KOR",
         379505,
         1,
         "high",
         2020,
         1889,
         0.8571428571428571,
         1185954,
         201.0
        ],
        [
         "Ateez",
         "Zero: Fever Part.2",
         "2021-03-01",
         "JPN",
         11027,
         10,
         "low",
         2021,
         1674,
         0.5714285714285714,
         1196981,
         7.0
        ],
        [
         "Ateez",
         "Zero: Fever Part.2",
         "2021-03-01",
         "KOR",
         380711,
         1,
         "high",
         2021,
         1674,
         1.0,
         1577692,
         227.0
        ],
        [
         "Ateez",
         "Into the A to Z",
         "2021-03-24",
         "JPN",
         10813,
         6,
         "low",
         2021,
         1651,
         0.42857142857142855,
         1588505,
         7.0
        ],
        [
         "Cravity",
         "Season 1. Hideout: Remember Who We Are",
         "2020-04-14",
         "JPN",
         7304,
         10,
         "low",
         2020,
         1995,
         1.0,
         7304,
         4.0
        ],
        [
         "Cravity",
         "Season 1. Hideout: Remember Who We Are",
         "2020-04-14",
         "KOR",
         154360,
         1,
         "high",
         2020,
         1995,
         1.0,
         161664,
         77.0
        ],
        [
         "Everglow",
         "Arrival of Everglow",
         "2019-03-18",
         "KOR",
         28033,
         6,
         "low",
         2019,
         2388,
         0.25,
         28033,
         12.0
        ],
        [
         "Everglow",
         "Hush",
         "2019-08-19",
         "KOR",
         28639,
         5,
         "low",
         2019,
         2234,
         0.5,
         56672,
         13.0
        ],
        [
         "Everglow",
         "Reminiscence",
         "2020-02-03",
         "JPN",
         1649,
         48,
         "low",
         2020,
         2066,
         1.0,
         58321,
         1.0
        ],
        [
         "Everglow",
         "Reminiscence",
         "2020-02-03",
         "KOR",
         30912,
         4,
         "low",
         2020,
         2066,
         0.75,
         89233,
         15.0
        ],
        [
         "Everglow",
         "-77.82X-78.29",
         "2020-09-21",
         "KOR",
         49388,
         4,
         "low",
         2020,
         1835,
         1.0,
         138621,
         27.0
        ],
        [
         "ITZY",
         "It'z Icy",
         "2019-05-29",
         "JPN",
         15742,
         12,
         "low",
         2019,
         2316,
         1.0,
         15742,
         7.0
        ],
        [
         "ITZY",
         "It'z Icy",
         "2019-05-29",
         "KOR",
         149349,
         3,
         "high",
         2019,
         2316,
         0.3333333333333333,
         165091,
         64.0
        ],
        [
         "ITZY",
         "It'z Me",
         "2020-03-09",
         "JPN",
         10882,
         13,
         "low",
         2020,
         2031,
         0.3333333333333333,
         175973,
         5.0
        ],
        [
         "ITZY",
         "It'z Me",
         "2020-03-09",
         "KOR",
         150851,
         1,
         "high",
         2020,
         2031,
         0.6666666666666666,
         326824,
         74.0
        ],
        [
         "ITZY",
         "Not Shy",
         "2020-08-17",
         "JPN",
         14201,
         8,
         "low",
         2020,
         1870,
         0.6666666666666666,
         341025,
         8.0
        ],
        [
         "ITZY",
         "Not Shy",
         "2020-08-17",
         "KOR",
         219048,
         1,
         "high",
         2020,
         1870,
         1.0,
         560073,
         117.0
        ],
        [
         "IZONE",
         "Color*Iz",
         "2018-10-29",
         "JPN",
         null,
         1,
         "very high",
         2018,
         2528,
         0.2,
         null,
         null
        ],
        [
         "IZONE",
         "Color*Iz",
         "2018-10-29",
         "KOR",
         282816,
         2,
         "high",
         2018,
         2528,
         0.2,
         282816,
         112.0
        ],
        [
         "IZONE",
         "Bloom*iz",
         "2020-02-17",
         "JPN",
         23960,
         3,
         "low",
         2020,
         2052,
         0.6,
         306776,
         12.0
        ],
        [
         "IZONE",
         "Bloom*iz",
         "2020-02-17",
         "KOR",
         492504,
         2,
         "high",
         2020,
         2052,
         0.8,
         799280,
         240.0
        ],
        [
         "IZONE",
         "Heart*Iz",
         "2020-04-01",
         "JPN",
         40065,
         4,
         "low",
         2020,
         2008,
         0.8,
         839345,
         20.0
        ],
        [
         "IZONE",
         "Heart*Iz",
         "2020-04-01",
         "KOR",
         306812,
         1,
         "high",
         2020,
         2008,
         0.4,
         1146157,
         153.0
        ],
        [
         "IZONE",
         "Oneiric Diary",
         "2020-06-15",
         "JPN",
         19928,
         8,
         "low",
         2020,
         1933,
         0.4,
         1166085,
         10.0
        ],
        [
         "IZONE",
         "Oneiric Diary",
         "2020-06-15",
         "KOR",
         559138,
         2,
         "very high",
         2020,
         1933,
         1.0,
         1725223,
         289.0
        ],
        [
         "IZONE",
         "TWELVE",
         "2020-10-21",
         "JPN",
         135113,
         1,
         "high",
         2020,
         1805,
         1.0,
         1860336,
         75.0
        ],
        [
         "IZONE",
         "One-reeler/Act IV",
         "2020-12-07",
         "KOR",
         447749,
         1,
         "high",
         2020,
         1758,
         0.6,
         2308085,
         255.0
        ],
        [
         "Loona",
         "Love & Live",
         "2017-03-13",
         "KOR",
         7130,
         10,
         "low",
         2017,
         3123,
         0.2222222222222222,
         7130,
         2.0
        ],
        [
         "Loona",
         "Love & Evil",
         "2017-04-27",
         "KOR",
         5924,
         24,
         "low",
         2017,
         3078,
         0.1111111111111111,
         13054,
         2.0
        ],
        [
         "Loona",
         "Mix & Match",
         "2017-09-21",
         "KOR",
         7869,
         16,
         "low",
         2017,
         2931,
         0.3333333333333333,
         20923,
         3.0
        ],
        [
         "Loona",
         "Max & Match ",
         "2017-10-31",
         "KOR",
         11136,
         7,
         "low",
         2017,
         2891,
         0.4444444444444444,
         32059,
         4.0
        ],
        [
         "Loona",
         "beauty&thebeat",
         "2018-05-30",
         "KOR",
         18138,
         4,
         "low",
         2018,
         2680,
         0.5555555555555556,
         50197,
         7.0
        ],
        [
         "Loona",
         "[ + +]",
         "2018-08-20",
         "KOR",
         61466,
         2,
         "moderate",
         2018,
         2598,
         0.7777777777777778,
         111663,
         24.0
        ],
        [
         "Loona",
         "[x x]",
         "2019-02-19",
         "KOR",
         45782,
         3,
         "low",
         2019,
         2415,
         0.6666666666666666,
         157445,
         19.0
        ],
        [
         "Loona",
         "[#]",
         "2020-02-05",
         "KOR",
         83522,
         2,
         "moderate",
         2020,
         2064,
         0.8888888888888888,
         240967,
         40.0
        ],
        [
         "Loona",
         "[12:00]",
         "2020-10-19",
         "KOR",
         116614,
         4,
         "high",
         2020,
         1807,
         1.0,
         357581,
         65.0
        ],
        [
         "Stray Kids",
         "Mixtape",
         "2018-01-08",
         "JPN",
         1063,
         47,
         "low",
         2018,
         2822,
         0.1111111111111111,
         1063,
         0.0
        ],
        [
         "Stray Kids",
         "Mixtape",
         "2018-01-08",
         "KOR",
         118921,
         2,
         "high",
         2018,
         2822,
         0.125,
         119984,
         42.0
        ],
        [
         "Stray Kids",
         "I Am Not",
         "2018-03-26",
         "JPN",
         2036,
         0,
         "low",
         2018,
         2745,
         0.3333333333333333,
         122020,
         1.0
        ],
        [
         "Stray Kids",
         "I Am Not",
         "2018-03-26",
         "KOR",
         159343,
         4,
         "high",
         2018,
         2745,
         0.25,
         281363,
         58.0
        ],
        [
         "Stray Kids",
         "I Am Who",
         "2018-08-06",
         "JPN",
         1474,
         34,
         "low",
         2018,
         2612,
         0.2222222222222222,
         282837,
         1.0
        ],
        [
         "Stray Kids",
         "I Am Who",
         "2018-08-06",
         "KOR",
         185273,
         3,
         "high",
         2018,
         2612,
         0.375,
         468110,
         71.0
        ],
        [
         "Stray Kids",
         "I Am You",
         "2018-10-22",
         "JPN",
         2234,
         34,
         "low",
         2018,
         2535,
         0.4444444444444444,
         470344,
         1.0
        ],
        [
         "Stray Kids",
         "I Am You",
         "2018-10-22",
         "KOR",
         189129,
         2,
         "high",
         2018,
         2535,
         0.5,
         659473,
         75.0
        ],
        [
         "Stray Kids",
         "Miroh",
         "2019-03-25",
         "JPN",
         5856,
         15,
         "low",
         2019,
         2381,
         0.6666666666666666,
         665329,
         2.0
        ],
        [
         "Stray Kids",
         "Miroh",
         "2019-03-25",
         "KOR",
         226383,
         1,
         "high",
         2019,
         2381,
         0.75,
         891712,
         95.0
        ],
        [
         "Stray Kids",
         "Yellow Wood",
         "2019-06-19",
         "JPN",
         3379,
         17,
         "low",
         2019,
         2295,
         0.5555555555555556,
         895091,
         1.0
        ],
        [
         "Stray Kids",
         "Yellow Wood",
         "2019-06-19",
         "KOR",
         192796,
         2,
         "high",
         2019,
         2295,
         0.625,
         1087887,
         84.0
        ],
        [
         "Stray Kids",
         "Levanter",
         "2019-12-09",
         "JPN",
         9116,
         17,
         "low",
         2019,
         2122,
         0.7777777777777778,
         1097003,
         4.0
        ],
        [
         "Stray Kids",
         "Levanter",
         "2019-12-09",
         "KOR",
         247074,
         1,
         "high",
         2019,
         2122,
         0.875,
         1344077,
         116.0
        ],
        [
         "Stray Kids",
         "In Life",
         "2020-09-14",
         "JPN",
         39911,
         11,
         "low",
         2020,
         1842,
         0.8888888888888888,
         1383988,
         22.0
        ],
        [
         "Stray Kids",
         "In Life",
         "2020-09-14",
         "KOR",
         473616,
         1,
         "high",
         2020,
         1842,
         1.0,
         1857604,
         257.0
        ],
        [
         "Stray Kids",
         "All In",
         "2020-11-04",
         "JPN",
         59361,
         2,
         "moderate",
         2020,
         1791,
         1.0,
         1916965,
         33.0
        ],
        [
         "TXT",
         "Star",
         "2019-03-04",
         "JPN",
         26176,
         3,
         "low",
         2019,
         2402,
         0.4,
         26176,
         11.0
        ],
        [
         "TXT",
         "Star",
         "2019-03-04",
         "KOR",
         278846,
         1,
         "high",
         2019,
         2402,
         0.25,
         305022,
         116.0
        ],
        [
         "TXT",
         "Magic",
         "2019-10-21",
         "JPN",
         14296,
         11,
         "low",
         2019,
         2171,
         0.2,
         319318,
         7.0
        ],
        [
         "TXT",
         "Magic",
         "2019-10-21",
         "KOR",
         300910,
         1,
         "high",
         2019,
         2171,
         0.5,
         620228,
         139.0
        ],
        [
         "TXT",
         "Eternity",
         "2020-05-18",
         "JPN",
         38814,
         1,
         "low",
         2020,
         1961,
         0.6,
         659042,
         20.0
        ],
        [
         "TXT",
         "Eternity",
         "2020-05-18",
         "KOR",
         379053,
         2,
         "high",
         2020,
         1961,
         0.75,
         1038095,
         193.0
        ],
        [
         "TXT",
         "Blue Hour",
         "2020-10-26",
         "JPN",
         43870,
         1,
         "low",
         2020,
         1800,
         0.8,
         1081965,
         24.0
        ],
        [
         "TXT",
         "Blue Hour",
         "2020-10-26",
         "KOR",
         508626,
         1,
         "very high",
         2020,
         1800,
         1.0,
         1590591,
         283.0
        ],
        [
         "TXT",
         "Still Dreaming",
         "2021-01-20",
         "JPN",
         102041,
         1,
         "high",
         2021,
         1714,
         1.0,
         1692632,
         60.0
        ],
        [
         "Treasure",
         "Chapter One",
         "2020-08-07",
         "KOR",
         250000,
         1,
         "high",
         2020,
         1880,
         0.75,
         250000,
         133.0
        ],
        [
         "Treasure",
         "Chapter Two",
         "2020-09-18",
         "KOR",
         239326,
         2,
         "high",
         2020,
         1838,
         0.5,
         489326,
         130.0
        ],
        [
         "Treasure",
         "Chapter Three",
         "2020-11-06",
         "KOR",
         232134,
         1,
         "high",
         2020,
         1789,
         0.25,
         721460,
         130.0
        ],
        [
         "Treasure",
         "Treasure Effect",
         "2021-01-11",
         "JPN",
         83755,
         1,
         "moderate",
         2021,
         1723,
         1.0,
         805215,
         49.0
        ],
        [
         "Treasure",
         "Treasure Effect",
         "2021-01-11",
         "KOR",
         307457,
         1,
         "high",
         2021,
         1723,
         1.0,
         1112672,
         178.0
        ],
        [
         "Verivery",
         "Veri-Able",
         "2019-04-24",
         "KOR",
         17630,
         6,
         "low",
         2019,
         2351,
         0.3333333333333333,
         17630,
         7.0
        ],
        [
         "Verivery",
         "Veri-Chill",
         "2019-07-31",
         "KOR",
         16698,
         10,
         "low",
         2019,
         2253,
         0.16666666666666666,
         34328,
         7.0
        ],
        [
         "Verivery",
         "Face Me",
         "2020-01-07",
         "KOR",
         28440,
         4,
         "low",
         2020,
         2093,
         0.5,
         62768,
         14.0
        ],
        [
         "Verivery",
         "Face You",
         "2020-07-01",
         "KOR",
         39626,
         8,
         "low",
         2020,
         1917,
         0.6666666666666666,
         102394,
         21.0
        ],
        [
         "Verivery",
         "Face Us",
         "2020-10-13",
         "KOR",
         59704,
         7,
         "moderate",
         2020,
         1813,
         1.0,
         162098,
         33.0
        ],
        [
         "Verivery",
         "Series 'O' Round 1: Hall",
         "2021-03-02",
         "KOR",
         49999,
         4,
         "low",
         2021,
         1673,
         0.8333333333333334,
         212097,
         30.0
        ]
       ],
       "datasetInfos": [],
       "dbfsResultPath": null,
       "isJsonSchema": true,
       "metadata": {},
       "overflow": false,
       "plotOptions": {
        "customPlotOptions": {},
        "displayType": "table",
        "pivotAggregation": null,
        "pivotColumns": null,
        "xColumns": null,
        "yColumns": null
       },
       "removedWidgets": [],
       "schema": [
        {
         "metadata": "{}",
         "name": "Artist",
         "type": "\"string\""
        },
        {
         "metadata": "{}",
         "name": "title",
         "type": "\"string\""
        },
        {
         "metadata": "{\"__detected_date_formats\":\"M/d/yyyy\"}",
         "name": "date",
         "type": "\"date\""
        },
        {
         "metadata": "{}",
         "name": "country",
         "type": "\"string\""
        },
        {
         "metadata": "{}",
         "name": "sales",
         "type": "\"integer\""
        },
        {
         "metadata": "{}",
         "name": "peak_chart",
         "type": "\"integer\""
        },
        {
         "metadata": "{}",
         "name": "sales_success",
         "type": "\"string\""
        },
        {
         "metadata": "{}",
         "name": "release_year",
         "type": "\"integer\""
        },
        {
         "metadata": "{}",
         "name": "days_since_release",
         "type": "\"integer\""
        },
        {
         "metadata": "{}",
         "name": "cumulative_sales_dist",
         "type": "\"double\""
        },
        {
         "metadata": "{}",
         "name": "running_total_sales",
         "type": "\"long\""
        },
        {
         "metadata": "{}",
         "name": "sales_per_day",
         "type": "\"float\""
        }
       ],
       "type": "table"
      }
     },
     "output_type": "display_data"
    }
   ],
   "source": [
    "from pyspark.sql.functions import udf\n",
    "from pyspark.sql.types import FloatType\n",
    "from pyspark.sql.functions import col, round\n",
    "\n",
    "def sales_per_day_udf(x, y):\n",
    "  #x is the number of sales and y is the days since the albums were released\n",
    "    # Check if either x or y is None\n",
    "    if x is None or y is None or y <= 0: # if would return zero if there were no sales or the album was just released\n",
    "        return 0\n",
    "    else:\n",
    "        return float(x) / float(y)\n",
    "    \n",
    "sales_per_day = udf(lambda x,y: sales_per_day_udf(x,y),FloatType()) \n",
    "df = df.withColumn(\"sales_per_day\", round(sales_per_day(df[\"sales\"], df[\"days_since_release\"])))\n",
    "display(df)\n"
   ]
  },
  {
   "cell_type": "markdown",
   "metadata": {
    "application/vnd.databricks.v1+cell": {
     "cellMetadata": {},
     "inputWidgets": {},
     "nuid": "2c4e101b-660d-4d30-bb59-97d1a68630d0",
     "showTitle": false,
     "tableResultSettingsMap": {},
     "title": ""
    }
   },
   "source": [
    "This code trains a linear regression model to predict album sales. It first cleans the data, then combines key factors like chart position, days since release, and total sales into features. The data is split into training and testing sets, the model is trained on the training set, and performance is checked using R-squared and error scores. Finally, it tests the model on new data to see how well it predicts sales."
   ]
  },
  {
   "cell_type": "code",
   "execution_count": 0,
   "metadata": {
    "application/vnd.databricks.v1+cell": {
     "cellMetadata": {
      "byteLimit": 2048000,
      "rowLimit": 10000
     },
     "inputWidgets": {},
     "nuid": "a6f32db9-9361-4584-a3e9-76c4af4c9a45",
     "showTitle": false,
     "tableResultSettingsMap": {},
     "title": ""
    }
   },
   "outputs": [
    {
     "output_type": "stream",
     "name": "stdout",
     "output_type": "stream",
     "text": [
      "R-squared: 0.40971901451637105\nRoot Mean Squared Error: 106837.52332629781\nMean Squared Error: 11414256390.49723\nTest RMSE: 103853.47773406806\n"
     ]
    }
   ],
   "source": [
    "from pyspark.ml.feature import VectorAssembler\n",
    "from pyspark.ml.regression import LinearRegression\n",
    "from pyspark.ml.evaluation import RegressionEvaluator\n",
    "\n",
    "df_cleaned = df.dropna(subset=[\"sales\"])\n",
    "assembler = VectorAssembler(\n",
    "    inputCols=[\"peak_chart\", \"days_since_release\", \"cumulative_sales_dist\", \"running_total_sales\"], \n",
    "    outputCol=\"features\",\n",
    "    handleInvalid=\"skip\"\n",
    ")\n",
    "df_features = assembler.transform(df_cleaned)\n",
    "\n",
    "(trainData, testData) = df_features.randomSplit([0.7, 0.3])\n",
    "lr = LinearRegression(featuresCol=\"features\", labelCol=\"sales\")\n",
    "lrModel = lr.fit(trainData)\n",
    "\n",
    "trainingSummary = lrModel.summary\n",
    "print(f\"R-squared: {trainingSummary.r2}\")\n",
    "print(f\"Root Mean Squared Error: {trainingSummary.rootMeanSquaredError}\")\n",
    "print(f\"Mean Squared Error: {trainingSummary.meanSquaredError}\")\n",
    "\n",
    "predictions = lrModel.transform(testData)\n",
    "evaluator = RegressionEvaluator(labelCol=\"sales\", predictionCol=\"prediction\", metricName=\"rmse\")\n",
    "rmse = evaluator.evaluate(predictions)\n",
    "print(f\"Test RMSE: {rmse}\")"
   ]
  }
 ],
 "metadata": {
  "application/vnd.databricks.v1+notebook": {
   "computePreferences": null,
   "dashboards": [],
   "environmentMetadata": null,
   "inputWidgetPreferences": null,
   "language": "python",
   "notebookMetadata": {
    "pythonIndentUnit": 2
   },
   "notebookName": "Final Project",
   "widgets": {}
  },
  "language_info": {
   "name": "python"
  }
 },
 "nbformat": 4,
 "nbformat_minor": 0
}